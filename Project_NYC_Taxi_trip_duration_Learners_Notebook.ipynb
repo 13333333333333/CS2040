{
  "cells": [
    {
      "cell_type": "markdown",
      "metadata": {
        "id": "view-in-github",
        "colab_type": "text"
      },
      "source": [
        "<a href=\"https://colab.research.google.com/github/13333333333333/CS2040/blob/main/Project_NYC_Taxi_trip_duration_Learners_Notebook.ipynb\" target=\"_parent\"><img src=\"https://colab.research.google.com/assets/colab-badge.svg\" alt=\"Open In Colab\"/></a>"
      ]
    },
    {
      "cell_type": "markdown",
      "metadata": {
        "id": "tTWl_2t_e7l7"
      },
      "source": [
        "# **Project - Predictive Analytics: New York City Taxi Ride Duration Prediction**\n",
        "\n",
        "## **Marks: 40**\n",
        "---------------\n",
        "\n",
        "## **Context**\n",
        "---------------\n",
        "\n",
        "New York City taxi rides form the core of the traffic in the city of New York. The many rides taken every day by New Yorkers in the busy city can give us a great idea of traffic times, road blockages, and so on. A typical taxi company faces a common problem of efficiently assigning the cabs to passengers so that the service is hassle-free. One of the main issues is predicting the duration of the current ride so it can predict when the cab will be free for the next trip. Here the data set contains various information regarding the taxi trips, its duration in New York City. We will apply different techniques here to get insights into the data and determine how different variables are dependent on the Trip Duration.\n",
        "\n",
        "-----------------\n",
        "## **Objective**\n",
        "-----------------\n",
        "\n",
        "- To Build a predictive model, for predicting the duration for the taxi ride. \n",
        "- Use Automated feature engineering to create new features\n",
        "\n",
        "-----------------\n",
        "## **Dataset**\n",
        "-----------------\n",
        "\n",
        "The ``trips`` table has the following fields\n",
        "* ``id`` which uniquely identifies the trip\n",
        "* ``vendor_id`` is the taxi cab company - in our case study we have data from three different cab companies\n",
        "* ``pickup_datetime`` the time stamp for pickup\n",
        "* ``dropoff_datetime`` the time stamp for drop-off\n",
        "* ``passenger_count`` the number of passengers for the trip\n",
        "* ``trip_distance`` total distance of the trip in miles \n",
        "* ``pickup_longitude`` the longitude for pickup\n",
        "* ``pickup_latitude`` the latitude for pickup\n",
        "* ``dropoff_longitude``the longitude of dropoff \n",
        "* ``dropoff_latitude`` the latitude of dropoff\n",
        "* ``payment_type`` a numeric code signifying how the passenger paid for the trip. 1= Credit card 2= Cash 3= No charge 4= Dispute 5= Unknown 6= Voided\n",
        "* ``trip_duration`` this is the duration we would like to predict using other fields \n",
        "* ``pickup_neighborhood`` a one or two letter id of the neighborhood where the trip started\n",
        "* ``dropoff_neighborhood`` a one or two letter id of the neighborhood where the trip ended\n",
        "\n",
        "\n",
        "#### **We will do the following steps:**\n",
        "  * Install the dependencies\n",
        "  * Load the data as pandas dataframe\n",
        "  * Perform EDA on the dataset\n",
        "  * Build features with Deep Feature Synthesis using the [featuretools](https://featuretools.com) package. We will start with simple features and incrementally improve the feature definitions and examine the accuracy of the system"
      ]
    },
    {
      "cell_type": "markdown",
      "metadata": {
        "id": "-hcYKasee7l_"
      },
      "source": [
        "****Uncomment the following code and run it to install the featuretools library****"
      ]
    },
    {
      "cell_type": "code",
      "execution_count": null,
      "metadata": {
        "id": "54a99iG2e7l_",
        "colab": {
          "base_uri": "https://localhost:8080/",
          "height": 844
        },
        "outputId": "1b498bc2-71d4-4758-da9d-6a0100a3ad64"
      },
      "outputs": [
        {
          "output_type": "stream",
          "name": "stdout",
          "text": [
            "Looking in indexes: https://pypi.org/simple, https://us-python.pkg.dev/colab-wheels/public/simple/\n",
            "Collecting featuretools==0.27.0\n",
            "  Downloading featuretools-0.27.0-py3-none-any.whl (327 kB)\n",
            "\u001b[K     |████████████████████████████████| 327 kB 7.3 MB/s \n",
            "\u001b[?25hRequirement already satisfied: numpy>=1.16.6 in /usr/local/lib/python3.7/dist-packages (from featuretools==0.27.0) (1.21.6)\n",
            "Requirement already satisfied: dask[dataframe]>=2.12.0 in /usr/local/lib/python3.7/dist-packages (from featuretools==0.27.0) (2022.2.0)\n",
            "Requirement already satisfied: scipy>=1.3.2 in /usr/local/lib/python3.7/dist-packages (from featuretools==0.27.0) (1.7.3)\n",
            "Requirement already satisfied: distributed>=2.12.0 in /usr/local/lib/python3.7/dist-packages (from featuretools==0.27.0) (2022.2.0)\n",
            "Requirement already satisfied: click>=7.0.0 in /usr/local/lib/python3.7/dist-packages (from featuretools==0.27.0) (7.1.2)\n",
            "Collecting psutil>=5.6.6\n",
            "  Downloading psutil-5.9.2-cp37-cp37m-manylinux_2_12_x86_64.manylinux2010_x86_64.manylinux_2_17_x86_64.manylinux2014_x86_64.whl (281 kB)\n",
            "\u001b[K     |████████████████████████████████| 281 kB 17.4 MB/s \n",
            "\u001b[?25hRequirement already satisfied: tqdm>=4.32.0 in /usr/local/lib/python3.7/dist-packages (from featuretools==0.27.0) (4.64.1)\n",
            "Requirement already satisfied: pandas<2.0.0,>=1.2.0 in /usr/local/lib/python3.7/dist-packages (from featuretools==0.27.0) (1.3.5)\n",
            "Requirement already satisfied: pyyaml>=5.4 in /usr/local/lib/python3.7/dist-packages (from featuretools==0.27.0) (6.0)\n",
            "Requirement already satisfied: cloudpickle>=0.4.0 in /usr/local/lib/python3.7/dist-packages (from featuretools==0.27.0) (1.5.0)\n",
            "Requirement already satisfied: toolz>=0.8.2 in /usr/local/lib/python3.7/dist-packages (from dask[dataframe]>=2.12.0->featuretools==0.27.0) (0.12.0)\n",
            "Requirement already satisfied: fsspec>=0.6.0 in /usr/local/lib/python3.7/dist-packages (from dask[dataframe]>=2.12.0->featuretools==0.27.0) (2022.8.2)\n",
            "Requirement already satisfied: partd>=0.3.10 in /usr/local/lib/python3.7/dist-packages (from dask[dataframe]>=2.12.0->featuretools==0.27.0) (1.3.0)\n",
            "Requirement already satisfied: packaging>=20.0 in /usr/local/lib/python3.7/dist-packages (from dask[dataframe]>=2.12.0->featuretools==0.27.0) (21.3)\n",
            "Requirement already satisfied: setuptools in /usr/local/lib/python3.7/dist-packages (from distributed>=2.12.0->featuretools==0.27.0) (57.4.0)\n",
            "Requirement already satisfied: sortedcontainers!=2.0.0,!=2.0.1 in /usr/local/lib/python3.7/dist-packages (from distributed>=2.12.0->featuretools==0.27.0) (2.4.0)\n",
            "Requirement already satisfied: tblib>=1.6.0 in /usr/local/lib/python3.7/dist-packages (from distributed>=2.12.0->featuretools==0.27.0) (1.7.0)\n",
            "Requirement already satisfied: zict>=0.1.3 in /usr/local/lib/python3.7/dist-packages (from distributed>=2.12.0->featuretools==0.27.0) (2.2.0)\n",
            "Requirement already satisfied: msgpack>=0.6.0 in /usr/local/lib/python3.7/dist-packages (from distributed>=2.12.0->featuretools==0.27.0) (1.0.4)\n",
            "Requirement already satisfied: jinja2 in /usr/local/lib/python3.7/dist-packages (from distributed>=2.12.0->featuretools==0.27.0) (2.11.3)\n",
            "Requirement already satisfied: tornado>=5 in /usr/local/lib/python3.7/dist-packages (from distributed>=2.12.0->featuretools==0.27.0) (5.1.1)\n",
            "Requirement already satisfied: pyparsing!=3.0.5,>=2.0.2 in /usr/local/lib/python3.7/dist-packages (from packaging>=20.0->dask[dataframe]>=2.12.0->featuretools==0.27.0) (3.0.9)\n",
            "Requirement already satisfied: python-dateutil>=2.7.3 in /usr/local/lib/python3.7/dist-packages (from pandas<2.0.0,>=1.2.0->featuretools==0.27.0) (2.8.2)\n",
            "Requirement already satisfied: pytz>=2017.3 in /usr/local/lib/python3.7/dist-packages (from pandas<2.0.0,>=1.2.0->featuretools==0.27.0) (2022.2.1)\n",
            "Requirement already satisfied: locket in /usr/local/lib/python3.7/dist-packages (from partd>=0.3.10->dask[dataframe]>=2.12.0->featuretools==0.27.0) (1.0.0)\n",
            "Requirement already satisfied: six>=1.5 in /usr/local/lib/python3.7/dist-packages (from python-dateutil>=2.7.3->pandas<2.0.0,>=1.2.0->featuretools==0.27.0) (1.15.0)\n",
            "Requirement already satisfied: heapdict in /usr/local/lib/python3.7/dist-packages (from zict>=0.1.3->distributed>=2.12.0->featuretools==0.27.0) (1.0.1)\n",
            "Requirement already satisfied: MarkupSafe>=0.23 in /usr/local/lib/python3.7/dist-packages (from jinja2->distributed>=2.12.0->featuretools==0.27.0) (2.0.1)\n",
            "Installing collected packages: psutil, featuretools\n",
            "  Attempting uninstall: psutil\n",
            "    Found existing installation: psutil 5.4.8\n",
            "    Uninstalling psutil-5.4.8:\n",
            "      Successfully uninstalled psutil-5.4.8\n",
            "Successfully installed featuretools-0.27.0 psutil-5.9.2\n"
          ]
        },
        {
          "output_type": "display_data",
          "data": {
            "application/vnd.colab-display-data+json": {
              "pip_warning": {
                "packages": [
                  "psutil"
                ]
              }
            }
          },
          "metadata": {}
        }
      ],
      "source": [
        "# Uncomment the code given below, and run the line of code to install featuretools library\n",
        "\n",
        "!pip install featuretools==0.27.0"
      ]
    },
    {
      "cell_type": "markdown",
      "metadata": {
        "id": "9AGtC-ike7mA"
      },
      "source": [
        "**Note:** If **!pip install featuretools** doesn't work, please install using the **anaconda prompt** by typing the following command in anaconda prompt\n",
        "> `conda install -c conda-forge featuretools==0.27.0`\n",
        "\n",
        "\n"
      ]
    },
    {
      "cell_type": "markdown",
      "metadata": {
        "id": "Kdk4KAaye7mB"
      },
      "source": [
        "## **Import the necessary libraries**"
      ]
    },
    {
      "cell_type": "code",
      "execution_count": null,
      "metadata": {
        "id": "knjQ7T2ie7mB",
        "colab": {
          "base_uri": "https://localhost:8080/"
        },
        "outputId": "9c383244-3ffb-48ea-c90f-94004b4a0cd5"
      },
      "outputs": [
        {
          "output_type": "stream",
          "name": "stdout",
          "text": [
            "0.27.0\n",
            "The autoreload extension is already loaded. To reload it, use:\n",
            "  %reload_ext autoreload\n"
          ]
        }
      ],
      "source": [
        "# Basic libraries of python for numeric and dataframe computations\n",
        "import numpy as np                              \n",
        "import pandas as pd\n",
        "\n",
        "# Basic library for data visualization\n",
        "import matplotlib.pyplot as plt     \n",
        "\n",
        "# Slightly advanced library for data visualization            \n",
        "import seaborn as sns                          \n",
        "\n",
        "# Featauretools for feature engineering\n",
        "import featuretools as ft\n",
        "\n",
        "from sklearn.model_selection import train_test_split\n",
        "from sklearn.impute import SimpleImputer\n",
        "\n",
        "# Importing gradient boosting regressor, to make prediction\n",
        "from sklearn.metrics import r2_score\n",
        "from sklearn.linear_model import LinearRegression\n",
        "from sklearn.ensemble import RandomForestRegressor\n",
        "from sklearn.tree import DecisionTreeRegressor\n",
        "\n",
        "# Importing primitives\n",
        "from featuretools.primitives import (Minute, Hour, Day, Month,\n",
        "                                     Weekday, IsWeekend, Count, Sum, Mean, Median, Std, Min, Max)\n",
        "\n",
        "# Used to ignore the warning given as output of the code\n",
        "import warnings\n",
        "warnings.filterwarnings(\"ignore\")\n",
        "\n",
        "print(ft.__version__)\n",
        "%load_ext autoreload\n",
        "%autoreload 2"
      ]
    },
    {
      "cell_type": "code",
      "execution_count": null,
      "metadata": {
        "id": "g8D8tqhZe7mC"
      },
      "outputs": [],
      "source": [
        "# Set global random seed\n",
        "np.random.seed(40)\n",
        "\n",
        "# To preview first five rows. \n",
        "def preview(df, n=5):\n",
        "    \"\"\"return n rows that have fewest number of nulls\"\"\"\n",
        "    order = df.isnull().sum(axis=1).sort_values().head(n).index\n",
        "    return df.loc[order]\n",
        "\n",
        "# To compute features using automated feature engineering. \n",
        "def compute_features(features, cutoff_time):\n",
        "    # Shuffle so we don't see encoded features in the front or backs\n",
        "\n",
        "    np.random.shuffle(features)\n",
        "    feature_matrix = ft.calculate_feature_matrix(features,\n",
        "                                                 cutoff_time=cutoff_time,\n",
        "                                                 approximate='36d',\n",
        "                                                 verbose=True)\n",
        "    print(\"Finishing computing...\")\n",
        "    feature_matrix, features = ft.encode_features(feature_matrix, features,\n",
        "                                                  to_encode=[\"pickup_neighborhood\", \"dropoff_neighborhood\"],\n",
        "                                                  include_unknown=False)\n",
        "    return feature_matrix\n",
        "\n",
        "\n",
        "# To generate train and test dataset\n",
        "def get_train_test_fm(feature_matrix, percentage):\n",
        "    nrows = feature_matrix.shape[0]\n",
        "    head = int(nrows * percentage)\n",
        "    tail = nrows-head\n",
        "    X_train = feature_matrix.head(head)\n",
        "    y_train = X_train['trip_duration']\n",
        "    X_train = X_train.drop(['trip_duration'], axis=1)\n",
        "    imp = SimpleImputer()\n",
        "    X_train = imp.fit_transform(X_train)\n",
        "    X_test = feature_matrix.tail(tail)\n",
        "    y_test = X_test['trip_duration']\n",
        "    X_test = X_test.drop(['trip_duration'], axis=1)\n",
        "    X_test = imp.transform(X_test)\n",
        "\n",
        "    return (X_train, y_train, X_test,y_test)\n",
        "\n",
        "\n",
        "\n",
        "# To see the feature importance of variables in the final model\n",
        "def feature_importances(model, feature_names, n=5):\n",
        "    importances = model.feature_importances_\n",
        "    zipped = sorted(zip(feature_names, importances), key=lambda x: -x[1])\n",
        "    for i, f in enumerate(zipped[:n]):\n",
        "        print(\"%d: Feature: %s, %.3f\" % (i+1, f[0], f[1]))"
      ]
    },
    {
      "cell_type": "markdown",
      "metadata": {
        "id": "BIRVAApRe7mD"
      },
      "source": [
        "### **Load the datasets**"
      ]
    },
    {
      "cell_type": "code",
      "execution_count": null,
      "metadata": {
        "id": "Reap8YRCe7mD"
      },
      "outputs": [],
      "source": [
        "# If you are using Google Colab then while reading the files using 'pd.read_csv()', replace the location of CSV files with the exact location of the files in your drive folder. \n",
        "trips = pd.read_csv('trips.csv',\n",
        "                        parse_dates=[\"pickup_datetime\",\"dropoff_datetime\"],\n",
        "                        dtype={'vendor_id':\"category\"})\n",
        "trips[\"payment_type\"] = trips[\"payment_type\"].apply(str)\n",
        "trips = trips.dropna(axis=0, how='any', subset=['trip_duration'])\n",
        "\n",
        "pickup_neighborhoods = pd.read_csv(\"pickup_neighborhoods.csv\", encoding='utf-8')\n",
        "dropoff_neighborhoods = pd.read_csv(\"dropoff_neighborhoods.csv\", encoding='utf-8')"
      ]
    },
    {
      "cell_type": "markdown",
      "metadata": {
        "id": "P6wZMKp6e7mE"
      },
      "source": [
        "### **View the Datasets**"
      ]
    },
    {
      "cell_type": "code",
      "execution_count": null,
      "metadata": {
        "ExecuteTime": {
          "end_time": "2021-07-15T12:40:47.210990Z",
          "start_time": "2021-07-15T12:40:41.965643Z"
        },
        "scrolled": false,
        "id": "zsZ3qTume7mE",
        "colab": {
          "base_uri": "https://localhost:8080/",
          "height": 600
        },
        "outputId": "2a81d9bc-edfb-4ebf-b141-98211b1c014a"
      },
      "outputs": [
        {
          "output_type": "execute_result",
          "data": {
            "text/plain": [
              "          id vendor_id     pickup_datetime    dropoff_datetime  \\\n",
              "0          0         2 2016-01-01 00:00:19 2016-01-01 00:06:31   \n",
              "82981  86651         2 2016-01-17 08:01:20 2016-01-17 08:30:34   \n",
              "82980  86650         1 2016-01-17 08:01:17 2016-01-17 08:05:45   \n",
              "82979  86649         1 2016-01-17 08:00:56 2016-01-17 08:07:48   \n",
              "82978  86648         1 2016-01-17 07:58:47 2016-01-17 08:05:07   \n",
              "82977  86647         2 2016-01-17 07:57:01 2016-01-17 08:03:39   \n",
              "82976  86646         2 2016-01-17 07:56:51 2016-01-17 07:59:50   \n",
              "82975  86645         2 2016-01-17 07:56:30 2016-01-17 08:09:20   \n",
              "82974  86644         2 2016-01-17 07:55:37 2016-01-17 08:06:29   \n",
              "82973  86643         1 2016-01-17 07:55:05 2016-01-17 08:00:38   \n",
              "\n",
              "       passenger_count  trip_distance  pickup_longitude  pickup_latitude  \\\n",
              "0                    3           1.32        -73.961258        40.796200   \n",
              "82981                1          19.41        -73.788834        40.641750   \n",
              "82980                1           0.60        -73.981834        40.736660   \n",
              "82979                1           1.50        -73.954895        40.780186   \n",
              "82978                1           1.40        -73.982056        40.763332   \n",
              "82977                1           1.78        -73.994873        40.745224   \n",
              "82976                6           0.75        -73.938873        40.791397   \n",
              "82975                5           3.45        -73.957481        40.770111   \n",
              "82974                1           3.08        -74.001579        40.727749   \n",
              "82973                1           2.20        -73.972260        40.786221   \n",
              "\n",
              "       dropoff_longitude  dropoff_latitude payment_type  trip_duration  \\\n",
              "0             -73.950050         40.787312          2.0          372.0   \n",
              "82981         -73.993362         40.726292          2.0         1754.0   \n",
              "82980         -73.983353         40.743809          1.0          268.0   \n",
              "82979         -73.979858         40.790516          1.0          412.0   \n",
              "82978         -74.000656         40.757824          1.0          380.0   \n",
              "82977         -73.985085         40.728077          2.0          398.0   \n",
              "82976         -73.947617         40.790466          2.0          179.0   \n",
              "82975         -74.000282         40.758610          1.0          770.0   \n",
              "82974         -73.971672         40.758041          1.0          652.0   \n",
              "82973         -73.993912         40.756691          2.0          333.0   \n",
              "\n",
              "      pickup_neighborhood dropoff_neighborhood  \n",
              "0                      AH                    C  \n",
              "82981                   G                    H  \n",
              "82980                   R                   AO  \n",
              "82979                   C                    I  \n",
              "82978                  AR                    P  \n",
              "82977                  AP                   AT  \n",
              "82976                   J                    C  \n",
              "82975                   K                    P  \n",
              "82974                  AB                    N  \n",
              "82973                   I                    P  "
            ],
            "text/html": [
              "\n",
              "  <div id=\"df-9fb5828a-f80c-4b3a-9e1b-f13fb8fde627\">\n",
              "    <div class=\"colab-df-container\">\n",
              "      <div>\n",
              "<style scoped>\n",
              "    .dataframe tbody tr th:only-of-type {\n",
              "        vertical-align: middle;\n",
              "    }\n",
              "\n",
              "    .dataframe tbody tr th {\n",
              "        vertical-align: top;\n",
              "    }\n",
              "\n",
              "    .dataframe thead th {\n",
              "        text-align: right;\n",
              "    }\n",
              "</style>\n",
              "<table border=\"1\" class=\"dataframe\">\n",
              "  <thead>\n",
              "    <tr style=\"text-align: right;\">\n",
              "      <th></th>\n",
              "      <th>id</th>\n",
              "      <th>vendor_id</th>\n",
              "      <th>pickup_datetime</th>\n",
              "      <th>dropoff_datetime</th>\n",
              "      <th>passenger_count</th>\n",
              "      <th>trip_distance</th>\n",
              "      <th>pickup_longitude</th>\n",
              "      <th>pickup_latitude</th>\n",
              "      <th>dropoff_longitude</th>\n",
              "      <th>dropoff_latitude</th>\n",
              "      <th>payment_type</th>\n",
              "      <th>trip_duration</th>\n",
              "      <th>pickup_neighborhood</th>\n",
              "      <th>dropoff_neighborhood</th>\n",
              "    </tr>\n",
              "  </thead>\n",
              "  <tbody>\n",
              "    <tr>\n",
              "      <th>0</th>\n",
              "      <td>0</td>\n",
              "      <td>2</td>\n",
              "      <td>2016-01-01 00:00:19</td>\n",
              "      <td>2016-01-01 00:06:31</td>\n",
              "      <td>3</td>\n",
              "      <td>1.32</td>\n",
              "      <td>-73.961258</td>\n",
              "      <td>40.796200</td>\n",
              "      <td>-73.950050</td>\n",
              "      <td>40.787312</td>\n",
              "      <td>2.0</td>\n",
              "      <td>372.0</td>\n",
              "      <td>AH</td>\n",
              "      <td>C</td>\n",
              "    </tr>\n",
              "    <tr>\n",
              "      <th>82981</th>\n",
              "      <td>86651</td>\n",
              "      <td>2</td>\n",
              "      <td>2016-01-17 08:01:20</td>\n",
              "      <td>2016-01-17 08:30:34</td>\n",
              "      <td>1</td>\n",
              "      <td>19.41</td>\n",
              "      <td>-73.788834</td>\n",
              "      <td>40.641750</td>\n",
              "      <td>-73.993362</td>\n",
              "      <td>40.726292</td>\n",
              "      <td>2.0</td>\n",
              "      <td>1754.0</td>\n",
              "      <td>G</td>\n",
              "      <td>H</td>\n",
              "    </tr>\n",
              "    <tr>\n",
              "      <th>82980</th>\n",
              "      <td>86650</td>\n",
              "      <td>1</td>\n",
              "      <td>2016-01-17 08:01:17</td>\n",
              "      <td>2016-01-17 08:05:45</td>\n",
              "      <td>1</td>\n",
              "      <td>0.60</td>\n",
              "      <td>-73.981834</td>\n",
              "      <td>40.736660</td>\n",
              "      <td>-73.983353</td>\n",
              "      <td>40.743809</td>\n",
              "      <td>1.0</td>\n",
              "      <td>268.0</td>\n",
              "      <td>R</td>\n",
              "      <td>AO</td>\n",
              "    </tr>\n",
              "    <tr>\n",
              "      <th>82979</th>\n",
              "      <td>86649</td>\n",
              "      <td>1</td>\n",
              "      <td>2016-01-17 08:00:56</td>\n",
              "      <td>2016-01-17 08:07:48</td>\n",
              "      <td>1</td>\n",
              "      <td>1.50</td>\n",
              "      <td>-73.954895</td>\n",
              "      <td>40.780186</td>\n",
              "      <td>-73.979858</td>\n",
              "      <td>40.790516</td>\n",
              "      <td>1.0</td>\n",
              "      <td>412.0</td>\n",
              "      <td>C</td>\n",
              "      <td>I</td>\n",
              "    </tr>\n",
              "    <tr>\n",
              "      <th>82978</th>\n",
              "      <td>86648</td>\n",
              "      <td>1</td>\n",
              "      <td>2016-01-17 07:58:47</td>\n",
              "      <td>2016-01-17 08:05:07</td>\n",
              "      <td>1</td>\n",
              "      <td>1.40</td>\n",
              "      <td>-73.982056</td>\n",
              "      <td>40.763332</td>\n",
              "      <td>-74.000656</td>\n",
              "      <td>40.757824</td>\n",
              "      <td>1.0</td>\n",
              "      <td>380.0</td>\n",
              "      <td>AR</td>\n",
              "      <td>P</td>\n",
              "    </tr>\n",
              "    <tr>\n",
              "      <th>82977</th>\n",
              "      <td>86647</td>\n",
              "      <td>2</td>\n",
              "      <td>2016-01-17 07:57:01</td>\n",
              "      <td>2016-01-17 08:03:39</td>\n",
              "      <td>1</td>\n",
              "      <td>1.78</td>\n",
              "      <td>-73.994873</td>\n",
              "      <td>40.745224</td>\n",
              "      <td>-73.985085</td>\n",
              "      <td>40.728077</td>\n",
              "      <td>2.0</td>\n",
              "      <td>398.0</td>\n",
              "      <td>AP</td>\n",
              "      <td>AT</td>\n",
              "    </tr>\n",
              "    <tr>\n",
              "      <th>82976</th>\n",
              "      <td>86646</td>\n",
              "      <td>2</td>\n",
              "      <td>2016-01-17 07:56:51</td>\n",
              "      <td>2016-01-17 07:59:50</td>\n",
              "      <td>6</td>\n",
              "      <td>0.75</td>\n",
              "      <td>-73.938873</td>\n",
              "      <td>40.791397</td>\n",
              "      <td>-73.947617</td>\n",
              "      <td>40.790466</td>\n",
              "      <td>2.0</td>\n",
              "      <td>179.0</td>\n",
              "      <td>J</td>\n",
              "      <td>C</td>\n",
              "    </tr>\n",
              "    <tr>\n",
              "      <th>82975</th>\n",
              "      <td>86645</td>\n",
              "      <td>2</td>\n",
              "      <td>2016-01-17 07:56:30</td>\n",
              "      <td>2016-01-17 08:09:20</td>\n",
              "      <td>5</td>\n",
              "      <td>3.45</td>\n",
              "      <td>-73.957481</td>\n",
              "      <td>40.770111</td>\n",
              "      <td>-74.000282</td>\n",
              "      <td>40.758610</td>\n",
              "      <td>1.0</td>\n",
              "      <td>770.0</td>\n",
              "      <td>K</td>\n",
              "      <td>P</td>\n",
              "    </tr>\n",
              "    <tr>\n",
              "      <th>82974</th>\n",
              "      <td>86644</td>\n",
              "      <td>2</td>\n",
              "      <td>2016-01-17 07:55:37</td>\n",
              "      <td>2016-01-17 08:06:29</td>\n",
              "      <td>1</td>\n",
              "      <td>3.08</td>\n",
              "      <td>-74.001579</td>\n",
              "      <td>40.727749</td>\n",
              "      <td>-73.971672</td>\n",
              "      <td>40.758041</td>\n",
              "      <td>1.0</td>\n",
              "      <td>652.0</td>\n",
              "      <td>AB</td>\n",
              "      <td>N</td>\n",
              "    </tr>\n",
              "    <tr>\n",
              "      <th>82973</th>\n",
              "      <td>86643</td>\n",
              "      <td>1</td>\n",
              "      <td>2016-01-17 07:55:05</td>\n",
              "      <td>2016-01-17 08:00:38</td>\n",
              "      <td>1</td>\n",
              "      <td>2.20</td>\n",
              "      <td>-73.972260</td>\n",
              "      <td>40.786221</td>\n",
              "      <td>-73.993912</td>\n",
              "      <td>40.756691</td>\n",
              "      <td>2.0</td>\n",
              "      <td>333.0</td>\n",
              "      <td>I</td>\n",
              "      <td>P</td>\n",
              "    </tr>\n",
              "  </tbody>\n",
              "</table>\n",
              "</div>\n",
              "      <button class=\"colab-df-convert\" onclick=\"convertToInteractive('df-9fb5828a-f80c-4b3a-9e1b-f13fb8fde627')\"\n",
              "              title=\"Convert this dataframe to an interactive table.\"\n",
              "              style=\"display:none;\">\n",
              "        \n",
              "  <svg xmlns=\"http://www.w3.org/2000/svg\" height=\"24px\"viewBox=\"0 0 24 24\"\n",
              "       width=\"24px\">\n",
              "    <path d=\"M0 0h24v24H0V0z\" fill=\"none\"/>\n",
              "    <path d=\"M18.56 5.44l.94 2.06.94-2.06 2.06-.94-2.06-.94-.94-2.06-.94 2.06-2.06.94zm-11 1L8.5 8.5l.94-2.06 2.06-.94-2.06-.94L8.5 2.5l-.94 2.06-2.06.94zm10 10l.94 2.06.94-2.06 2.06-.94-2.06-.94-.94-2.06-.94 2.06-2.06.94z\"/><path d=\"M17.41 7.96l-1.37-1.37c-.4-.4-.92-.59-1.43-.59-.52 0-1.04.2-1.43.59L10.3 9.45l-7.72 7.72c-.78.78-.78 2.05 0 2.83L4 21.41c.39.39.9.59 1.41.59.51 0 1.02-.2 1.41-.59l7.78-7.78 2.81-2.81c.8-.78.8-2.07 0-2.86zM5.41 20L4 18.59l7.72-7.72 1.47 1.35L5.41 20z\"/>\n",
              "  </svg>\n",
              "      </button>\n",
              "      \n",
              "  <style>\n",
              "    .colab-df-container {\n",
              "      display:flex;\n",
              "      flex-wrap:wrap;\n",
              "      gap: 12px;\n",
              "    }\n",
              "\n",
              "    .colab-df-convert {\n",
              "      background-color: #E8F0FE;\n",
              "      border: none;\n",
              "      border-radius: 50%;\n",
              "      cursor: pointer;\n",
              "      display: none;\n",
              "      fill: #1967D2;\n",
              "      height: 32px;\n",
              "      padding: 0 0 0 0;\n",
              "      width: 32px;\n",
              "    }\n",
              "\n",
              "    .colab-df-convert:hover {\n",
              "      background-color: #E2EBFA;\n",
              "      box-shadow: 0px 1px 2px rgba(60, 64, 67, 0.3), 0px 1px 3px 1px rgba(60, 64, 67, 0.15);\n",
              "      fill: #174EA6;\n",
              "    }\n",
              "\n",
              "    [theme=dark] .colab-df-convert {\n",
              "      background-color: #3B4455;\n",
              "      fill: #D2E3FC;\n",
              "    }\n",
              "\n",
              "    [theme=dark] .colab-df-convert:hover {\n",
              "      background-color: #434B5C;\n",
              "      box-shadow: 0px 1px 3px 1px rgba(0, 0, 0, 0.15);\n",
              "      filter: drop-shadow(0px 1px 2px rgba(0, 0, 0, 0.3));\n",
              "      fill: #FFFFFF;\n",
              "    }\n",
              "  </style>\n",
              "\n",
              "      <script>\n",
              "        const buttonEl =\n",
              "          document.querySelector('#df-9fb5828a-f80c-4b3a-9e1b-f13fb8fde627 button.colab-df-convert');\n",
              "        buttonEl.style.display =\n",
              "          google.colab.kernel.accessAllowed ? 'block' : 'none';\n",
              "\n",
              "        async function convertToInteractive(key) {\n",
              "          const element = document.querySelector('#df-9fb5828a-f80c-4b3a-9e1b-f13fb8fde627');\n",
              "          const dataTable =\n",
              "            await google.colab.kernel.invokeFunction('convertToInteractive',\n",
              "                                                     [key], {});\n",
              "          if (!dataTable) return;\n",
              "\n",
              "          const docLinkHtml = 'Like what you see? Visit the ' +\n",
              "            '<a target=\"_blank\" href=https://colab.research.google.com/notebooks/data_table.ipynb>data table notebook</a>'\n",
              "            + ' to learn more about interactive tables.';\n",
              "          element.innerHTML = '';\n",
              "          dataTable['output_type'] = 'display_data';\n",
              "          await google.colab.output.renderOutput(dataTable, element);\n",
              "          const docLink = document.createElement('div');\n",
              "          docLink.innerHTML = docLinkHtml;\n",
              "          element.appendChild(docLink);\n",
              "        }\n",
              "      </script>\n",
              "    </div>\n",
              "  </div>\n",
              "  "
            ]
          },
          "metadata": {},
          "execution_count": 13
        }
      ],
      "source": [
        "preview(trips, 10)"
      ]
    },
    {
      "cell_type": "code",
      "execution_count": null,
      "metadata": {
        "id": "7Wl5cILSe7mE"
      },
      "outputs": [],
      "source": [
        "# Drop the rows where at least one element is missing. \n",
        "trips=trips.dropna()"
      ]
    },
    {
      "cell_type": "markdown",
      "metadata": {
        "id": "-s0HEZK2e7mF"
      },
      "source": [
        "For the features used in the model the \"**dropoff_datetime**\" needs to be removed as this value would not be known for real-time prediction and you can basically take the difference between the pickup and dropoff time to find the duration.So, this will restrict our model to be **robust** and **reliable**. So, dropping this feature will help us to avoid **data leakage**.\n",
        "\n",
        "Data leakage in machine learning occurs when the data used to train a machine learning algorithm contains information that the model is attempting to predict, resulting in unreliable and poor prediction outcomes after model deployment."
      ]
    },
    {
      "cell_type": "code",
      "execution_count": null,
      "metadata": {
        "id": "mzuaS3D6e7mF"
      },
      "outputs": [],
      "source": [
        "trips. drop(\"dropoff_datetime\", axis=1, inplace=True) "
      ]
    },
    {
      "cell_type": "markdown",
      "metadata": {
        "id": "ihSHO5rve7mF"
      },
      "source": [
        "### **Let's check the first five rows of the data**"
      ]
    },
    {
      "cell_type": "code",
      "execution_count": null,
      "metadata": {
        "id": "Jjcn8fOBe7mF",
        "colab": {
          "base_uri": "https://localhost:8080/",
          "height": 357
        },
        "outputId": "00a36d37-b707-44a2-fec5-0e903d89ada3"
      },
      "outputs": [
        {
          "output_type": "execute_result",
          "data": {
            "text/plain": [
              "   id vendor_id     pickup_datetime  passenger_count  trip_distance  \\\n",
              "0   0         2 2016-01-01 00:00:19                3           1.32   \n",
              "1   1         2 2016-01-01 00:01:45                1          13.70   \n",
              "2   2         1 2016-01-01 00:01:47                2           5.30   \n",
              "3   3         2 2016-01-01 00:01:48                1           7.19   \n",
              "4   4         1 2016-01-01 00:02:49                2           2.90   \n",
              "\n",
              "   pickup_longitude  pickup_latitude  dropoff_longitude  dropoff_latitude  \\\n",
              "0        -73.961258        40.796200         -73.950050         40.787312   \n",
              "1        -73.956169        40.707756         -73.939949         40.839558   \n",
              "2        -73.993103        40.752632         -73.953903         40.816540   \n",
              "3        -73.983009        40.731419         -73.930969         40.808460   \n",
              "4        -74.004631        40.747234         -73.976395         40.777237   \n",
              "\n",
              "  payment_type  trip_duration pickup_neighborhood dropoff_neighborhood  \n",
              "0          2.0          372.0                  AH                    C  \n",
              "1          1.0         1553.0                   Z                    S  \n",
              "2          2.0         1204.0                   D                   AL  \n",
              "3          2.0          858.0                  AT                    J  \n",
              "4          1.0         1076.0                  AG                   AV  "
            ],
            "text/html": [
              "\n",
              "  <div id=\"df-1e819bfb-2ddc-4352-8268-7953587b53ec\">\n",
              "    <div class=\"colab-df-container\">\n",
              "      <div>\n",
              "<style scoped>\n",
              "    .dataframe tbody tr th:only-of-type {\n",
              "        vertical-align: middle;\n",
              "    }\n",
              "\n",
              "    .dataframe tbody tr th {\n",
              "        vertical-align: top;\n",
              "    }\n",
              "\n",
              "    .dataframe thead th {\n",
              "        text-align: right;\n",
              "    }\n",
              "</style>\n",
              "<table border=\"1\" class=\"dataframe\">\n",
              "  <thead>\n",
              "    <tr style=\"text-align: right;\">\n",
              "      <th></th>\n",
              "      <th>id</th>\n",
              "      <th>vendor_id</th>\n",
              "      <th>pickup_datetime</th>\n",
              "      <th>passenger_count</th>\n",
              "      <th>trip_distance</th>\n",
              "      <th>pickup_longitude</th>\n",
              "      <th>pickup_latitude</th>\n",
              "      <th>dropoff_longitude</th>\n",
              "      <th>dropoff_latitude</th>\n",
              "      <th>payment_type</th>\n",
              "      <th>trip_duration</th>\n",
              "      <th>pickup_neighborhood</th>\n",
              "      <th>dropoff_neighborhood</th>\n",
              "    </tr>\n",
              "  </thead>\n",
              "  <tbody>\n",
              "    <tr>\n",
              "      <th>0</th>\n",
              "      <td>0</td>\n",
              "      <td>2</td>\n",
              "      <td>2016-01-01 00:00:19</td>\n",
              "      <td>3</td>\n",
              "      <td>1.32</td>\n",
              "      <td>-73.961258</td>\n",
              "      <td>40.796200</td>\n",
              "      <td>-73.950050</td>\n",
              "      <td>40.787312</td>\n",
              "      <td>2.0</td>\n",
              "      <td>372.0</td>\n",
              "      <td>AH</td>\n",
              "      <td>C</td>\n",
              "    </tr>\n",
              "    <tr>\n",
              "      <th>1</th>\n",
              "      <td>1</td>\n",
              "      <td>2</td>\n",
              "      <td>2016-01-01 00:01:45</td>\n",
              "      <td>1</td>\n",
              "      <td>13.70</td>\n",
              "      <td>-73.956169</td>\n",
              "      <td>40.707756</td>\n",
              "      <td>-73.939949</td>\n",
              "      <td>40.839558</td>\n",
              "      <td>1.0</td>\n",
              "      <td>1553.0</td>\n",
              "      <td>Z</td>\n",
              "      <td>S</td>\n",
              "    </tr>\n",
              "    <tr>\n",
              "      <th>2</th>\n",
              "      <td>2</td>\n",
              "      <td>1</td>\n",
              "      <td>2016-01-01 00:01:47</td>\n",
              "      <td>2</td>\n",
              "      <td>5.30</td>\n",
              "      <td>-73.993103</td>\n",
              "      <td>40.752632</td>\n",
              "      <td>-73.953903</td>\n",
              "      <td>40.816540</td>\n",
              "      <td>2.0</td>\n",
              "      <td>1204.0</td>\n",
              "      <td>D</td>\n",
              "      <td>AL</td>\n",
              "    </tr>\n",
              "    <tr>\n",
              "      <th>3</th>\n",
              "      <td>3</td>\n",
              "      <td>2</td>\n",
              "      <td>2016-01-01 00:01:48</td>\n",
              "      <td>1</td>\n",
              "      <td>7.19</td>\n",
              "      <td>-73.983009</td>\n",
              "      <td>40.731419</td>\n",
              "      <td>-73.930969</td>\n",
              "      <td>40.808460</td>\n",
              "      <td>2.0</td>\n",
              "      <td>858.0</td>\n",
              "      <td>AT</td>\n",
              "      <td>J</td>\n",
              "    </tr>\n",
              "    <tr>\n",
              "      <th>4</th>\n",
              "      <td>4</td>\n",
              "      <td>1</td>\n",
              "      <td>2016-01-01 00:02:49</td>\n",
              "      <td>2</td>\n",
              "      <td>2.90</td>\n",
              "      <td>-74.004631</td>\n",
              "      <td>40.747234</td>\n",
              "      <td>-73.976395</td>\n",
              "      <td>40.777237</td>\n",
              "      <td>1.0</td>\n",
              "      <td>1076.0</td>\n",
              "      <td>AG</td>\n",
              "      <td>AV</td>\n",
              "    </tr>\n",
              "  </tbody>\n",
              "</table>\n",
              "</div>\n",
              "      <button class=\"colab-df-convert\" onclick=\"convertToInteractive('df-1e819bfb-2ddc-4352-8268-7953587b53ec')\"\n",
              "              title=\"Convert this dataframe to an interactive table.\"\n",
              "              style=\"display:none;\">\n",
              "        \n",
              "  <svg xmlns=\"http://www.w3.org/2000/svg\" height=\"24px\"viewBox=\"0 0 24 24\"\n",
              "       width=\"24px\">\n",
              "    <path d=\"M0 0h24v24H0V0z\" fill=\"none\"/>\n",
              "    <path d=\"M18.56 5.44l.94 2.06.94-2.06 2.06-.94-2.06-.94-.94-2.06-.94 2.06-2.06.94zm-11 1L8.5 8.5l.94-2.06 2.06-.94-2.06-.94L8.5 2.5l-.94 2.06-2.06.94zm10 10l.94 2.06.94-2.06 2.06-.94-2.06-.94-.94-2.06-.94 2.06-2.06.94z\"/><path d=\"M17.41 7.96l-1.37-1.37c-.4-.4-.92-.59-1.43-.59-.52 0-1.04.2-1.43.59L10.3 9.45l-7.72 7.72c-.78.78-.78 2.05 0 2.83L4 21.41c.39.39.9.59 1.41.59.51 0 1.02-.2 1.41-.59l7.78-7.78 2.81-2.81c.8-.78.8-2.07 0-2.86zM5.41 20L4 18.59l7.72-7.72 1.47 1.35L5.41 20z\"/>\n",
              "  </svg>\n",
              "      </button>\n",
              "      \n",
              "  <style>\n",
              "    .colab-df-container {\n",
              "      display:flex;\n",
              "      flex-wrap:wrap;\n",
              "      gap: 12px;\n",
              "    }\n",
              "\n",
              "    .colab-df-convert {\n",
              "      background-color: #E8F0FE;\n",
              "      border: none;\n",
              "      border-radius: 50%;\n",
              "      cursor: pointer;\n",
              "      display: none;\n",
              "      fill: #1967D2;\n",
              "      height: 32px;\n",
              "      padding: 0 0 0 0;\n",
              "      width: 32px;\n",
              "    }\n",
              "\n",
              "    .colab-df-convert:hover {\n",
              "      background-color: #E2EBFA;\n",
              "      box-shadow: 0px 1px 2px rgba(60, 64, 67, 0.3), 0px 1px 3px 1px rgba(60, 64, 67, 0.15);\n",
              "      fill: #174EA6;\n",
              "    }\n",
              "\n",
              "    [theme=dark] .colab-df-convert {\n",
              "      background-color: #3B4455;\n",
              "      fill: #D2E3FC;\n",
              "    }\n",
              "\n",
              "    [theme=dark] .colab-df-convert:hover {\n",
              "      background-color: #434B5C;\n",
              "      box-shadow: 0px 1px 3px 1px rgba(0, 0, 0, 0.15);\n",
              "      filter: drop-shadow(0px 1px 2px rgba(0, 0, 0, 0.3));\n",
              "      fill: #FFFFFF;\n",
              "    }\n",
              "  </style>\n",
              "\n",
              "      <script>\n",
              "        const buttonEl =\n",
              "          document.querySelector('#df-1e819bfb-2ddc-4352-8268-7953587b53ec button.colab-df-convert');\n",
              "        buttonEl.style.display =\n",
              "          google.colab.kernel.accessAllowed ? 'block' : 'none';\n",
              "\n",
              "        async function convertToInteractive(key) {\n",
              "          const element = document.querySelector('#df-1e819bfb-2ddc-4352-8268-7953587b53ec');\n",
              "          const dataTable =\n",
              "            await google.colab.kernel.invokeFunction('convertToInteractive',\n",
              "                                                     [key], {});\n",
              "          if (!dataTable) return;\n",
              "\n",
              "          const docLinkHtml = 'Like what you see? Visit the ' +\n",
              "            '<a target=\"_blank\" href=https://colab.research.google.com/notebooks/data_table.ipynb>data table notebook</a>'\n",
              "            + ' to learn more about interactive tables.';\n",
              "          element.innerHTML = '';\n",
              "          dataTable['output_type'] = 'display_data';\n",
              "          await google.colab.output.renderOutput(dataTable, element);\n",
              "          const docLink = document.createElement('div');\n",
              "          docLink.innerHTML = docLinkHtml;\n",
              "          element.appendChild(docLink);\n",
              "        }\n",
              "      </script>\n",
              "    </div>\n",
              "  </div>\n",
              "  "
            ]
          },
          "metadata": {},
          "execution_count": 16
        }
      ],
      "source": [
        "trips.head()"
      ]
    },
    {
      "cell_type": "markdown",
      "metadata": {
        "id": "bfJStwuxe7mF"
      },
      "source": [
        "Let's check the **info** of the data"
      ]
    },
    {
      "cell_type": "code",
      "execution_count": null,
      "metadata": {
        "id": "KnDDlVm1e7mG",
        "colab": {
          "base_uri": "https://localhost:8080/"
        },
        "outputId": "024579e0-fab4-47f6-f1f6-22f4241ef409"
      },
      "outputs": [
        {
          "output_type": "stream",
          "name": "stdout",
          "text": [
            "<class 'pandas.core.frame.DataFrame'>\n",
            "Int64Index: 124462 entries, 0 to 124461\n",
            "Data columns (total 13 columns):\n",
            " #   Column                Non-Null Count   Dtype         \n",
            "---  ------                --------------   -----         \n",
            " 0   id                    124462 non-null  int64         \n",
            " 1   vendor_id             124462 non-null  category      \n",
            " 2   pickup_datetime       124462 non-null  datetime64[ns]\n",
            " 3   passenger_count       124462 non-null  int64         \n",
            " 4   trip_distance         124462 non-null  float64       \n",
            " 5   pickup_longitude      124462 non-null  float64       \n",
            " 6   pickup_latitude       124462 non-null  float64       \n",
            " 7   dropoff_longitude     124462 non-null  float64       \n",
            " 8   dropoff_latitude      124462 non-null  float64       \n",
            " 9   payment_type          124462 non-null  object        \n",
            " 10  trip_duration         124462 non-null  float64       \n",
            " 11  pickup_neighborhood   124462 non-null  object        \n",
            " 12  dropoff_neighborhood  124462 non-null  object        \n",
            "dtypes: category(1), datetime64[ns](1), float64(6), int64(2), object(3)\n",
            "memory usage: 12.5+ MB\n"
          ]
        }
      ],
      "source": [
        "# Checking the info of the dataset\n",
        "trips.info()"
      ]
    },
    {
      "cell_type": "markdown",
      "metadata": {
        "id": "eS039A4ve7mG"
      },
      "source": [
        "- There are 974409 non null values in the dataset"
      ]
    },
    {
      "cell_type": "markdown",
      "metadata": {
        "id": "J2YGZ8-Pe7mG"
      },
      "source": [
        "### **Check the number of unique values in the dataset.**"
      ]
    },
    {
      "cell_type": "code",
      "execution_count": null,
      "metadata": {
        "id": "EKkjoKl3e7mG",
        "colab": {
          "base_uri": "https://localhost:8080/"
        },
        "outputId": "192c7092-140a-40f0-af88-5ace54cc8739"
      },
      "outputs": [
        {
          "output_type": "execute_result",
          "data": {
            "text/plain": [
              "id                      124462\n",
              "vendor_id                    2\n",
              "pickup_datetime         120224\n",
              "passenger_count              7\n",
              "trip_distance             2090\n",
              "pickup_longitude         12958\n",
              "pickup_latitude          26513\n",
              "dropoff_longitude        15454\n",
              "dropoff_latitude         30868\n",
              "payment_type                 4\n",
              "trip_duration             3367\n",
              "pickup_neighborhood         49\n",
              "dropoff_neighborhood        49\n",
              "dtype: int64"
            ]
          },
          "metadata": {},
          "execution_count": 18
        }
      ],
      "source": [
        "# Check the uniques values in each columns\n",
        "trips.nunique()"
      ]
    },
    {
      "cell_type": "markdown",
      "metadata": {
        "id": "G9ZIw3yXe7mG"
      },
      "source": [
        "- vendor_id has only 2 unique values, implies there are only 2 major taxi vendors are there. \n",
        "- Passenger count has 8 unique values and payment type have 4. \n",
        "- There are 49 neighborhood in the dataset, from where either a pickup or dropoff is happening. "
      ]
    },
    {
      "cell_type": "markdown",
      "metadata": {
        "id": "JGoS7r7ze7mG"
      },
      "source": [
        "### **Question 1 : Check summary statistics of the dataset (1 Mark)**"
      ]
    },
    {
      "cell_type": "code",
      "execution_count": null,
      "metadata": {
        "id": "MOEQC1jRe7mG",
        "colab": {
          "base_uri": "https://localhost:8080/",
          "height": 364
        },
        "outputId": "3e5ac372-9713-49ef-83de-796a0efeb783"
      },
      "outputs": [
        {
          "output_type": "execute_result",
          "data": {
            "text/plain": [
              "                      count          mean           std        min  \\\n",
              "id                 124462.0  64916.735461  37536.416253   0.000000   \n",
              "passenger_count    124462.0      1.677845      1.330972   0.000000   \n",
              "trip_distance      124462.0      2.701010      3.261636   0.000000   \n",
              "pickup_longitude   124462.0    -73.972617      0.036726 -74.029053   \n",
              "pickup_latitude    124462.0     40.752386      0.026931  40.631462   \n",
              "dropoff_longitude  124462.0    -73.972834      0.031038 -74.029625   \n",
              "dropoff_latitude   124462.0     40.753197      0.028812  40.630047   \n",
              "trip_duration      124462.0    743.926074    541.531157   0.000000   \n",
              "\n",
              "                            25%           50%           75%            max  \n",
              "id                 32379.250000  64945.500000  97365.750000  129959.000000  \n",
              "passenger_count        1.000000      1.000000      2.000000       6.000000  \n",
              "trip_distance          0.990000      1.600000      2.900000      32.300000  \n",
              "pickup_longitude     -73.990799    -73.980980    -73.966408     -73.770927  \n",
              "pickup_latitude       40.739826     40.755617     40.769001      40.849884  \n",
              "dropoff_longitude    -73.990158    -73.979080    -73.962753     -73.770020  \n",
              "dropoff_latitude      40.739136     40.755850     40.770481      40.849937  \n",
              "trip_duration        367.000000    601.000000    958.000000    3605.000000  "
            ],
            "text/html": [
              "\n",
              "  <div id=\"df-c5229d80-4daf-4019-bfce-8c0aa970957b\">\n",
              "    <div class=\"colab-df-container\">\n",
              "      <div>\n",
              "<style scoped>\n",
              "    .dataframe tbody tr th:only-of-type {\n",
              "        vertical-align: middle;\n",
              "    }\n",
              "\n",
              "    .dataframe tbody tr th {\n",
              "        vertical-align: top;\n",
              "    }\n",
              "\n",
              "    .dataframe thead th {\n",
              "        text-align: right;\n",
              "    }\n",
              "</style>\n",
              "<table border=\"1\" class=\"dataframe\">\n",
              "  <thead>\n",
              "    <tr style=\"text-align: right;\">\n",
              "      <th></th>\n",
              "      <th>count</th>\n",
              "      <th>mean</th>\n",
              "      <th>std</th>\n",
              "      <th>min</th>\n",
              "      <th>25%</th>\n",
              "      <th>50%</th>\n",
              "      <th>75%</th>\n",
              "      <th>max</th>\n",
              "    </tr>\n",
              "  </thead>\n",
              "  <tbody>\n",
              "    <tr>\n",
              "      <th>id</th>\n",
              "      <td>124462.0</td>\n",
              "      <td>64916.735461</td>\n",
              "      <td>37536.416253</td>\n",
              "      <td>0.000000</td>\n",
              "      <td>32379.250000</td>\n",
              "      <td>64945.500000</td>\n",
              "      <td>97365.750000</td>\n",
              "      <td>129959.000000</td>\n",
              "    </tr>\n",
              "    <tr>\n",
              "      <th>passenger_count</th>\n",
              "      <td>124462.0</td>\n",
              "      <td>1.677845</td>\n",
              "      <td>1.330972</td>\n",
              "      <td>0.000000</td>\n",
              "      <td>1.000000</td>\n",
              "      <td>1.000000</td>\n",
              "      <td>2.000000</td>\n",
              "      <td>6.000000</td>\n",
              "    </tr>\n",
              "    <tr>\n",
              "      <th>trip_distance</th>\n",
              "      <td>124462.0</td>\n",
              "      <td>2.701010</td>\n",
              "      <td>3.261636</td>\n",
              "      <td>0.000000</td>\n",
              "      <td>0.990000</td>\n",
              "      <td>1.600000</td>\n",
              "      <td>2.900000</td>\n",
              "      <td>32.300000</td>\n",
              "    </tr>\n",
              "    <tr>\n",
              "      <th>pickup_longitude</th>\n",
              "      <td>124462.0</td>\n",
              "      <td>-73.972617</td>\n",
              "      <td>0.036726</td>\n",
              "      <td>-74.029053</td>\n",
              "      <td>-73.990799</td>\n",
              "      <td>-73.980980</td>\n",
              "      <td>-73.966408</td>\n",
              "      <td>-73.770927</td>\n",
              "    </tr>\n",
              "    <tr>\n",
              "      <th>pickup_latitude</th>\n",
              "      <td>124462.0</td>\n",
              "      <td>40.752386</td>\n",
              "      <td>0.026931</td>\n",
              "      <td>40.631462</td>\n",
              "      <td>40.739826</td>\n",
              "      <td>40.755617</td>\n",
              "      <td>40.769001</td>\n",
              "      <td>40.849884</td>\n",
              "    </tr>\n",
              "    <tr>\n",
              "      <th>dropoff_longitude</th>\n",
              "      <td>124462.0</td>\n",
              "      <td>-73.972834</td>\n",
              "      <td>0.031038</td>\n",
              "      <td>-74.029625</td>\n",
              "      <td>-73.990158</td>\n",
              "      <td>-73.979080</td>\n",
              "      <td>-73.962753</td>\n",
              "      <td>-73.770020</td>\n",
              "    </tr>\n",
              "    <tr>\n",
              "      <th>dropoff_latitude</th>\n",
              "      <td>124462.0</td>\n",
              "      <td>40.753197</td>\n",
              "      <td>0.028812</td>\n",
              "      <td>40.630047</td>\n",
              "      <td>40.739136</td>\n",
              "      <td>40.755850</td>\n",
              "      <td>40.770481</td>\n",
              "      <td>40.849937</td>\n",
              "    </tr>\n",
              "    <tr>\n",
              "      <th>trip_duration</th>\n",
              "      <td>124462.0</td>\n",
              "      <td>743.926074</td>\n",
              "      <td>541.531157</td>\n",
              "      <td>0.000000</td>\n",
              "      <td>367.000000</td>\n",
              "      <td>601.000000</td>\n",
              "      <td>958.000000</td>\n",
              "      <td>3605.000000</td>\n",
              "    </tr>\n",
              "  </tbody>\n",
              "</table>\n",
              "</div>\n",
              "      <button class=\"colab-df-convert\" onclick=\"convertToInteractive('df-c5229d80-4daf-4019-bfce-8c0aa970957b')\"\n",
              "              title=\"Convert this dataframe to an interactive table.\"\n",
              "              style=\"display:none;\">\n",
              "        \n",
              "  <svg xmlns=\"http://www.w3.org/2000/svg\" height=\"24px\"viewBox=\"0 0 24 24\"\n",
              "       width=\"24px\">\n",
              "    <path d=\"M0 0h24v24H0V0z\" fill=\"none\"/>\n",
              "    <path d=\"M18.56 5.44l.94 2.06.94-2.06 2.06-.94-2.06-.94-.94-2.06-.94 2.06-2.06.94zm-11 1L8.5 8.5l.94-2.06 2.06-.94-2.06-.94L8.5 2.5l-.94 2.06-2.06.94zm10 10l.94 2.06.94-2.06 2.06-.94-2.06-.94-.94-2.06-.94 2.06-2.06.94z\"/><path d=\"M17.41 7.96l-1.37-1.37c-.4-.4-.92-.59-1.43-.59-.52 0-1.04.2-1.43.59L10.3 9.45l-7.72 7.72c-.78.78-.78 2.05 0 2.83L4 21.41c.39.39.9.59 1.41.59.51 0 1.02-.2 1.41-.59l7.78-7.78 2.81-2.81c.8-.78.8-2.07 0-2.86zM5.41 20L4 18.59l7.72-7.72 1.47 1.35L5.41 20z\"/>\n",
              "  </svg>\n",
              "      </button>\n",
              "      \n",
              "  <style>\n",
              "    .colab-df-container {\n",
              "      display:flex;\n",
              "      flex-wrap:wrap;\n",
              "      gap: 12px;\n",
              "    }\n",
              "\n",
              "    .colab-df-convert {\n",
              "      background-color: #E8F0FE;\n",
              "      border: none;\n",
              "      border-radius: 50%;\n",
              "      cursor: pointer;\n",
              "      display: none;\n",
              "      fill: #1967D2;\n",
              "      height: 32px;\n",
              "      padding: 0 0 0 0;\n",
              "      width: 32px;\n",
              "    }\n",
              "\n",
              "    .colab-df-convert:hover {\n",
              "      background-color: #E2EBFA;\n",
              "      box-shadow: 0px 1px 2px rgba(60, 64, 67, 0.3), 0px 1px 3px 1px rgba(60, 64, 67, 0.15);\n",
              "      fill: #174EA6;\n",
              "    }\n",
              "\n",
              "    [theme=dark] .colab-df-convert {\n",
              "      background-color: #3B4455;\n",
              "      fill: #D2E3FC;\n",
              "    }\n",
              "\n",
              "    [theme=dark] .colab-df-convert:hover {\n",
              "      background-color: #434B5C;\n",
              "      box-shadow: 0px 1px 3px 1px rgba(0, 0, 0, 0.15);\n",
              "      filter: drop-shadow(0px 1px 2px rgba(0, 0, 0, 0.3));\n",
              "      fill: #FFFFFF;\n",
              "    }\n",
              "  </style>\n",
              "\n",
              "      <script>\n",
              "        const buttonEl =\n",
              "          document.querySelector('#df-c5229d80-4daf-4019-bfce-8c0aa970957b button.colab-df-convert');\n",
              "        buttonEl.style.display =\n",
              "          google.colab.kernel.accessAllowed ? 'block' : 'none';\n",
              "\n",
              "        async function convertToInteractive(key) {\n",
              "          const element = document.querySelector('#df-c5229d80-4daf-4019-bfce-8c0aa970957b');\n",
              "          const dataTable =\n",
              "            await google.colab.kernel.invokeFunction('convertToInteractive',\n",
              "                                                     [key], {});\n",
              "          if (!dataTable) return;\n",
              "\n",
              "          const docLinkHtml = 'Like what you see? Visit the ' +\n",
              "            '<a target=\"_blank\" href=https://colab.research.google.com/notebooks/data_table.ipynb>data table notebook</a>'\n",
              "            + ' to learn more about interactive tables.';\n",
              "          element.innerHTML = '';\n",
              "          dataTable['output_type'] = 'display_data';\n",
              "          await google.colab.output.renderOutput(dataTable, element);\n",
              "          const docLink = document.createElement('div');\n",
              "          docLink.innerHTML = docLinkHtml;\n",
              "          element.appendChild(docLink);\n",
              "        }\n",
              "      </script>\n",
              "    </div>\n",
              "  </div>\n",
              "  "
            ]
          },
          "metadata": {},
          "execution_count": 20
        }
      ],
      "source": [
        "# Checking the descriptive stats of the data\n",
        "\n",
        "trips.describe().T"
      ]
    },
    {
      "cell_type": "markdown",
      "metadata": {
        "id": "-Q_Wt4Eqe7mH"
      },
      "source": [
        "**Write your answers here:_____**"
      ]
    },
    {
      "cell_type": "markdown",
      "metadata": {
        "id": "4JQxubi3e7mH"
      },
      "source": [
        "### **Checking for the rows for which trip_distance is 0**"
      ]
    },
    {
      "cell_type": "code",
      "execution_count": null,
      "metadata": {
        "id": "x9RelNREe7mH",
        "colab": {
          "base_uri": "https://localhost:8080/",
          "height": 661
        },
        "outputId": "f45f7bad-ae45-4dcc-f0a7-a6f5bd354fb6"
      },
      "outputs": [
        {
          "output_type": "execute_result",
          "data": {
            "text/plain": [
              "            id vendor_id     pickup_datetime  passenger_count  trip_distance  \\\n",
              "852        880         1 2016-01-01 02:15:56                1            0.0   \n",
              "1079      1116         1 2016-01-01 03:01:10                1            0.0   \n",
              "1408      1455         2 2016-01-01 04:09:43                1            0.0   \n",
              "1440      1488         1 2016-01-01 04:16:54                1            0.0   \n",
              "1510      1558         1 2016-01-01 04:36:03                1            0.0   \n",
              "...        ...       ...                 ...              ...            ...   \n",
              "123906  129387         1 2016-01-26 15:37:23                2            0.0   \n",
              "124091  129577         2 2016-01-26 16:34:06                1            0.0   \n",
              "124168  129654         2 2016-01-26 16:56:25                1            0.0   \n",
              "124422  129918         1 2016-01-26 18:00:56                1            0.0   \n",
              "124432  129929         1 2016-01-26 18:02:34                1            0.0   \n",
              "\n",
              "        pickup_longitude  pickup_latitude  dropoff_longitude  \\\n",
              "852           -74.002586        40.750298         -74.002861   \n",
              "1079          -73.987831        40.728558         -73.988747   \n",
              "1408          -73.985893        40.763649         -73.985741   \n",
              "1440          -74.014198        40.709988         -74.014198   \n",
              "1510          -73.952507        40.817329         -73.952499   \n",
              "...                  ...              ...                ...   \n",
              "123906        -73.782417        40.648815         -73.782394   \n",
              "124091        -73.794685        40.667576         -73.794556   \n",
              "124168        -73.783058        40.643856         -73.783081   \n",
              "124422        -73.979179        40.784992         -73.979195   \n",
              "124432        -73.997185        40.761971         -73.997185   \n",
              "\n",
              "        dropoff_latitude payment_type  trip_duration pickup_neighborhood  \\\n",
              "852            40.750446          2.0           21.0                  AG   \n",
              "1079           40.727280          3.0          136.0                   H   \n",
              "1408           40.763672          2.0           65.0                  AR   \n",
              "1440           40.709988          3.0            3.0                  AU   \n",
              "1510           40.817322          2.0           13.0                  AL   \n",
              "...                  ...          ...            ...                 ...   \n",
              "123906         40.648834          2.0           19.0                   G   \n",
              "124091         40.667515          4.0           99.0                   G   \n",
              "124168         40.643902          1.0           83.0                   G   \n",
              "124422         40.785004          3.0            4.0                   I   \n",
              "124432         40.761982          2.0           29.0                   P   \n",
              "\n",
              "       dropoff_neighborhood  \n",
              "852                      AG  \n",
              "1079                      H  \n",
              "1408                     AR  \n",
              "1440                     AU  \n",
              "1510                     AL  \n",
              "...                     ...  \n",
              "123906                    G  \n",
              "124091                    G  \n",
              "124168                    G  \n",
              "124422                    I  \n",
              "124432                    P  \n",
              "\n",
              "[451 rows x 13 columns]"
            ],
            "text/html": [
              "\n",
              "  <div id=\"df-c510312a-9c6f-4345-9a4b-73ce466b93f7\">\n",
              "    <div class=\"colab-df-container\">\n",
              "      <div>\n",
              "<style scoped>\n",
              "    .dataframe tbody tr th:only-of-type {\n",
              "        vertical-align: middle;\n",
              "    }\n",
              "\n",
              "    .dataframe tbody tr th {\n",
              "        vertical-align: top;\n",
              "    }\n",
              "\n",
              "    .dataframe thead th {\n",
              "        text-align: right;\n",
              "    }\n",
              "</style>\n",
              "<table border=\"1\" class=\"dataframe\">\n",
              "  <thead>\n",
              "    <tr style=\"text-align: right;\">\n",
              "      <th></th>\n",
              "      <th>id</th>\n",
              "      <th>vendor_id</th>\n",
              "      <th>pickup_datetime</th>\n",
              "      <th>passenger_count</th>\n",
              "      <th>trip_distance</th>\n",
              "      <th>pickup_longitude</th>\n",
              "      <th>pickup_latitude</th>\n",
              "      <th>dropoff_longitude</th>\n",
              "      <th>dropoff_latitude</th>\n",
              "      <th>payment_type</th>\n",
              "      <th>trip_duration</th>\n",
              "      <th>pickup_neighborhood</th>\n",
              "      <th>dropoff_neighborhood</th>\n",
              "    </tr>\n",
              "  </thead>\n",
              "  <tbody>\n",
              "    <tr>\n",
              "      <th>852</th>\n",
              "      <td>880</td>\n",
              "      <td>1</td>\n",
              "      <td>2016-01-01 02:15:56</td>\n",
              "      <td>1</td>\n",
              "      <td>0.0</td>\n",
              "      <td>-74.002586</td>\n",
              "      <td>40.750298</td>\n",
              "      <td>-74.002861</td>\n",
              "      <td>40.750446</td>\n",
              "      <td>2.0</td>\n",
              "      <td>21.0</td>\n",
              "      <td>AG</td>\n",
              "      <td>AG</td>\n",
              "    </tr>\n",
              "    <tr>\n",
              "      <th>1079</th>\n",
              "      <td>1116</td>\n",
              "      <td>1</td>\n",
              "      <td>2016-01-01 03:01:10</td>\n",
              "      <td>1</td>\n",
              "      <td>0.0</td>\n",
              "      <td>-73.987831</td>\n",
              "      <td>40.728558</td>\n",
              "      <td>-73.988747</td>\n",
              "      <td>40.727280</td>\n",
              "      <td>3.0</td>\n",
              "      <td>136.0</td>\n",
              "      <td>H</td>\n",
              "      <td>H</td>\n",
              "    </tr>\n",
              "    <tr>\n",
              "      <th>1408</th>\n",
              "      <td>1455</td>\n",
              "      <td>2</td>\n",
              "      <td>2016-01-01 04:09:43</td>\n",
              "      <td>1</td>\n",
              "      <td>0.0</td>\n",
              "      <td>-73.985893</td>\n",
              "      <td>40.763649</td>\n",
              "      <td>-73.985741</td>\n",
              "      <td>40.763672</td>\n",
              "      <td>2.0</td>\n",
              "      <td>65.0</td>\n",
              "      <td>AR</td>\n",
              "      <td>AR</td>\n",
              "    </tr>\n",
              "    <tr>\n",
              "      <th>1440</th>\n",
              "      <td>1488</td>\n",
              "      <td>1</td>\n",
              "      <td>2016-01-01 04:16:54</td>\n",
              "      <td>1</td>\n",
              "      <td>0.0</td>\n",
              "      <td>-74.014198</td>\n",
              "      <td>40.709988</td>\n",
              "      <td>-74.014198</td>\n",
              "      <td>40.709988</td>\n",
              "      <td>3.0</td>\n",
              "      <td>3.0</td>\n",
              "      <td>AU</td>\n",
              "      <td>AU</td>\n",
              "    </tr>\n",
              "    <tr>\n",
              "      <th>1510</th>\n",
              "      <td>1558</td>\n",
              "      <td>1</td>\n",
              "      <td>2016-01-01 04:36:03</td>\n",
              "      <td>1</td>\n",
              "      <td>0.0</td>\n",
              "      <td>-73.952507</td>\n",
              "      <td>40.817329</td>\n",
              "      <td>-73.952499</td>\n",
              "      <td>40.817322</td>\n",
              "      <td>2.0</td>\n",
              "      <td>13.0</td>\n",
              "      <td>AL</td>\n",
              "      <td>AL</td>\n",
              "    </tr>\n",
              "    <tr>\n",
              "      <th>...</th>\n",
              "      <td>...</td>\n",
              "      <td>...</td>\n",
              "      <td>...</td>\n",
              "      <td>...</td>\n",
              "      <td>...</td>\n",
              "      <td>...</td>\n",
              "      <td>...</td>\n",
              "      <td>...</td>\n",
              "      <td>...</td>\n",
              "      <td>...</td>\n",
              "      <td>...</td>\n",
              "      <td>...</td>\n",
              "      <td>...</td>\n",
              "    </tr>\n",
              "    <tr>\n",
              "      <th>123906</th>\n",
              "      <td>129387</td>\n",
              "      <td>1</td>\n",
              "      <td>2016-01-26 15:37:23</td>\n",
              "      <td>2</td>\n",
              "      <td>0.0</td>\n",
              "      <td>-73.782417</td>\n",
              "      <td>40.648815</td>\n",
              "      <td>-73.782394</td>\n",
              "      <td>40.648834</td>\n",
              "      <td>2.0</td>\n",
              "      <td>19.0</td>\n",
              "      <td>G</td>\n",
              "      <td>G</td>\n",
              "    </tr>\n",
              "    <tr>\n",
              "      <th>124091</th>\n",
              "      <td>129577</td>\n",
              "      <td>2</td>\n",
              "      <td>2016-01-26 16:34:06</td>\n",
              "      <td>1</td>\n",
              "      <td>0.0</td>\n",
              "      <td>-73.794685</td>\n",
              "      <td>40.667576</td>\n",
              "      <td>-73.794556</td>\n",
              "      <td>40.667515</td>\n",
              "      <td>4.0</td>\n",
              "      <td>99.0</td>\n",
              "      <td>G</td>\n",
              "      <td>G</td>\n",
              "    </tr>\n",
              "    <tr>\n",
              "      <th>124168</th>\n",
              "      <td>129654</td>\n",
              "      <td>2</td>\n",
              "      <td>2016-01-26 16:56:25</td>\n",
              "      <td>1</td>\n",
              "      <td>0.0</td>\n",
              "      <td>-73.783058</td>\n",
              "      <td>40.643856</td>\n",
              "      <td>-73.783081</td>\n",
              "      <td>40.643902</td>\n",
              "      <td>1.0</td>\n",
              "      <td>83.0</td>\n",
              "      <td>G</td>\n",
              "      <td>G</td>\n",
              "    </tr>\n",
              "    <tr>\n",
              "      <th>124422</th>\n",
              "      <td>129918</td>\n",
              "      <td>1</td>\n",
              "      <td>2016-01-26 18:00:56</td>\n",
              "      <td>1</td>\n",
              "      <td>0.0</td>\n",
              "      <td>-73.979179</td>\n",
              "      <td>40.784992</td>\n",
              "      <td>-73.979195</td>\n",
              "      <td>40.785004</td>\n",
              "      <td>3.0</td>\n",
              "      <td>4.0</td>\n",
              "      <td>I</td>\n",
              "      <td>I</td>\n",
              "    </tr>\n",
              "    <tr>\n",
              "      <th>124432</th>\n",
              "      <td>129929</td>\n",
              "      <td>1</td>\n",
              "      <td>2016-01-26 18:02:34</td>\n",
              "      <td>1</td>\n",
              "      <td>0.0</td>\n",
              "      <td>-73.997185</td>\n",
              "      <td>40.761971</td>\n",
              "      <td>-73.997185</td>\n",
              "      <td>40.761982</td>\n",
              "      <td>2.0</td>\n",
              "      <td>29.0</td>\n",
              "      <td>P</td>\n",
              "      <td>P</td>\n",
              "    </tr>\n",
              "  </tbody>\n",
              "</table>\n",
              "<p>451 rows × 13 columns</p>\n",
              "</div>\n",
              "      <button class=\"colab-df-convert\" onclick=\"convertToInteractive('df-c510312a-9c6f-4345-9a4b-73ce466b93f7')\"\n",
              "              title=\"Convert this dataframe to an interactive table.\"\n",
              "              style=\"display:none;\">\n",
              "        \n",
              "  <svg xmlns=\"http://www.w3.org/2000/svg\" height=\"24px\"viewBox=\"0 0 24 24\"\n",
              "       width=\"24px\">\n",
              "    <path d=\"M0 0h24v24H0V0z\" fill=\"none\"/>\n",
              "    <path d=\"M18.56 5.44l.94 2.06.94-2.06 2.06-.94-2.06-.94-.94-2.06-.94 2.06-2.06.94zm-11 1L8.5 8.5l.94-2.06 2.06-.94-2.06-.94L8.5 2.5l-.94 2.06-2.06.94zm10 10l.94 2.06.94-2.06 2.06-.94-2.06-.94-.94-2.06-.94 2.06-2.06.94z\"/><path d=\"M17.41 7.96l-1.37-1.37c-.4-.4-.92-.59-1.43-.59-.52 0-1.04.2-1.43.59L10.3 9.45l-7.72 7.72c-.78.78-.78 2.05 0 2.83L4 21.41c.39.39.9.59 1.41.59.51 0 1.02-.2 1.41-.59l7.78-7.78 2.81-2.81c.8-.78.8-2.07 0-2.86zM5.41 20L4 18.59l7.72-7.72 1.47 1.35L5.41 20z\"/>\n",
              "  </svg>\n",
              "      </button>\n",
              "      \n",
              "  <style>\n",
              "    .colab-df-container {\n",
              "      display:flex;\n",
              "      flex-wrap:wrap;\n",
              "      gap: 12px;\n",
              "    }\n",
              "\n",
              "    .colab-df-convert {\n",
              "      background-color: #E8F0FE;\n",
              "      border: none;\n",
              "      border-radius: 50%;\n",
              "      cursor: pointer;\n",
              "      display: none;\n",
              "      fill: #1967D2;\n",
              "      height: 32px;\n",
              "      padding: 0 0 0 0;\n",
              "      width: 32px;\n",
              "    }\n",
              "\n",
              "    .colab-df-convert:hover {\n",
              "      background-color: #E2EBFA;\n",
              "      box-shadow: 0px 1px 2px rgba(60, 64, 67, 0.3), 0px 1px 3px 1px rgba(60, 64, 67, 0.15);\n",
              "      fill: #174EA6;\n",
              "    }\n",
              "\n",
              "    [theme=dark] .colab-df-convert {\n",
              "      background-color: #3B4455;\n",
              "      fill: #D2E3FC;\n",
              "    }\n",
              "\n",
              "    [theme=dark] .colab-df-convert:hover {\n",
              "      background-color: #434B5C;\n",
              "      box-shadow: 0px 1px 3px 1px rgba(0, 0, 0, 0.15);\n",
              "      filter: drop-shadow(0px 1px 2px rgba(0, 0, 0, 0.3));\n",
              "      fill: #FFFFFF;\n",
              "    }\n",
              "  </style>\n",
              "\n",
              "      <script>\n",
              "        const buttonEl =\n",
              "          document.querySelector('#df-c510312a-9c6f-4345-9a4b-73ce466b93f7 button.colab-df-convert');\n",
              "        buttonEl.style.display =\n",
              "          google.colab.kernel.accessAllowed ? 'block' : 'none';\n",
              "\n",
              "        async function convertToInteractive(key) {\n",
              "          const element = document.querySelector('#df-c510312a-9c6f-4345-9a4b-73ce466b93f7');\n",
              "          const dataTable =\n",
              "            await google.colab.kernel.invokeFunction('convertToInteractive',\n",
              "                                                     [key], {});\n",
              "          if (!dataTable) return;\n",
              "\n",
              "          const docLinkHtml = 'Like what you see? Visit the ' +\n",
              "            '<a target=\"_blank\" href=https://colab.research.google.com/notebooks/data_table.ipynb>data table notebook</a>'\n",
              "            + ' to learn more about interactive tables.';\n",
              "          element.innerHTML = '';\n",
              "          dataTable['output_type'] = 'display_data';\n",
              "          await google.colab.output.renderOutput(dataTable, element);\n",
              "          const docLink = document.createElement('div');\n",
              "          docLink.innerHTML = docLinkHtml;\n",
              "          element.appendChild(docLink);\n",
              "        }\n",
              "      </script>\n",
              "    </div>\n",
              "  </div>\n",
              "  "
            ]
          },
          "metadata": {},
          "execution_count": 21
        }
      ],
      "source": [
        "# Chekcing the rows where trip distance is 0\n",
        "trips[trips['trip_distance']==0]"
      ]
    },
    {
      "cell_type": "markdown",
      "metadata": {
        "id": "CbvDdzWde7mH"
      },
      "source": [
        "- We can observe that, where trip distance is 0 trip duration is not 0, hence we can replace those values. \n",
        "- There are 3807 such rows"
      ]
    },
    {
      "cell_type": "markdown",
      "metadata": {
        "id": "_6KNtggMe7mH"
      },
      "source": [
        "#### **Replacing the 0 values with median of the trip distance**"
      ]
    },
    {
      "cell_type": "code",
      "execution_count": null,
      "metadata": {
        "id": "moeohpo0e7mH"
      },
      "outputs": [],
      "source": [
        "trips['trip_distance']=trips['trip_distance'].replace(0,trips['trip_distance'].median())"
      ]
    },
    {
      "cell_type": "code",
      "execution_count": null,
      "metadata": {
        "id": "hPVdaDgUe7mH",
        "colab": {
          "base_uri": "https://localhost:8080/"
        },
        "outputId": "3091f845-8437-4fb3-9113-b486240f4d6d"
      },
      "outputs": [
        {
          "output_type": "execute_result",
          "data": {
            "text/plain": [
              "id                      0\n",
              "vendor_id               0\n",
              "pickup_datetime         0\n",
              "passenger_count         0\n",
              "trip_distance           0\n",
              "pickup_longitude        0\n",
              "pickup_latitude         0\n",
              "dropoff_longitude       0\n",
              "dropoff_latitude        0\n",
              "payment_type            0\n",
              "trip_duration           0\n",
              "pickup_neighborhood     0\n",
              "dropoff_neighborhood    0\n",
              "dtype: int64"
            ]
          },
          "metadata": {},
          "execution_count": 23
        }
      ],
      "source": [
        "trips[trips['trip_distance']==0].count()"
      ]
    },
    {
      "cell_type": "markdown",
      "metadata": {
        "id": "0Vbr02mbe7mH"
      },
      "source": [
        "#### **Checking for the rows for which trip_duration is 0**"
      ]
    },
    {
      "cell_type": "code",
      "execution_count": null,
      "metadata": {
        "id": "CQv0gWjJe7mH",
        "colab": {
          "base_uri": "https://localhost:8080/",
          "height": 211
        },
        "outputId": "c570f5e0-2edb-4106-adbf-a6c149fc8757"
      },
      "outputs": [
        {
          "output_type": "execute_result",
          "data": {
            "text/plain": [
              "            id vendor_id     pickup_datetime  passenger_count  trip_distance  \\\n",
              "44446    46325         1 2016-01-10 00:48:55                1           1.20   \n",
              "121544  126869         2 2016-01-26 00:07:47                6           4.35   \n",
              "\n",
              "        pickup_longitude  pickup_latitude  dropoff_longitude  \\\n",
              "44446         -73.968842        40.766972         -73.968842   \n",
              "121544        -73.986694        40.739815         -73.956139   \n",
              "\n",
              "        dropoff_latitude payment_type  trip_duration pickup_neighborhood  \\\n",
              "44446          40.766972          3.0            0.0                  AK   \n",
              "121544         40.732872          1.0            0.0                   R   \n",
              "\n",
              "       dropoff_neighborhood  \n",
              "44446                    AK  \n",
              "121544                    Z  "
            ],
            "text/html": [
              "\n",
              "  <div id=\"df-143c6a88-3b7a-4b6b-9692-00aeede1df82\">\n",
              "    <div class=\"colab-df-container\">\n",
              "      <div>\n",
              "<style scoped>\n",
              "    .dataframe tbody tr th:only-of-type {\n",
              "        vertical-align: middle;\n",
              "    }\n",
              "\n",
              "    .dataframe tbody tr th {\n",
              "        vertical-align: top;\n",
              "    }\n",
              "\n",
              "    .dataframe thead th {\n",
              "        text-align: right;\n",
              "    }\n",
              "</style>\n",
              "<table border=\"1\" class=\"dataframe\">\n",
              "  <thead>\n",
              "    <tr style=\"text-align: right;\">\n",
              "      <th></th>\n",
              "      <th>id</th>\n",
              "      <th>vendor_id</th>\n",
              "      <th>pickup_datetime</th>\n",
              "      <th>passenger_count</th>\n",
              "      <th>trip_distance</th>\n",
              "      <th>pickup_longitude</th>\n",
              "      <th>pickup_latitude</th>\n",
              "      <th>dropoff_longitude</th>\n",
              "      <th>dropoff_latitude</th>\n",
              "      <th>payment_type</th>\n",
              "      <th>trip_duration</th>\n",
              "      <th>pickup_neighborhood</th>\n",
              "      <th>dropoff_neighborhood</th>\n",
              "    </tr>\n",
              "  </thead>\n",
              "  <tbody>\n",
              "    <tr>\n",
              "      <th>44446</th>\n",
              "      <td>46325</td>\n",
              "      <td>1</td>\n",
              "      <td>2016-01-10 00:48:55</td>\n",
              "      <td>1</td>\n",
              "      <td>1.20</td>\n",
              "      <td>-73.968842</td>\n",
              "      <td>40.766972</td>\n",
              "      <td>-73.968842</td>\n",
              "      <td>40.766972</td>\n",
              "      <td>3.0</td>\n",
              "      <td>0.0</td>\n",
              "      <td>AK</td>\n",
              "      <td>AK</td>\n",
              "    </tr>\n",
              "    <tr>\n",
              "      <th>121544</th>\n",
              "      <td>126869</td>\n",
              "      <td>2</td>\n",
              "      <td>2016-01-26 00:07:47</td>\n",
              "      <td>6</td>\n",
              "      <td>4.35</td>\n",
              "      <td>-73.986694</td>\n",
              "      <td>40.739815</td>\n",
              "      <td>-73.956139</td>\n",
              "      <td>40.732872</td>\n",
              "      <td>1.0</td>\n",
              "      <td>0.0</td>\n",
              "      <td>R</td>\n",
              "      <td>Z</td>\n",
              "    </tr>\n",
              "  </tbody>\n",
              "</table>\n",
              "</div>\n",
              "      <button class=\"colab-df-convert\" onclick=\"convertToInteractive('df-143c6a88-3b7a-4b6b-9692-00aeede1df82')\"\n",
              "              title=\"Convert this dataframe to an interactive table.\"\n",
              "              style=\"display:none;\">\n",
              "        \n",
              "  <svg xmlns=\"http://www.w3.org/2000/svg\" height=\"24px\"viewBox=\"0 0 24 24\"\n",
              "       width=\"24px\">\n",
              "    <path d=\"M0 0h24v24H0V0z\" fill=\"none\"/>\n",
              "    <path d=\"M18.56 5.44l.94 2.06.94-2.06 2.06-.94-2.06-.94-.94-2.06-.94 2.06-2.06.94zm-11 1L8.5 8.5l.94-2.06 2.06-.94-2.06-.94L8.5 2.5l-.94 2.06-2.06.94zm10 10l.94 2.06.94-2.06 2.06-.94-2.06-.94-.94-2.06-.94 2.06-2.06.94z\"/><path d=\"M17.41 7.96l-1.37-1.37c-.4-.4-.92-.59-1.43-.59-.52 0-1.04.2-1.43.59L10.3 9.45l-7.72 7.72c-.78.78-.78 2.05 0 2.83L4 21.41c.39.39.9.59 1.41.59.51 0 1.02-.2 1.41-.59l7.78-7.78 2.81-2.81c.8-.78.8-2.07 0-2.86zM5.41 20L4 18.59l7.72-7.72 1.47 1.35L5.41 20z\"/>\n",
              "  </svg>\n",
              "      </button>\n",
              "      \n",
              "  <style>\n",
              "    .colab-df-container {\n",
              "      display:flex;\n",
              "      flex-wrap:wrap;\n",
              "      gap: 12px;\n",
              "    }\n",
              "\n",
              "    .colab-df-convert {\n",
              "      background-color: #E8F0FE;\n",
              "      border: none;\n",
              "      border-radius: 50%;\n",
              "      cursor: pointer;\n",
              "      display: none;\n",
              "      fill: #1967D2;\n",
              "      height: 32px;\n",
              "      padding: 0 0 0 0;\n",
              "      width: 32px;\n",
              "    }\n",
              "\n",
              "    .colab-df-convert:hover {\n",
              "      background-color: #E2EBFA;\n",
              "      box-shadow: 0px 1px 2px rgba(60, 64, 67, 0.3), 0px 1px 3px 1px rgba(60, 64, 67, 0.15);\n",
              "      fill: #174EA6;\n",
              "    }\n",
              "\n",
              "    [theme=dark] .colab-df-convert {\n",
              "      background-color: #3B4455;\n",
              "      fill: #D2E3FC;\n",
              "    }\n",
              "\n",
              "    [theme=dark] .colab-df-convert:hover {\n",
              "      background-color: #434B5C;\n",
              "      box-shadow: 0px 1px 3px 1px rgba(0, 0, 0, 0.15);\n",
              "      filter: drop-shadow(0px 1px 2px rgba(0, 0, 0, 0.3));\n",
              "      fill: #FFFFFF;\n",
              "    }\n",
              "  </style>\n",
              "\n",
              "      <script>\n",
              "        const buttonEl =\n",
              "          document.querySelector('#df-143c6a88-3b7a-4b6b-9692-00aeede1df82 button.colab-df-convert');\n",
              "        buttonEl.style.display =\n",
              "          google.colab.kernel.accessAllowed ? 'block' : 'none';\n",
              "\n",
              "        async function convertToInteractive(key) {\n",
              "          const element = document.querySelector('#df-143c6a88-3b7a-4b6b-9692-00aeede1df82');\n",
              "          const dataTable =\n",
              "            await google.colab.kernel.invokeFunction('convertToInteractive',\n",
              "                                                     [key], {});\n",
              "          if (!dataTable) return;\n",
              "\n",
              "          const docLinkHtml = 'Like what you see? Visit the ' +\n",
              "            '<a target=\"_blank\" href=https://colab.research.google.com/notebooks/data_table.ipynb>data table notebook</a>'\n",
              "            + ' to learn more about interactive tables.';\n",
              "          element.innerHTML = '';\n",
              "          dataTable['output_type'] = 'display_data';\n",
              "          await google.colab.output.renderOutput(dataTable, element);\n",
              "          const docLink = document.createElement('div');\n",
              "          docLink.innerHTML = docLinkHtml;\n",
              "          element.appendChild(docLink);\n",
              "        }\n",
              "      </script>\n",
              "    </div>\n",
              "  </div>\n",
              "  "
            ]
          },
          "metadata": {},
          "execution_count": 24
        }
      ],
      "source": [
        "trips[trips['trip_duration']==0].head()"
      ]
    },
    {
      "cell_type": "markdown",
      "metadata": {
        "id": "ndaP5-Wse7mI"
      },
      "source": [
        "- We can observe that, where trip distance is 0 trip duration is not 0, hence we can replace those values. "
      ]
    },
    {
      "cell_type": "code",
      "execution_count": null,
      "metadata": {
        "id": "rSxLDMGye7mI"
      },
      "outputs": [],
      "source": [
        "trips['trip_duration']=trips['trip_duration'].replace(0,trips['trip_duration'].median())"
      ]
    },
    {
      "cell_type": "code",
      "execution_count": null,
      "metadata": {
        "id": "pht9jQIGe7mI",
        "colab": {
          "base_uri": "https://localhost:8080/"
        },
        "outputId": "29ca4e98-c6b5-4313-d048-d994da655eaf"
      },
      "outputs": [
        {
          "output_type": "execute_result",
          "data": {
            "text/plain": [
              "id                      0\n",
              "vendor_id               0\n",
              "pickup_datetime         0\n",
              "passenger_count         0\n",
              "trip_distance           0\n",
              "pickup_longitude        0\n",
              "pickup_latitude         0\n",
              "dropoff_longitude       0\n",
              "dropoff_latitude        0\n",
              "payment_type            0\n",
              "trip_duration           0\n",
              "pickup_neighborhood     0\n",
              "dropoff_neighborhood    0\n",
              "dtype: int64"
            ]
          },
          "metadata": {},
          "execution_count": 26
        }
      ],
      "source": [
        "trips[trips['trip_duration']==0].count()"
      ]
    },
    {
      "cell_type": "markdown",
      "metadata": {
        "id": "TvLvWLJje7mI"
      },
      "source": [
        "## **Question 2: Univariate Analysis**"
      ]
    },
    {
      "cell_type": "markdown",
      "metadata": {
        "id": "OgxuqCT5e7mI"
      },
      "source": [
        "### **Question 2.1: Build histogram for numerical columns (1 Marks)**"
      ]
    },
    {
      "cell_type": "code",
      "execution_count": null,
      "metadata": {
        "id": "av5PV9dPe7mI",
        "colab": {
          "base_uri": "https://localhost:8080/",
          "height": 716
        },
        "outputId": "c35c01bc-a971-4702-9d89-8817eb03ab01"
      },
      "outputs": [
        {
          "output_type": "display_data",
          "data": {
            "text/plain": [
              "<Figure size 864x864 with 9 Axes>"
            ],
            "image/png": "[encoded data removed]"
          },
          "metadata": {
            "needs_background": "light"
          }
        }
      ],
      "source": [
        "trips.hist(figsize=(12,12))\n",
        "plt.show()"
      ]
    },
    {
      "cell_type": "markdown",
      "metadata": {
        "id": "No7kFNUPe7mI"
      },
      "source": [
        "**Write your answers here: Both the trip dist and trip duration are a bit right skewed.**\n",
        "\n",
        "**Pickup_lattitude, pickup_longitude, dropoff_longitude and dropoff_lattitude follows a nearly normal distribution**"
      ]
    },
    {
      "cell_type": "code",
      "execution_count": null,
      "metadata": {
        "id": "ZEmbM8M9e7mI",
        "colab": {
          "base_uri": "https://localhost:8080/",
          "height": 280
        },
        "outputId": "3b82df2f-92de-4b16-90c3-37d8188a2e6b"
      },
      "outputs": [
        {
          "output_type": "display_data",
          "data": {
            "text/plain": [
              "<Figure size 432x288 with 1 Axes>"
            ],
            "image/png": "[encoded data removed]"
          },
          "metadata": {
            "needs_background": "light"
          }
        }
      ],
      "source": [
        "sns.boxplot(trips['trip_distance'])\n",
        "plt.show()"
      ]
    },
    {
      "cell_type": "markdown",
      "metadata": {
        "id": "16klmj-Le7mJ"
      },
      "source": [
        "- We can see there is an extreme outlier in the dataset, we drop investigate it further"
      ]
    },
    {
      "cell_type": "code",
      "execution_count": null,
      "metadata": {
        "id": "jiNRKU3Le7mJ",
        "colab": {
          "base_uri": "https://localhost:8080/",
          "height": 113
        },
        "outputId": "004a3f9a-46d3-492f-e01d-286b97eee02f"
      },
      "outputs": [
        {
          "output_type": "execute_result",
          "data": {
            "text/plain": [
              "Empty DataFrame\n",
              "Columns: [id, vendor_id, pickup_datetime, passenger_count, trip_distance, pickup_longitude, pickup_latitude, dropoff_longitude, dropoff_latitude, payment_type, trip_duration, pickup_neighborhood, dropoff_neighborhood]\n",
              "Index: []"
            ],
            "text/html": [
              "\n",
              "  <div id=\"df-4672c951-9c94-4f33-bc95-77171cbdd67a\">\n",
              "    <div class=\"colab-df-container\">\n",
              "      <div>\n",
              "<style scoped>\n",
              "    .dataframe tbody tr th:only-of-type {\n",
              "        vertical-align: middle;\n",
              "    }\n",
              "\n",
              "    .dataframe tbody tr th {\n",
              "        vertical-align: top;\n",
              "    }\n",
              "\n",
              "    .dataframe thead th {\n",
              "        text-align: right;\n",
              "    }\n",
              "</style>\n",
              "<table border=\"1\" class=\"dataframe\">\n",
              "  <thead>\n",
              "    <tr style=\"text-align: right;\">\n",
              "      <th></th>\n",
              "      <th>id</th>\n",
              "      <th>vendor_id</th>\n",
              "      <th>pickup_datetime</th>\n",
              "      <th>passenger_count</th>\n",
              "      <th>trip_distance</th>\n",
              "      <th>pickup_longitude</th>\n",
              "      <th>pickup_latitude</th>\n",
              "      <th>dropoff_longitude</th>\n",
              "      <th>dropoff_latitude</th>\n",
              "      <th>payment_type</th>\n",
              "      <th>trip_duration</th>\n",
              "      <th>pickup_neighborhood</th>\n",
              "      <th>dropoff_neighborhood</th>\n",
              "    </tr>\n",
              "  </thead>\n",
              "  <tbody>\n",
              "  </tbody>\n",
              "</table>\n",
              "</div>\n",
              "      <button class=\"colab-df-convert\" onclick=\"convertToInteractive('df-4672c951-9c94-4f33-bc95-77171cbdd67a')\"\n",
              "              title=\"Convert this dataframe to an interactive table.\"\n",
              "              style=\"display:none;\">\n",
              "        \n",
              "  <svg xmlns=\"http://www.w3.org/2000/svg\" height=\"24px\"viewBox=\"0 0 24 24\"\n",
              "       width=\"24px\">\n",
              "    <path d=\"M0 0h24v24H0V0z\" fill=\"none\"/>\n",
              "    <path d=\"M18.56 5.44l.94 2.06.94-2.06 2.06-.94-2.06-.94-.94-2.06-.94 2.06-2.06.94zm-11 1L8.5 8.5l.94-2.06 2.06-.94-2.06-.94L8.5 2.5l-.94 2.06-2.06.94zm10 10l.94 2.06.94-2.06 2.06-.94-2.06-.94-.94-2.06-.94 2.06-2.06.94z\"/><path d=\"M17.41 7.96l-1.37-1.37c-.4-.4-.92-.59-1.43-.59-.52 0-1.04.2-1.43.59L10.3 9.45l-7.72 7.72c-.78.78-.78 2.05 0 2.83L4 21.41c.39.39.9.59 1.41.59.51 0 1.02-.2 1.41-.59l7.78-7.78 2.81-2.81c.8-.78.8-2.07 0-2.86zM5.41 20L4 18.59l7.72-7.72 1.47 1.35L5.41 20z\"/>\n",
              "  </svg>\n",
              "      </button>\n",
              "      \n",
              "  <style>\n",
              "    .colab-df-container {\n",
              "      display:flex;\n",
              "      flex-wrap:wrap;\n",
              "      gap: 12px;\n",
              "    }\n",
              "\n",
              "    .colab-df-convert {\n",
              "      background-color: #E8F0FE;\n",
              "      border: none;\n",
              "      border-radius: 50%;\n",
              "      cursor: pointer;\n",
              "      display: none;\n",
              "      fill: #1967D2;\n",
              "      height: 32px;\n",
              "      padding: 0 0 0 0;\n",
              "      width: 32px;\n",
              "    }\n",
              "\n",
              "    .colab-df-convert:hover {\n",
              "      background-color: #E2EBFA;\n",
              "      box-shadow: 0px 1px 2px rgba(60, 64, 67, 0.3), 0px 1px 3px 1px rgba(60, 64, 67, 0.15);\n",
              "      fill: #174EA6;\n",
              "    }\n",
              "\n",
              "    [theme=dark] .colab-df-convert {\n",
              "      background-color: #3B4455;\n",
              "      fill: #D2E3FC;\n",
              "    }\n",
              "\n",
              "    [theme=dark] .colab-df-convert:hover {\n",
              "      background-color: #434B5C;\n",
              "      box-shadow: 0px 1px 3px 1px rgba(0, 0, 0, 0.15);\n",
              "      filter: drop-shadow(0px 1px 2px rgba(0, 0, 0, 0.3));\n",
              "      fill: #FFFFFF;\n",
              "    }\n",
              "  </style>\n",
              "\n",
              "      <script>\n",
              "        const buttonEl =\n",
              "          document.querySelector('#df-4672c951-9c94-4f33-bc95-77171cbdd67a button.colab-df-convert');\n",
              "        buttonEl.style.display =\n",
              "          google.colab.kernel.accessAllowed ? 'block' : 'none';\n",
              "\n",
              "        async function convertToInteractive(key) {\n",
              "          const element = document.querySelector('#df-4672c951-9c94-4f33-bc95-77171cbdd67a');\n",
              "          const dataTable =\n",
              "            await google.colab.kernel.invokeFunction('convertToInteractive',\n",
              "                                                     [key], {});\n",
              "          if (!dataTable) return;\n",
              "\n",
              "          const docLinkHtml = 'Like what you see? Visit the ' +\n",
              "            '<a target=\"_blank\" href=https://colab.research.google.com/notebooks/data_table.ipynb>data table notebook</a>'\n",
              "            + ' to learn more about interactive tables.';\n",
              "          element.innerHTML = '';\n",
              "          dataTable['output_type'] = 'display_data';\n",
              "          await google.colab.output.renderOutput(dataTable, element);\n",
              "          const docLink = document.createElement('div');\n",
              "          docLink.innerHTML = docLinkHtml;\n",
              "          element.appendChild(docLink);\n",
              "        }\n",
              "      </script>\n",
              "    </div>\n",
              "  </div>\n",
              "  "
            ]
          },
          "metadata": {},
          "execution_count": 29
        }
      ],
      "source": [
        "trips[trips['trip_distance']>100]"
      ]
    },
    {
      "cell_type": "markdown",
      "metadata": {
        "id": "xtOo05N2e7mJ"
      },
      "source": [
        "- We can observe that, there are 2 observation>500, and there is a huge gap in the trip duration for them.\n",
        "- Covering 501.4 distance in 141 sec, is not possible, it is better we can clip these values to 50. "
      ]
    },
    {
      "cell_type": "markdown",
      "metadata": {
        "id": "-c2kP0I_e7mJ"
      },
      "source": [
        "**Clipping the outliers of trip distance to 50**"
      ]
    },
    {
      "cell_type": "code",
      "execution_count": null,
      "metadata": {
        "id": "FcKaORJ_e7mJ"
      },
      "outputs": [],
      "source": [
        "trips['trip_distance']=trips['trip_distance'].clip(trips['trip_distance'].min(),50)"
      ]
    },
    {
      "cell_type": "code",
      "execution_count": null,
      "metadata": {
        "id": "gjPrOVT2e7mJ",
        "colab": {
          "base_uri": "https://localhost:8080/",
          "height": 280
        },
        "outputId": "5f3ba833-3e0d-4766-f8d5-091f052b2d9b"
      },
      "outputs": [
        {
          "output_type": "display_data",
          "data": {
            "text/plain": [
              "<Figure size 432x288 with 1 Axes>"
            ],
            "image/png": "[encoded data removed]"
          },
          "metadata": {
            "needs_background": "light"
          }
        }
      ],
      "source": [
        "sns.boxplot(trips['trip_distance'])\n",
        "plt.show()"
      ]
    },
    {
      "cell_type": "markdown",
      "metadata": {
        "id": "DJcbsXJWe7mJ"
      },
      "source": [
        "### **Question 2.2 Plotting countplot for Passenger_count (1 Marks)**"
      ]
    },
    {
      "cell_type": "code",
      "execution_count": null,
      "metadata": {
        "id": "J_QluVHbe7mJ",
        "colab": {
          "base_uri": "https://localhost:8080/",
          "height": 216
        },
        "outputId": "ff00af3c-3252-4ca0-b885-2653cd467fb2"
      },
      "outputs": [
        {
          "output_type": "display_data",
          "data": {
            "text/plain": [
              "<Figure size 1440x360 with 1 Axes>"
            ],
            "image/png": "[encoded data removed]"
          },
          "metadata": {
            "needs_background": "light"
          }
        }
      ],
      "source": [
        "plt.figure(figsize=(20,5))\n",
        "sns.countplot(trips.passenger_count)\n",
        "plt.show()"
      ]
    },
    {
      "cell_type": "code",
      "execution_count": null,
      "metadata": {
        "id": "LkFsn3-ie7mJ",
        "colab": {
          "base_uri": "https://localhost:8080/"
        },
        "outputId": "06288be7-c4d7-4484-e64f-1f9dd2f56e93"
      },
      "outputs": [
        {
          "output_type": "execute_result",
          "data": {
            "text/plain": [
              "1    0.706593\n",
              "2    0.143048\n",
              "5    0.056363\n",
              "3    0.040229\n",
              "6    0.033842\n",
              "4    0.019902\n",
              "0    0.000024\n",
              "Name: passenger_count, dtype: float64"
            ]
          },
          "metadata": {},
          "execution_count": 33
        }
      ],
      "source": [
        "trips.passenger_count.value_counts(normalize=True)"
      ]
    },
    {
      "cell_type": "markdown",
      "metadata": {
        "id": "O0c2L1oTe7mK"
      },
      "source": [
        "**Write your answers here: the distribution of passenger count follows a normal distribution**\n"
      ]
    },
    {
      "cell_type": "markdown",
      "metadata": {
        "id": "CZg1R18_e7mK"
      },
      "source": [
        "### **Question 2.3 Plotting countplot for pickup_neighborhood and dropoff_neighborhood (2 Marks)**"
      ]
    },
    {
      "cell_type": "code",
      "execution_count": null,
      "metadata": {
        "id": "_diXT4cce7mK",
        "colab": {
          "base_uri": "https://localhost:8080/",
          "height": 336
        },
        "outputId": "822976bb-713e-4e64-87f1-1a785c4e9d89"
      },
      "outputs": [
        {
          "output_type": "execute_result",
          "data": {
            "text/plain": [
              "<matplotlib.axes._subplots.AxesSubplot at 0x7f147c0a8b90>"
            ]
          },
          "metadata": {},
          "execution_count": 35
        },
        {
          "output_type": "display_data",
          "data": {
            "text/plain": [
              "<Figure size 1440x576 with 1 Axes>"
            ],
            "image/png": "[encoded data removed]"
          },
          "metadata": {
            "needs_background": "light"
          }
        }
      ],
      "source": [
        "trips.pickup_neighborhood.value_counts().plot(kind='bar' ,figsize=(20,8))"
      ]
    },
    {
      "cell_type": "code",
      "execution_count": null,
      "metadata": {
        "id": "CFkUte2Ke7mK",
        "colab": {
          "base_uri": "https://localhost:8080/",
          "height": 336
        },
        "outputId": "6a2a87da-bc19-4116-aaf0-765e7078c306"
      },
      "outputs": [
        {
          "output_type": "execute_result",
          "data": {
            "text/plain": [
              "<matplotlib.axes._subplots.AxesSubplot at 0x7f147bf36990>"
            ]
          },
          "metadata": {},
          "execution_count": 36
        },
        {
          "output_type": "display_data",
          "data": {
            "text/plain": [
              "<Figure size 1440x576 with 1 Axes>"
            ],
            "image/png": "[encoded data removed]"
          },
          "metadata": {
            "needs_background": "light"
          }
        }
      ],
      "source": [
        "\n",
        "trips.dropoff_neighborhood.value_counts().plot(kind='bar' ,figsize=(20,8))"
      ]
    },
    {
      "cell_type": "markdown",
      "metadata": {
        "id": "LWqCi1zde7mK"
      },
      "source": [
        "**Write your answers here: AD and A has the most pickups and dropoffs. AE and AI has the least amount**"
      ]
    },
    {
      "cell_type": "markdown",
      "metadata": {
        "id": "5o6bTF77e7mK"
      },
      "source": [
        "## **Bivariate analysis**"
      ]
    },
    {
      "cell_type": "markdown",
      "metadata": {
        "id": "XjMs4fvHe7mK"
      },
      "source": [
        "#### **Plot a scatter plot for trip distance and trip duration**"
      ]
    },
    {
      "cell_type": "code",
      "execution_count": null,
      "metadata": {
        "id": "mW-g9Cpue7mL",
        "colab": {
          "base_uri": "https://localhost:8080/",
          "height": 298
        },
        "outputId": "939a7502-457a-4701-accd-9aea278e4f57"
      },
      "outputs": [
        {
          "output_type": "execute_result",
          "data": {
            "text/plain": [
              "<matplotlib.axes._subplots.AxesSubplot at 0x7f147be635d0>"
            ]
          },
          "metadata": {},
          "execution_count": 37
        },
        {
          "output_type": "display_data",
          "data": {
            "text/plain": [
              "<Figure size 432x288 with 1 Axes>"
            ],
            "image/png": "[encoded data removed]"
          },
          "metadata": {
            "needs_background": "light"
          }
        }
      ],
      "source": [
        "sns.scatterplot(trips['trip_distance'],trips['trip_duration'])"
      ]
    },
    {
      "cell_type": "markdown",
      "metadata": {
        "id": "kmwh7qvOe7mL"
      },
      "source": [
        "- There is some positive correlation between trip_distance and trip_duration."
      ]
    },
    {
      "cell_type": "code",
      "execution_count": null,
      "metadata": {
        "id": "66BE440Re7mL",
        "colab": {
          "base_uri": "https://localhost:8080/",
          "height": 299
        },
        "outputId": "36852cec-8f46-4d9a-b02b-c2728d8f9fef"
      },
      "outputs": [
        {
          "output_type": "execute_result",
          "data": {
            "text/plain": [
              "<matplotlib.axes._subplots.AxesSubplot at 0x7f147bd1e850>"
            ]
          },
          "metadata": {},
          "execution_count": 38
        },
        {
          "output_type": "display_data",
          "data": {
            "text/plain": [
              "<Figure size 432x288 with 1 Axes>"
            ],
            "image/png": "[encoded data removed]"
          },
          "metadata": {
            "needs_background": "light"
          }
        }
      ],
      "source": [
        "sns.countplot(trips['passenger_count'],hue=trips['payment_type'])"
      ]
    },
    {
      "cell_type": "markdown",
      "metadata": {
        "id": "Rmka0-Eve7mL"
      },
      "source": [
        "- There is no such specific pattern can be observed."
      ]
    },
    {
      "cell_type": "markdown",
      "metadata": {
        "id": "XQyUHFiue7mL"
      },
      "source": [
        "## **Step 2: Prepare the Data**\n",
        "\n",
        "Lets create entities and relationships. The three entities in this data are \n",
        "* trips \n",
        "* pickup_neighborhoods\n",
        "* dropoff_neighborhoods\n",
        "\n",
        "This data has the following relationships\n",
        "* pickup_neighborhoods --> trips (one neighborhood can have multiple trips that start in it. This means pickup_neighborhoods is the ``parent_entity`` and trips is the child entity)\n",
        "* dropoff_neighborhoods --> trips (one neighborhood can have multiple trips that end in it. This means dropoff_neighborhoods is the ``parent_entity`` and trips is the child entity)\n",
        "\n",
        "In [featuretools](https://featuretools.alteryx.com/en/v0.27.0/getting_started/getting_started_index.html) (automated feature engineering software package), we specify the list of entities and relationships as follows: \n"
      ]
    },
    {
      "cell_type": "markdown",
      "metadata": {
        "id": "kmxBM_bCe7mL"
      },
      "source": [
        "### **Question 3: Define entities and relationships for the Deep Feature Synthesis (2 Marks)**"
      ]
    },
    {
      "cell_type": "code",
      "execution_count": null,
      "metadata": {
        "ExecuteTime": {
          "end_time": "2021-07-15T12:41:08.351728Z",
          "start_time": "2021-07-15T12:41:08.253155Z"
        },
        "id": "anXSkHCNe7mL"
      },
      "outputs": [],
      "source": [
        "\n",
        "entities = {\n",
        "        \"trips\": (trips, \"id\", 'pickup_datetime' ),\n",
        "        \"pickup_neighborhoods\": (pickup_neighborhoods, \"neighborhood_id\"),\n",
        "        \"dropoff_neighborhoods\": (dropoff_neighborhoods, \"neighborhood_id\"),\n",
        "        }\n",
        "\n",
        "relationships = [(\"pickup_neighborhoods\", \"neighborhood_id\", \"trips\", \"pickup_neighborhood\"),\n",
        "                 (\"dropoff_neighborhoods\", \"neighborhood_id\", \"trips\", \"dropoff_neighborhood\")]"
      ]
    },
    {
      "cell_type": "markdown",
      "metadata": {
        "id": "jCMSiKPpe7mL"
      },
      "source": [
        "Next, we specify the cutoff time for each instance of the target_entity, in this case ``trips``.This timestamp represents the last time data can be used for calculating features by DFS. In this scenario, that would be the pickup time because we would like to make the duration prediction using data before the trip starts. \n",
        "\n",
        "For the purposes of the case study, we choose to only select trips that started after **January 12th, 2016**. "
      ]
    },
    {
      "cell_type": "code",
      "execution_count": null,
      "metadata": {
        "ExecuteTime": {
          "end_time": "2021-07-15T12:41:53.295477Z",
          "start_time": "2021-07-15T12:41:53.056658Z"
        },
        "id": "5jNGZ0eTe7mM",
        "colab": {
          "base_uri": "https://localhost:8080/",
          "height": 363
        },
        "outputId": "0dffd901-0405-4bc7-f2ee-6f77bed8195f"
      },
      "outputs": [
        {
          "output_type": "execute_result",
          "data": {
            "text/plain": [
              "            id     pickup_datetime\n",
              "54031    56311 2016-01-12 00:00:25\n",
              "100975  105349 2016-01-20 18:38:31\n",
              "100976  105350 2016-01-20 18:38:51\n",
              "100977  105351 2016-01-20 18:38:54\n",
              "100978  105352 2016-01-20 18:39:07\n",
              "100979  105353 2016-01-20 18:39:14\n",
              "100980  105354 2016-01-20 18:39:23\n",
              "100981  105355 2016-01-20 18:39:29\n",
              "100982  105356 2016-01-20 18:39:34\n",
              "100983  105357 2016-01-20 18:39:34"
            ],
            "text/html": [
              "\n",
              "  <div id=\"df-4371f876-5aaf-40d8-8a70-29a25a141eb5\">\n",
              "    <div class=\"colab-df-container\">\n",
              "      <div>\n",
              "<style scoped>\n",
              "    .dataframe tbody tr th:only-of-type {\n",
              "        vertical-align: middle;\n",
              "    }\n",
              "\n",
              "    .dataframe tbody tr th {\n",
              "        vertical-align: top;\n",
              "    }\n",
              "\n",
              "    .dataframe thead th {\n",
              "        text-align: right;\n",
              "    }\n",
              "</style>\n",
              "<table border=\"1\" class=\"dataframe\">\n",
              "  <thead>\n",
              "    <tr style=\"text-align: right;\">\n",
              "      <th></th>\n",
              "      <th>id</th>\n",
              "      <th>pickup_datetime</th>\n",
              "    </tr>\n",
              "  </thead>\n",
              "  <tbody>\n",
              "    <tr>\n",
              "      <th>54031</th>\n",
              "      <td>56311</td>\n",
              "      <td>2016-01-12 00:00:25</td>\n",
              "    </tr>\n",
              "    <tr>\n",
              "      <th>100975</th>\n",
              "      <td>105349</td>\n",
              "      <td>2016-01-20 18:38:31</td>\n",
              "    </tr>\n",
              "    <tr>\n",
              "      <th>100976</th>\n",
              "      <td>105350</td>\n",
              "      <td>2016-01-20 18:38:51</td>\n",
              "    </tr>\n",
              "    <tr>\n",
              "      <th>100977</th>\n",
              "      <td>105351</td>\n",
              "      <td>2016-01-20 18:38:54</td>\n",
              "    </tr>\n",
              "    <tr>\n",
              "      <th>100978</th>\n",
              "      <td>105352</td>\n",
              "      <td>2016-01-20 18:39:07</td>\n",
              "    </tr>\n",
              "    <tr>\n",
              "      <th>100979</th>\n",
              "      <td>105353</td>\n",
              "      <td>2016-01-20 18:39:14</td>\n",
              "    </tr>\n",
              "    <tr>\n",
              "      <th>100980</th>\n",
              "      <td>105354</td>\n",
              "      <td>2016-01-20 18:39:23</td>\n",
              "    </tr>\n",
              "    <tr>\n",
              "      <th>100981</th>\n",
              "      <td>105355</td>\n",
              "      <td>2016-01-20 18:39:29</td>\n",
              "    </tr>\n",
              "    <tr>\n",
              "      <th>100982</th>\n",
              "      <td>105356</td>\n",
              "      <td>2016-01-20 18:39:34</td>\n",
              "    </tr>\n",
              "    <tr>\n",
              "      <th>100983</th>\n",
              "      <td>105357</td>\n",
              "      <td>2016-01-20 18:39:34</td>\n",
              "    </tr>\n",
              "  </tbody>\n",
              "</table>\n",
              "</div>\n",
              "      <button class=\"colab-df-convert\" onclick=\"convertToInteractive('df-4371f876-5aaf-40d8-8a70-29a25a141eb5')\"\n",
              "              title=\"Convert this dataframe to an interactive table.\"\n",
              "              style=\"display:none;\">\n",
              "        \n",
              "  <svg xmlns=\"http://www.w3.org/2000/svg\" height=\"24px\"viewBox=\"0 0 24 24\"\n",
              "       width=\"24px\">\n",
              "    <path d=\"M0 0h24v24H0V0z\" fill=\"none\"/>\n",
              "    <path d=\"M18.56 5.44l.94 2.06.94-2.06 2.06-.94-2.06-.94-.94-2.06-.94 2.06-2.06.94zm-11 1L8.5 8.5l.94-2.06 2.06-.94-2.06-.94L8.5 2.5l-.94 2.06-2.06.94zm10 10l.94 2.06.94-2.06 2.06-.94-2.06-.94-.94-2.06-.94 2.06-2.06.94z\"/><path d=\"M17.41 7.96l-1.37-1.37c-.4-.4-.92-.59-1.43-.59-.52 0-1.04.2-1.43.59L10.3 9.45l-7.72 7.72c-.78.78-.78 2.05 0 2.83L4 21.41c.39.39.9.59 1.41.59.51 0 1.02-.2 1.41-.59l7.78-7.78 2.81-2.81c.8-.78.8-2.07 0-2.86zM5.41 20L4 18.59l7.72-7.72 1.47 1.35L5.41 20z\"/>\n",
              "  </svg>\n",
              "      </button>\n",
              "      \n",
              "  <style>\n",
              "    .colab-df-container {\n",
              "      display:flex;\n",
              "      flex-wrap:wrap;\n",
              "      gap: 12px;\n",
              "    }\n",
              "\n",
              "    .colab-df-convert {\n",
              "      background-color: #E8F0FE;\n",
              "      border: none;\n",
              "      border-radius: 50%;\n",
              "      cursor: pointer;\n",
              "      display: none;\n",
              "      fill: #1967D2;\n",
              "      height: 32px;\n",
              "      padding: 0 0 0 0;\n",
              "      width: 32px;\n",
              "    }\n",
              "\n",
              "    .colab-df-convert:hover {\n",
              "      background-color: #E2EBFA;\n",
              "      box-shadow: 0px 1px 2px rgba(60, 64, 67, 0.3), 0px 1px 3px 1px rgba(60, 64, 67, 0.15);\n",
              "      fill: #174EA6;\n",
              "    }\n",
              "\n",
              "    [theme=dark] .colab-df-convert {\n",
              "      background-color: #3B4455;\n",
              "      fill: #D2E3FC;\n",
              "    }\n",
              "\n",
              "    [theme=dark] .colab-df-convert:hover {\n",
              "      background-color: #434B5C;\n",
              "      box-shadow: 0px 1px 3px 1px rgba(0, 0, 0, 0.15);\n",
              "      filter: drop-shadow(0px 1px 2px rgba(0, 0, 0, 0.3));\n",
              "      fill: #FFFFFF;\n",
              "    }\n",
              "  </style>\n",
              "\n",
              "      <script>\n",
              "        const buttonEl =\n",
              "          document.querySelector('#df-4371f876-5aaf-40d8-8a70-29a25a141eb5 button.colab-df-convert');\n",
              "        buttonEl.style.display =\n",
              "          google.colab.kernel.accessAllowed ? 'block' : 'none';\n",
              "\n",
              "        async function convertToInteractive(key) {\n",
              "          const element = document.querySelector('#df-4371f876-5aaf-40d8-8a70-29a25a141eb5');\n",
              "          const dataTable =\n",
              "            await google.colab.kernel.invokeFunction('convertToInteractive',\n",
              "                                                     [key], {});\n",
              "          if (!dataTable) return;\n",
              "\n",
              "          const docLinkHtml = 'Like what you see? Visit the ' +\n",
              "            '<a target=\"_blank\" href=https://colab.research.google.com/notebooks/data_table.ipynb>data table notebook</a>'\n",
              "            + ' to learn more about interactive tables.';\n",
              "          element.innerHTML = '';\n",
              "          dataTable['output_type'] = 'display_data';\n",
              "          await google.colab.output.renderOutput(dataTable, element);\n",
              "          const docLink = document.createElement('div');\n",
              "          docLink.innerHTML = docLinkHtml;\n",
              "          element.appendChild(docLink);\n",
              "        }\n",
              "      </script>\n",
              "    </div>\n",
              "  </div>\n",
              "  "
            ]
          },
          "metadata": {},
          "execution_count": 40
        }
      ],
      "source": [
        "cutoff_time = trips[['id', 'pickup_datetime']]\n",
        "cutoff_time = cutoff_time[cutoff_time['pickup_datetime'] > \"2016-01-12\"]\n",
        "preview(cutoff_time, 10)"
      ]
    },
    {
      "cell_type": "markdown",
      "metadata": {
        "id": "k_-DMupIe7mM"
      },
      "source": [
        "## **Step 3: Create baseline features using Deep Feature Synthesis**\n",
        "\n",
        "Instead of manually creating features, such as \"month of pickup datetime\", we can let DFS come up with them automatically. It does this by \n",
        "* interpreting the variable types of the columns e.g categorical, numeric and others \n",
        "* matching the columns to the primitives that can be applied to their variable types\n",
        "* creating features based on these matches"
      ]
    },
    {
      "cell_type": "markdown",
      "metadata": {
        "id": "7LZDZzp4e7mM"
      },
      "source": [
        "**Create transform features using transform primitives**\n",
        "\n",
        "As we described in the video, features fall into two major categories, ``transform`` and ``aggregate``. In featureools, we can create transform features by specifying ``transform`` primitives. Below we specify a ``transform`` primitive called ``weekend`` and here is what it does:\n",
        "\n",
        "* It can be applied to any ``datetime`` column in the data. \n",
        "* For each entry in the column, it assess if it is a ``weekend`` and returns a boolean. \n",
        "\n",
        "In this specific data, there are two ``datetime`` columns ``pickup_datetime`` and ``dropoff_datetime``. The tool automatically creates features using the primitive and these two columns as shown below. "
      ]
    },
    {
      "cell_type": "markdown",
      "metadata": {
        "id": "U-LUYgH5e7mM"
      },
      "source": [
        "## **Question 4: Creating a baseline model with only 1 transform primitive (10 Marks)**"
      ]
    },
    {
      "cell_type": "markdown",
      "source": [
        "### **Question: 4.1 Define transform primitive for weekend and define features using dfs?** "
      ],
      "metadata": {
        "id": "1lUREPCEraAz"
      }
    },
    {
      "cell_type": "code",
      "execution_count": null,
      "metadata": {
        "ExecuteTime": {
          "end_time": "2021-07-15T12:46:18.552030Z",
          "start_time": "2021-07-15T12:46:16.349739Z"
        },
        "id": "Yg9EcWdje7mM"
      },
      "outputs": [],
      "source": [
        "trans_primitives = [IsWeekend]\n",
        "\n",
        "\n",
        "features = ft.dfs(entities=entities,\n",
        "                  relationships=relationships,\n",
        "                  target_entity=\"trips\",\n",
        "                  trans_primitives=trans_primitives,\n",
        "                  agg_primitives=[],\n",
        "                  ignore_variables={\"trips\": [\"pickup_latitude\", \"pickup_longitude\",\n",
        "                                              \"dropoff_latitude\", \"dropoff_longitude\"]},\n",
        "                  features_only=True)"
      ]
    },
    {
      "cell_type": "markdown",
      "metadata": {
        "id": "Tk2wIS7Ie7mM"
      },
      "source": [
        "*If you're interested about parameters to DFS such as `ignore_variables`, you can learn more about these parameters [here](https://featuretools.alteryx.com/en/v0.27.0/getting_started/getting_started_index.html)*\n",
        "\n",
        "Here are the features created."
      ]
    },
    {
      "cell_type": "code",
      "execution_count": null,
      "metadata": {
        "ExecuteTime": {
          "end_time": "2021-07-15T12:46:24.799450Z",
          "start_time": "2021-07-15T12:46:24.699552Z"
        },
        "id": "_gTCOwpoe7mM",
        "colab": {
          "base_uri": "https://localhost:8080/"
        },
        "outputId": "4b7332a3-314f-4f78-821d-fb1e35e24e2d"
      },
      "outputs": [
        {
          "output_type": "stream",
          "name": "stdout",
          "text": [
            "Number of features: 12\n"
          ]
        },
        {
          "output_type": "execute_result",
          "data": {
            "text/plain": [
              "[<Feature: vendor_id>,\n",
              " <Feature: passenger_count>,\n",
              " <Feature: trip_distance>,\n",
              " <Feature: payment_type>,\n",
              " <Feature: trip_duration>,\n",
              " <Feature: pickup_neighborhood>,\n",
              " <Feature: dropoff_neighborhood>,\n",
              " <Feature: IS_WEEKEND(pickup_datetime)>,\n",
              " <Feature: pickup_neighborhoods.latitude>,\n",
              " <Feature: pickup_neighborhoods.longitude>,\n",
              " <Feature: dropoff_neighborhoods.latitude>,\n",
              " <Feature: dropoff_neighborhoods.longitude>]"
            ]
          },
          "metadata": {},
          "execution_count": 42
        }
      ],
      "source": [
        "print (\"Number of features: %d\" % len(features))\n",
        "features"
      ]
    },
    {
      "cell_type": "markdown",
      "metadata": {
        "id": "cdvknyIae7mM"
      },
      "source": [
        "\n",
        "Now let's compute the features. "
      ]
    },
    {
      "cell_type": "markdown",
      "metadata": {
        "id": "Qn7XUiKNe7mN"
      },
      "source": [
        "### **Question: 4.2 Compute features and define feature matrix**"
      ]
    },
    {
      "cell_type": "code",
      "execution_count": null,
      "metadata": {
        "ExecuteTime": {
          "end_time": "2021-07-15T12:46:56.132642Z",
          "start_time": "2021-07-15T12:46:56.030342Z"
        },
        "id": "_xGN7L52e7mN"
      },
      "outputs": [],
      "source": [
        "def compute_features(features, cutoff_time):\n",
        "    # Shuffle so we don't see encoded features in the front or backs\n",
        "\n",
        "    np.random.shuffle(features)\n",
        "    feature_matrix = ft.calculate_feature_matrix(features,\n",
        "                                                 cutoff_time=cutoff_time,\n",
        "                                                 approximate='36d',\n",
        "                                                 verbose=True,entities=entities, relationships=relationships)\n",
        "    print(\"Finishing computing...\")\n",
        "    feature_matrix, features = ft.encode_features(feature_matrix, features,\n",
        "                                                  to_encode=[\"pickup_neighborhood\", \"dropoff_neighborhood\"],\n",
        "                                                  include_unknown=False)\n",
        "    return feature_matrix"
      ]
    },
    {
      "cell_type": "code",
      "execution_count": null,
      "metadata": {
        "id": "oiVjFgAMe7mN",
        "colab": {
          "base_uri": "https://localhost:8080/"
        },
        "outputId": "9cfc9759-d9ab-446e-ab8a-d0ec4ec52d50"
      },
      "outputs": [
        {
          "output_type": "stream",
          "name": "stdout",
          "text": [
            "Elapsed: 00:01 | Progress: 100%|██████████\n",
            "Finishing computing...\n"
          ]
        }
      ],
      "source": [
        "feature_matrix1 = compute_features(features,cutoff_time)"
      ]
    },
    {
      "cell_type": "code",
      "execution_count": null,
      "metadata": {
        "ExecuteTime": {
          "end_time": "2021-07-15T12:47:21.290315Z",
          "start_time": "2021-07-15T12:47:20.995105Z"
        },
        "id": "mxQkCvW5e7mN",
        "colab": {
          "base_uri": "https://localhost:8080/",
          "height": 348
        },
        "outputId": "1ca84c82-ad80-4d50-e56d-fbdf9ef8d2ac"
      },
      "outputs": [
        {
          "output_type": "execute_result",
          "data": {
            "text/plain": [
              "        passenger_count  pickup_neighborhood = AD  pickup_neighborhood = AA  \\\n",
              "id                                                                            \n",
              "56311                 1                     False                     False   \n",
              "105349                1                     False                     False   \n",
              "105350                2                     False                     False   \n",
              "105351                1                     False                     False   \n",
              "105352                4                     False                     False   \n",
              "\n",
              "        pickup_neighborhood = A  pickup_neighborhood = D  \\\n",
              "id                                                         \n",
              "56311                     False                    False   \n",
              "105349                     True                    False   \n",
              "105350                    False                    False   \n",
              "105351                    False                    False   \n",
              "105352                    False                    False   \n",
              "\n",
              "        pickup_neighborhood = AR  pickup_neighborhood = AK  \\\n",
              "id                                                           \n",
              "56311                      False                     False   \n",
              "105349                     False                     False   \n",
              "105350                     False                     False   \n",
              "105351                     False                     False   \n",
              "105352                     False                     False   \n",
              "\n",
              "        pickup_neighborhood = AO  pickup_neighborhood = N  \\\n",
              "id                                                          \n",
              "56311                      False                    False   \n",
              "105349                     False                    False   \n",
              "105350                      True                    False   \n",
              "105351                     False                    False   \n",
              "105352                     False                    False   \n",
              "\n",
              "        pickup_neighborhood = O  ...  dropoff_neighborhood = AK  \\\n",
              "id                               ...                              \n",
              "56311                     False  ...                      False   \n",
              "105349                    False  ...                      False   \n",
              "105350                    False  ...                      False   \n",
              "105351                    False  ...                      False   \n",
              "105352                    False  ...                      False   \n",
              "\n",
              "       dropoff_neighborhood = N  dropoff_neighborhood = K  \\\n",
              "id                                                          \n",
              "56311                     False                     False   \n",
              "105349                     True                     False   \n",
              "105350                    False                     False   \n",
              "105351                    False                     False   \n",
              "105352                    False                     False   \n",
              "\n",
              "        pickup_neighborhoods.longitude  IS_WEEKEND(pickup_datetime)  \\\n",
              "id                                                                    \n",
              "56311                       -73.987205                        False   \n",
              "105349                      -73.975899                        False   \n",
              "105350                      -73.985336                        False   \n",
              "105351                      -73.995736                        False   \n",
              "105352                      -73.982322                        False   \n",
              "\n",
              "        trip_distance  trip_duration  dropoff_neighborhoods.latitude  \\\n",
              "id                                                                     \n",
              "56311            1.61          645.0                       40.721435   \n",
              "105349           0.60          349.0                       40.756598   \n",
              "105350           1.10          942.0                       40.750179   \n",
              "105351           1.30          845.0                       40.761492   \n",
              "105352           1.35          366.0                       40.793597   \n",
              "\n",
              "        pickup_neighborhoods.latitude  vendor_id  \n",
              "id                                                \n",
              "56311                       40.720245          2  \n",
              "105349                      40.761492          1  \n",
              "105350                      40.747126          1  \n",
              "105351                      40.761087          1  \n",
              "105352                      40.776270          2  \n",
              "\n",
              "[5 rows x 30 columns]"
            ],
            "text/html": [
              "\n",
              "  <div id=\"df-d148b02e-2976-4ec1-a796-16a54b077387\">\n",
              "    <div class=\"colab-df-container\">\n",
              "      <div>\n",
              "<style scoped>\n",
              "    .dataframe tbody tr th:only-of-type {\n",
              "        vertical-align: middle;\n",
              "    }\n",
              "\n",
              "    .dataframe tbody tr th {\n",
              "        vertical-align: top;\n",
              "    }\n",
              "\n",
              "    .dataframe thead th {\n",
              "        text-align: right;\n",
              "    }\n",
              "</style>\n",
              "<table border=\"1\" class=\"dataframe\">\n",
              "  <thead>\n",
              "    <tr style=\"text-align: right;\">\n",
              "      <th></th>\n",
              "      <th>passenger_count</th>\n",
              "      <th>pickup_neighborhood = AD</th>\n",
              "      <th>pickup_neighborhood = AA</th>\n",
              "      <th>pickup_neighborhood = A</th>\n",
              "      <th>pickup_neighborhood = D</th>\n",
              "      <th>pickup_neighborhood = AR</th>\n",
              "      <th>pickup_neighborhood = AK</th>\n",
              "      <th>pickup_neighborhood = AO</th>\n",
              "      <th>pickup_neighborhood = N</th>\n",
              "      <th>pickup_neighborhood = O</th>\n",
              "      <th>...</th>\n",
              "      <th>dropoff_neighborhood = AK</th>\n",
              "      <th>dropoff_neighborhood = N</th>\n",
              "      <th>dropoff_neighborhood = K</th>\n",
              "      <th>pickup_neighborhoods.longitude</th>\n",
              "      <th>IS_WEEKEND(pickup_datetime)</th>\n",
              "      <th>trip_distance</th>\n",
              "      <th>trip_duration</th>\n",
              "      <th>dropoff_neighborhoods.latitude</th>\n",
              "      <th>pickup_neighborhoods.latitude</th>\n",
              "      <th>vendor_id</th>\n",
              "    </tr>\n",
              "    <tr>\n",
              "      <th>id</th>\n",
              "      <th></th>\n",
              "      <th></th>\n",
              "      <th></th>\n",
              "      <th></th>\n",
              "      <th></th>\n",
              "      <th></th>\n",
              "      <th></th>\n",
              "      <th></th>\n",
              "      <th></th>\n",
              "      <th></th>\n",
              "      <th></th>\n",
              "      <th></th>\n",
              "      <th></th>\n",
              "      <th></th>\n",
              "      <th></th>\n",
              "      <th></th>\n",
              "      <th></th>\n",
              "      <th></th>\n",
              "      <th></th>\n",
              "      <th></th>\n",
              "      <th></th>\n",
              "    </tr>\n",
              "  </thead>\n",
              "  <tbody>\n",
              "    <tr>\n",
              "      <th>56311</th>\n",
              "      <td>1</td>\n",
              "      <td>False</td>\n",
              "      <td>False</td>\n",
              "      <td>False</td>\n",
              "      <td>False</td>\n",
              "      <td>False</td>\n",
              "      <td>False</td>\n",
              "      <td>False</td>\n",
              "      <td>False</td>\n",
              "      <td>False</td>\n",
              "      <td>...</td>\n",
              "      <td>False</td>\n",
              "      <td>False</td>\n",
              "      <td>False</td>\n",
              "      <td>-73.987205</td>\n",
              "      <td>False</td>\n",
              "      <td>1.61</td>\n",
              "      <td>645.0</td>\n",
              "      <td>40.721435</td>\n",
              "      <td>40.720245</td>\n",
              "      <td>2</td>\n",
              "    </tr>\n",
              "    <tr>\n",
              "      <th>105349</th>\n",
              "      <td>1</td>\n",
              "      <td>False</td>\n",
              "      <td>False</td>\n",
              "      <td>True</td>\n",
              "      <td>False</td>\n",
              "      <td>False</td>\n",
              "      <td>False</td>\n",
              "      <td>False</td>\n",
              "      <td>False</td>\n",
              "      <td>False</td>\n",
              "      <td>...</td>\n",
              "      <td>False</td>\n",
              "      <td>True</td>\n",
              "      <td>False</td>\n",
              "      <td>-73.975899</td>\n",
              "      <td>False</td>\n",
              "      <td>0.60</td>\n",
              "      <td>349.0</td>\n",
              "      <td>40.756598</td>\n",
              "      <td>40.761492</td>\n",
              "      <td>1</td>\n",
              "    </tr>\n",
              "    <tr>\n",
              "      <th>105350</th>\n",
              "      <td>2</td>\n",
              "      <td>False</td>\n",
              "      <td>False</td>\n",
              "      <td>False</td>\n",
              "      <td>False</td>\n",
              "      <td>False</td>\n",
              "      <td>False</td>\n",
              "      <td>True</td>\n",
              "      <td>False</td>\n",
              "      <td>False</td>\n",
              "      <td>...</td>\n",
              "      <td>False</td>\n",
              "      <td>False</td>\n",
              "      <td>False</td>\n",
              "      <td>-73.985336</td>\n",
              "      <td>False</td>\n",
              "      <td>1.10</td>\n",
              "      <td>942.0</td>\n",
              "      <td>40.750179</td>\n",
              "      <td>40.747126</td>\n",
              "      <td>1</td>\n",
              "    </tr>\n",
              "    <tr>\n",
              "      <th>105351</th>\n",
              "      <td>1</td>\n",
              "      <td>False</td>\n",
              "      <td>False</td>\n",
              "      <td>False</td>\n",
              "      <td>False</td>\n",
              "      <td>False</td>\n",
              "      <td>False</td>\n",
              "      <td>False</td>\n",
              "      <td>False</td>\n",
              "      <td>False</td>\n",
              "      <td>...</td>\n",
              "      <td>False</td>\n",
              "      <td>False</td>\n",
              "      <td>False</td>\n",
              "      <td>-73.995736</td>\n",
              "      <td>False</td>\n",
              "      <td>1.30</td>\n",
              "      <td>845.0</td>\n",
              "      <td>40.761492</td>\n",
              "      <td>40.761087</td>\n",
              "      <td>1</td>\n",
              "    </tr>\n",
              "    <tr>\n",
              "      <th>105352</th>\n",
              "      <td>4</td>\n",
              "      <td>False</td>\n",
              "      <td>False</td>\n",
              "      <td>False</td>\n",
              "      <td>False</td>\n",
              "      <td>False</td>\n",
              "      <td>False</td>\n",
              "      <td>False</td>\n",
              "      <td>False</td>\n",
              "      <td>False</td>\n",
              "      <td>...</td>\n",
              "      <td>False</td>\n",
              "      <td>False</td>\n",
              "      <td>False</td>\n",
              "      <td>-73.982322</td>\n",
              "      <td>False</td>\n",
              "      <td>1.35</td>\n",
              "      <td>366.0</td>\n",
              "      <td>40.793597</td>\n",
              "      <td>40.776270</td>\n",
              "      <td>2</td>\n",
              "    </tr>\n",
              "  </tbody>\n",
              "</table>\n",
              "<p>5 rows × 30 columns</p>\n",
              "</div>\n",
              "      <button class=\"colab-df-convert\" onclick=\"convertToInteractive('df-d148b02e-2976-4ec1-a796-16a54b077387')\"\n",
              "              title=\"Convert this dataframe to an interactive table.\"\n",
              "              style=\"display:none;\">\n",
              "        \n",
              "  <svg xmlns=\"http://www.w3.org/2000/svg\" height=\"24px\"viewBox=\"0 0 24 24\"\n",
              "       width=\"24px\">\n",
              "    <path d=\"M0 0h24v24H0V0z\" fill=\"none\"/>\n",
              "    <path d=\"M18.56 5.44l.94 2.06.94-2.06 2.06-.94-2.06-.94-.94-2.06-.94 2.06-2.06.94zm-11 1L8.5 8.5l.94-2.06 2.06-.94-2.06-.94L8.5 2.5l-.94 2.06-2.06.94zm10 10l.94 2.06.94-2.06 2.06-.94-2.06-.94-.94-2.06-.94 2.06-2.06.94z\"/><path d=\"M17.41 7.96l-1.37-1.37c-.4-.4-.92-.59-1.43-.59-.52 0-1.04.2-1.43.59L10.3 9.45l-7.72 7.72c-.78.78-.78 2.05 0 2.83L4 21.41c.39.39.9.59 1.41.59.51 0 1.02-.2 1.41-.59l7.78-7.78 2.81-2.81c.8-.78.8-2.07 0-2.86zM5.41 20L4 18.59l7.72-7.72 1.47 1.35L5.41 20z\"/>\n",
              "  </svg>\n",
              "      </button>\n",
              "      \n",
              "  <style>\n",
              "    .colab-df-container {\n",
              "      display:flex;\n",
              "      flex-wrap:wrap;\n",
              "      gap: 12px;\n",
              "    }\n",
              "\n",
              "    .colab-df-convert {\n",
              "      background-color: #E8F0FE;\n",
              "      border: none;\n",
              "      border-radius: 50%;\n",
              "      cursor: pointer;\n",
              "      display: none;\n",
              "      fill: #1967D2;\n",
              "      height: 32px;\n",
              "      padding: 0 0 0 0;\n",
              "      width: 32px;\n",
              "    }\n",
              "\n",
              "    .colab-df-convert:hover {\n",
              "      background-color: #E2EBFA;\n",
              "      box-shadow: 0px 1px 2px rgba(60, 64, 67, 0.3), 0px 1px 3px 1px rgba(60, 64, 67, 0.15);\n",
              "      fill: #174EA6;\n",
              "    }\n",
              "\n",
              "    [theme=dark] .colab-df-convert {\n",
              "      background-color: #3B4455;\n",
              "      fill: #D2E3FC;\n",
              "    }\n",
              "\n",
              "    [theme=dark] .colab-df-convert:hover {\n",
              "      background-color: #434B5C;\n",
              "      box-shadow: 0px 1px 3px 1px rgba(0, 0, 0, 0.15);\n",
              "      filter: drop-shadow(0px 1px 2px rgba(0, 0, 0, 0.3));\n",
              "      fill: #FFFFFF;\n",
              "    }\n",
              "  </style>\n",
              "\n",
              "      <script>\n",
              "        const buttonEl =\n",
              "          document.querySelector('#df-d148b02e-2976-4ec1-a796-16a54b077387 button.colab-df-convert');\n",
              "        buttonEl.style.display =\n",
              "          google.colab.kernel.accessAllowed ? 'block' : 'none';\n",
              "\n",
              "        async function convertToInteractive(key) {\n",
              "          const element = document.querySelector('#df-d148b02e-2976-4ec1-a796-16a54b077387');\n",
              "          const dataTable =\n",
              "            await google.colab.kernel.invokeFunction('convertToInteractive',\n",
              "                                                     [key], {});\n",
              "          if (!dataTable) return;\n",
              "\n",
              "          const docLinkHtml = 'Like what you see? Visit the ' +\n",
              "            '<a target=\"_blank\" href=https://colab.research.google.com/notebooks/data_table.ipynb>data table notebook</a>'\n",
              "            + ' to learn more about interactive tables.';\n",
              "          element.innerHTML = '';\n",
              "          dataTable['output_type'] = 'display_data';\n",
              "          await google.colab.output.renderOutput(dataTable, element);\n",
              "          const docLink = document.createElement('div');\n",
              "          docLink.innerHTML = docLinkHtml;\n",
              "          element.appendChild(docLink);\n",
              "        }\n",
              "      </script>\n",
              "    </div>\n",
              "  </div>\n",
              "  "
            ]
          },
          "metadata": {},
          "execution_count": 45
        }
      ],
      "source": [
        "preview(feature_matrix1, 5)"
      ]
    },
    {
      "cell_type": "code",
      "execution_count": null,
      "metadata": {
        "id": "DvmgGL7ce7mN",
        "colab": {
          "base_uri": "https://localhost:8080/"
        },
        "outputId": "d9e6b007-efaa-4320-c9e1-bbdc604e4c64"
      },
      "outputs": [
        {
          "output_type": "execute_result",
          "data": {
            "text/plain": [
              "(70431, 30)"
            ]
          },
          "metadata": {},
          "execution_count": 46
        }
      ],
      "source": [
        "feature_matrix1.shape"
      ]
    },
    {
      "cell_type": "markdown",
      "metadata": {
        "id": "kXAjqOVle7mN"
      },
      "source": [
        "### **Model Building**\n",
        "------------------\n",
        "\n",
        "To build a model, we\n",
        "* Separate the data into a portion for ``training`` (75% in this case) and a portion for ``testing`` \n",
        "* Get the log of the trip duration so that a more linear relationship can be found.\n",
        "* Train a model using a ``Linear Regression, Decision Tree and Random Forest model``"
      ]
    },
    {
      "cell_type": "markdown",
      "metadata": {
        "id": "m6wb9vTGe7mN"
      },
      "source": [
        "#### **Transforming the duration variable on sqrt and log**\n",
        "\n"
      ]
    },
    {
      "cell_type": "code",
      "execution_count": null,
      "metadata": {
        "id": "mAmvh8SYe7mN",
        "colab": {
          "base_uri": "https://localhost:8080/",
          "height": 373
        },
        "outputId": "1980fe2a-6fc6-4d97-f7bb-52f4ff97cadf"
      },
      "outputs": [
        {
          "output_type": "execute_result",
          "data": {
            "text/plain": [
              "(array([  543.,  4979., 23195., 34064., 28913., 17425.,  8675.,  4003.,\n",
              "         1802.,   863.]),\n",
              " array([ 1.        ,  6.90416522, 12.80833044, 18.71249566, 24.61666088,\n",
              "        30.5208261 , 36.42499133, 42.32915655, 48.23332177, 54.13748699,\n",
              "        60.04165221]),\n",
              " <a list of 10 Patch objects>)"
            ]
          },
          "metadata": {},
          "execution_count": 47
        },
        {
          "output_type": "display_data",
          "data": {
            "text/plain": [
              "<Figure size 432x288 with 1 Axes>"
            ],
            "image/png": "[encoded data removed]"
          },
          "metadata": {
            "needs_background": "light"
          }
        }
      ],
      "source": [
        "plt.hist(np.sqrt(trips['trip_duration']))"
      ]
    },
    {
      "cell_type": "code",
      "execution_count": null,
      "metadata": {
        "id": "ZMJK865ye7mN",
        "colab": {
          "base_uri": "https://localhost:8080/",
          "height": 373
        },
        "outputId": "5477423c-83aa-4c9b-9b6a-e604834e62b7"
      },
      "outputs": [
        {
          "output_type": "execute_result",
          "data": {
            "text/plain": [
              "(array([3.2000e+01, 6.9000e+01, 7.2000e+01, 1.7800e+02, 3.5300e+02,\n",
              "        2.7720e+03, 1.9225e+04, 5.0476e+04, 4.1785e+04, 9.5000e+03]),\n",
              " array([0.        , 0.8190077 , 1.63801541, 2.45702311, 3.27603082,\n",
              "        4.09503852, 4.91404623, 5.73305393, 6.55206164, 7.37106934,\n",
              "        8.19007705]),\n",
              " <a list of 10 Patch objects>)"
            ]
          },
          "metadata": {},
          "execution_count": 48
        },
        {
          "output_type": "display_data",
          "data": {
            "text/plain": [
              "<Figure size 432x288 with 1 Axes>"
            ],
            "image/png": "[encoded data removed]"
          },
          "metadata": {
            "needs_background": "light"
          }
        }
      ],
      "source": [
        "plt.hist(np.log(trips['trip_duration']))"
      ]
    },
    {
      "cell_type": "markdown",
      "metadata": {
        "id": "KJJyPhx9e7mN"
      },
      "source": [
        "- We can clearly see that the sqrt transformation is giving nearly normal distribution, there for we can choose the sqrt transformation on the dependent(trip_duration) variable."
      ]
    },
    {
      "cell_type": "markdown",
      "metadata": {
        "id": "iqs6s_2Le7mO"
      },
      "source": [
        "#### **Splitting the data into train and test**"
      ]
    },
    {
      "cell_type": "code",
      "execution_count": null,
      "metadata": {
        "ExecuteTime": {
          "end_time": "2021-07-15T12:47:30.919229Z",
          "start_time": "2021-07-15T12:47:24.754592Z"
        },
        "id": "OQGcWZhue7mO"
      },
      "outputs": [],
      "source": [
        "# Separates the whole feature matrix into train data feature matrix, train data labels, and test data feature matrix \n",
        "X_train, y_train, X_test, y_test = get_train_test_fm(feature_matrix1,.75)\n",
        "y_train = np.sqrt(y_train)\n",
        "y_test = np.sqrt(y_test)"
      ]
    },
    {
      "cell_type": "markdown",
      "metadata": {
        "id": "9EwsqXB3e7mO"
      },
      "source": [
        "**Defining function for to check the performance of the model.**"
      ]
    },
    {
      "cell_type": "code",
      "execution_count": null,
      "metadata": {
        "id": "8JwaOIJYe7mO"
      },
      "outputs": [],
      "source": [
        "# RMSE\n",
        "def rmse(predictions, targets):\n",
        "    return np.sqrt(((targets - predictions) ** 2).mean())\n",
        "\n",
        "# MAE\n",
        "def mae(predictions, targets):\n",
        "    return np.mean(np.abs((targets - predictions)))\n",
        "\n",
        "\n",
        "# Model Performance on test and train data\n",
        "def model_pref(model, x_train, x_test, y_train,y_test):\n",
        "\n",
        "    # Insample Prediction\n",
        "    y_pred_train = model.predict(x_train)\n",
        "    y_observed_train = y_train\n",
        "\n",
        "    # Prediction on test data\n",
        "    y_pred_test = model.predict(x_test)\n",
        "    y_observed_test = y_test\n",
        "\n",
        "    print(\n",
        "        pd.DataFrame(\n",
        "            {\n",
        "                \"Data\": [\"Train\", \"Test\"],\n",
        "                'RSquared':\n",
        "                    [r2_score(y_observed_train,y_pred_train),\n",
        "                    r2_score(y_observed_test,y_pred_test )\n",
        "                    ],\n",
        "                \"RMSE\": [\n",
        "                    rmse(y_pred_train, y_observed_train),\n",
        "                    rmse(y_pred_test, y_observed_test),\n",
        "                ],\n",
        "                \"MAE\": [\n",
        "                    mae(y_pred_train, y_observed_train),\n",
        "                    mae(y_pred_test, y_observed_test),\n",
        "                ],\n",
        "            }\n",
        "        )\n",
        "    )"
      ]
    },
    {
      "cell_type": "markdown",
      "metadata": {
        "id": "ORgJya_De7mO"
      },
      "source": [
        "### **Question 4.3 Build Linear regression using only weekend transform primitive**"
      ]
    },
    {
      "cell_type": "code",
      "execution_count": null,
      "metadata": {
        "id": "xu3RO5GVe7mO",
        "colab": {
          "base_uri": "https://localhost:8080/"
        },
        "outputId": "4dda81ba-df83-4b02-be49-91285af27354"
      },
      "outputs": [
        {
          "output_type": "execute_result",
          "data": {
            "text/plain": [
              "LinearRegression()"
            ]
          },
          "metadata": {},
          "execution_count": 51
        }
      ],
      "source": [
        "# Defining the model\n",
        "lr1=LinearRegression()\n",
        "\n",
        "# Fitting the model\n",
        "lr1.fit(X_train,y_train)\n"
      ]
    },
    {
      "cell_type": "markdown",
      "metadata": {
        "id": "wO0YC8HGe7mO"
      },
      "source": [
        "#### **Check the performance of the model**"
      ]
    },
    {
      "cell_type": "code",
      "execution_count": null,
      "metadata": {
        "id": "OO6ERipWe7mO",
        "colab": {
          "base_uri": "https://localhost:8080/"
        },
        "outputId": "484e4ee2-35b8-42dd-93e4-34f1b0580a07"
      },
      "outputs": [
        {
          "output_type": "stream",
          "name": "stdout",
          "text": [
            "    Data  RSquared      RMSE       MAE\n",
            "0  Train  0.590797  5.802519  4.500993\n",
            "1   Test  0.472967  7.148916  5.338872\n"
          ]
        }
      ],
      "source": [
        "model_pref(lr1, X_train, X_test,y_train,y_test)  "
      ]
    },
    {
      "cell_type": "markdown",
      "metadata": {
        "id": "s-pJdFiDe7mP"
      },
      "source": [
        "**Write your answers here:\n",
        "Model is giving only 0.59 Rsquared, with RSME of 5.80 and MAE of ~4.50.\n",
        "Model is slightly overfitting.**"
      ]
    },
    {
      "cell_type": "markdown",
      "metadata": {
        "id": "Sur-YfODe7mP"
      },
      "source": [
        "### **Question 4.4 Building decision tree using only weekend transform primitive**"
      ]
    },
    {
      "cell_type": "code",
      "execution_count": null,
      "metadata": {
        "id": "F8o9xgn1e7mP",
        "colab": {
          "base_uri": "https://localhost:8080/"
        },
        "outputId": "13c4b936-1103-41da-848c-28fec2a829f1"
      },
      "outputs": [
        {
          "output_type": "execute_result",
          "data": {
            "text/plain": [
              "DecisionTreeRegressor()"
            ]
          },
          "metadata": {},
          "execution_count": 53
        }
      ],
      "source": [
        "# Define the model\n",
        "dt=DecisionTreeRegressor()\n",
        "\n",
        "# Fit the model\n",
        "dt.fit(X_train,y_train)"
      ]
    },
    {
      "cell_type": "markdown",
      "metadata": {
        "id": "SWFG-Swue7mS"
      },
      "source": [
        "#### **Check the performance of the model**"
      ]
    },
    {
      "cell_type": "code",
      "execution_count": null,
      "metadata": {
        "id": "Y2_ubSe-e7mS",
        "colab": {
          "base_uri": "https://localhost:8080/"
        },
        "outputId": "8f4ba09f-9314-4998-922d-c0a18ab463ea"
      },
      "outputs": [
        {
          "output_type": "stream",
          "name": "stdout",
          "text": [
            "    Data  RSquared      RMSE       MAE\n",
            "0  Train  0.972363  1.507969  0.554785\n",
            "1   Test  0.497729  6.978950  5.183201\n"
          ]
        }
      ],
      "source": [
        "model_pref(dt, X_train, X_test,y_train,y_test)  "
      ]
    },
    {
      "cell_type": "markdown",
      "metadata": {
        "id": "_bpYCiRbe7mT"
      },
      "source": [
        "**Write your answers here:\n",
        "The model is overfitting a lot, with train R2 as 0.97 while test R2 as 0.49\n",
        "This generally happens in decision tree, one solution for this is to Prune the decision tree, let's try pruning and see if the performance improves.**\n"
      ]
    },
    {
      "cell_type": "markdown",
      "metadata": {
        "id": "Al4Lb-Lae7mT"
      },
      "source": [
        "### **Question 4.5 Building Pruned decision tree using only weekend transform primitive**"
      ]
    },
    {
      "cell_type": "code",
      "execution_count": null,
      "metadata": {
        "id": "mXSTBlORe7mT",
        "colab": {
          "base_uri": "https://localhost:8080/"
        },
        "outputId": "193ce6d4-a945-41e2-f1e6-36cc1c5b3d89"
      },
      "outputs": [
        {
          "output_type": "execute_result",
          "data": {
            "text/plain": [
              "DecisionTreeRegressor(max_depth=7)"
            ]
          },
          "metadata": {},
          "execution_count": 55
        }
      ],
      "source": [
        "# Define the model\n",
        "\n",
        "# Use max_depth=7\n",
        "dt_pruned=DecisionTreeRegressor(max_depth=7)\n",
        "\n",
        "# Fit the model\n",
        "dt_pruned.fit(X_train,y_train)"
      ]
    },
    {
      "cell_type": "markdown",
      "metadata": {
        "id": "mTSHfYzAe7mT"
      },
      "source": [
        "#### **Check the performance of the model**"
      ]
    },
    {
      "cell_type": "code",
      "execution_count": null,
      "metadata": {
        "id": "JG24yezRe7mT",
        "colab": {
          "base_uri": "https://localhost:8080/"
        },
        "outputId": "0fc75c88-1477-484c-f997-aff3b0b5f33a"
      },
      "outputs": [
        {
          "output_type": "stream",
          "name": "stdout",
          "text": [
            "    Data  RSquared      RMSE       MAE\n",
            "0  Train  0.743405  4.594846  3.504844\n",
            "1   Test  0.636437  5.937601  4.261875\n"
          ]
        }
      ],
      "source": [
        "model_pref(dt_pruned, X_train, X_test,y_train,y_test)   "
      ]
    },
    {
      "cell_type": "markdown",
      "metadata": {
        "id": "1eTEtHB8e7mT"
      },
      "source": [
        "**Write your answers here:\n",
        "The pruned model is performing better that both baseline decision tree and linear regression, with R2 as ~.63.**"
      ]
    },
    {
      "cell_type": "markdown",
      "metadata": {
        "id": "c-THttV2e7mT"
      },
      "source": [
        "### **Question 4.6 Building Random Forest using only weekend transform primitive**"
      ]
    },
    {
      "cell_type": "code",
      "execution_count": null,
      "metadata": {
        "id": "SRUI0v9Ye7mT"
      },
      "outputs": [],
      "source": [
        "# Define the model\n",
        "\n",
        "# using (n_estimators=60,max_depth=7)\n",
        "rf=RandomForestRegressor(n_estimators=60,max_depth=7)"
      ]
    },
    {
      "cell_type": "code",
      "execution_count": null,
      "metadata": {
        "id": "axUs0zRge7mT",
        "colab": {
          "base_uri": "https://localhost:8080/"
        },
        "outputId": "df5280d0-5861-44b1-a1b2-b7a720f75c8c"
      },
      "outputs": [
        {
          "output_type": "execute_result",
          "data": {
            "text/plain": [
              "RandomForestRegressor(max_depth=7, n_estimators=60)"
            ]
          },
          "metadata": {},
          "execution_count": 58
        }
      ],
      "source": [
        "# Fit the model\n",
        "\n",
        "rf.fit(X_train,y_train)"
      ]
    },
    {
      "cell_type": "markdown",
      "metadata": {
        "id": "u4N9V7ime7mU"
      },
      "source": [
        "#### **Check the performance of the model**"
      ]
    },
    {
      "cell_type": "code",
      "execution_count": null,
      "metadata": {
        "scrolled": true,
        "id": "jWW-xoIne7mU",
        "colab": {
          "base_uri": "https://localhost:8080/"
        },
        "outputId": "8d5d5899-3296-4ff9-da8e-d61956b6b0f3"
      },
      "outputs": [
        {
          "output_type": "stream",
          "name": "stdout",
          "text": [
            "    Data  RSquared      RMSE       MAE\n",
            "0  Train  0.752032  4.516946  3.449458\n",
            "1   Test  0.646628  5.853793  4.192629\n"
          ]
        }
      ],
      "source": [
        "\n",
        "model_pref(rf, X_train, X_test,y_train,y_test)"
      ]
    },
    {
      "cell_type": "markdown",
      "metadata": {
        "id": "51is8stRe7mU"
      },
      "source": [
        "**Write your answers here:\n",
        "The score for the model with only 1 transform primitive is ~64%.\n",
        "This model is performing little better than pruned decision tree model.\n",
        "Model is slightly overfitting.**\n"
      ]
    },
    {
      "cell_type": "markdown",
      "metadata": {
        "id": "rGaMKfP5e7mU"
      },
      "source": [
        "### **Step 4: Adding more Transform Primitives and creating new model**\n",
        "\n",
        "* Add ``Minute``, ``Hour``, ``Month``, ``Weekday`` , etc primitives\n",
        "* All these transform primitives apply to ``datetime`` columns\n",
        "\n",
        "## **Question 5: Create models with more transform primitives (10 Marks)**\n",
        "\n"
      ]
    },
    {
      "cell_type": "markdown",
      "source": [
        "### **Question 5.1 Define more transform primitives and define features using dfs?**"
      ],
      "metadata": {
        "id": "bmW8BcE5tWbh"
      }
    },
    {
      "cell_type": "code",
      "execution_count": null,
      "metadata": {
        "ExecuteTime": {
          "end_time": "2021-07-15T12:51:54.063760Z",
          "start_time": "2021-07-15T12:51:51.694558Z"
        },
        "id": "bCTE86zie7mU"
      },
      "outputs": [],
      "source": [
        "trans_primitives = [Minute, Hour, Day, Month, Weekday, IsWeekend]\n",
        "\n",
        "features = ft.dfs(entities=entities,\n",
        "                  relationships=relationships,\n",
        "                  target_entity=\"trips\",\n",
        "                  trans_primitives=trans_primitives,\n",
        "                  agg_primitives=[],\n",
        "                  ignore_variables={\"trips\": [\"pickup_latitude\", \"pickup_longitude\",\n",
        "                                              \"dropoff_latitude\", \"dropoff_longitude\"]},\n",
        "                  features_only=True)"
      ]
    },
    {
      "cell_type": "code",
      "execution_count": null,
      "metadata": {
        "ExecuteTime": {
          "end_time": "2021-07-15T12:52:31.456696Z",
          "start_time": "2021-07-15T12:52:31.362945Z"
        },
        "id": "EIEEw6hpe7mU",
        "colab": {
          "base_uri": "https://localhost:8080/"
        },
        "outputId": "1ac37c4d-b564-4dc6-d827-88d84ccbb695"
      },
      "outputs": [
        {
          "output_type": "stream",
          "name": "stdout",
          "text": [
            "Number of features: 17\n"
          ]
        },
        {
          "output_type": "execute_result",
          "data": {
            "text/plain": [
              "[<Feature: vendor_id>,\n",
              " <Feature: passenger_count>,\n",
              " <Feature: trip_distance>,\n",
              " <Feature: payment_type>,\n",
              " <Feature: trip_duration>,\n",
              " <Feature: pickup_neighborhood>,\n",
              " <Feature: dropoff_neighborhood>,\n",
              " <Feature: DAY(pickup_datetime)>,\n",
              " <Feature: HOUR(pickup_datetime)>,\n",
              " <Feature: IS_WEEKEND(pickup_datetime)>,\n",
              " <Feature: MINUTE(pickup_datetime)>,\n",
              " <Feature: MONTH(pickup_datetime)>,\n",
              " <Feature: WEEKDAY(pickup_datetime)>,\n",
              " <Feature: pickup_neighborhoods.latitude>,\n",
              " <Feature: pickup_neighborhoods.longitude>,\n",
              " <Feature: dropoff_neighborhoods.latitude>,\n",
              " <Feature: dropoff_neighborhoods.longitude>]"
            ]
          },
          "metadata": {},
          "execution_count": 61
        }
      ],
      "source": [
        "print (\"Number of features: %d\" % len(features))\n",
        "features"
      ]
    },
    {
      "cell_type": "markdown",
      "metadata": {
        "id": "l17w_Oeme7mU"
      },
      "source": [
        "Now let's compute the features. "
      ]
    },
    {
      "cell_type": "markdown",
      "metadata": {
        "id": "9zTI4zfKe7mU"
      },
      "source": [
        "### **Question 5.2 Compute features and define feature matrix**"
      ]
    },
    {
      "cell_type": "code",
      "execution_count": null,
      "metadata": {
        "ExecuteTime": {
          "end_time": "2021-07-15T12:52:48.471903Z",
          "start_time": "2021-07-15T12:52:34.218475Z"
        },
        "id": "9ubrAJrZe7mU",
        "colab": {
          "base_uri": "https://localhost:8080/"
        },
        "outputId": "00a976b0-ee30-4084-a20e-d395f8fd3848"
      },
      "outputs": [
        {
          "output_type": "stream",
          "name": "stdout",
          "text": [
            "Elapsed: 00:00 | Progress: 100%|██████████\n",
            "Finishing computing...\n"
          ]
        }
      ],
      "source": [
        "feature_matrix2 = compute_features(features,cutoff_time)"
      ]
    },
    {
      "cell_type": "code",
      "execution_count": null,
      "metadata": {
        "ExecuteTime": {
          "end_time": "2021-07-15T12:52:50.630760Z",
          "start_time": "2021-07-15T12:52:50.137051Z"
        },
        "id": "kSnWwOfHe7mV",
        "colab": {
          "base_uri": "https://localhost:8080/"
        },
        "outputId": "11e578f5-29af-406f-9323-9ead244573d1"
      },
      "outputs": [
        {
          "output_type": "execute_result",
          "data": {
            "text/plain": [
              "(70431, 35)"
            ]
          },
          "metadata": {},
          "execution_count": 63
        }
      ],
      "source": [
        "feature_matrix2.shape"
      ]
    },
    {
      "cell_type": "code",
      "execution_count": null,
      "metadata": {
        "id": "ccVC842pe7mV",
        "colab": {
          "base_uri": "https://localhost:8080/",
          "height": 348
        },
        "outputId": "0e60b519-6a5e-4a04-bf34-723236619420"
      },
      "outputs": [
        {
          "output_type": "execute_result",
          "data": {
            "text/plain": [
              "       pickup_neighborhoods.latitude  HOUR(pickup_datetime)  \\\n",
              "id                                                            \n",
              "56311                      40.720245                      0   \n",
              "56312                      40.646194                      0   \n",
              "56313                      40.818445                      0   \n",
              "56314                      40.729652                      0   \n",
              "56315                      40.793597                      0   \n",
              "\n",
              "       pickup_neighborhoods.longitude  IS_WEEKEND(pickup_datetime)  \\\n",
              "id                                                                   \n",
              "56311                      -73.987205                        False   \n",
              "56312                      -73.785073                        False   \n",
              "56313                      -73.948046                        False   \n",
              "56314                      -73.991595                        False   \n",
              "56315                      -73.969822                        False   \n",
              "\n",
              "       passenger_count  dropoff_neighborhoods.longitude  DAY(pickup_datetime)  \\\n",
              "id                                                                              \n",
              "56311                1                       -73.998366                    12   \n",
              "56312                1                       -73.954298                    12   \n",
              "56313                1                       -73.948046                    12   \n",
              "56314                5                       -73.977943                    12   \n",
              "56315                1                       -73.948046                    12   \n",
              "\n",
              "       trip_duration  dropoff_neighborhood = AD  dropoff_neighborhood = A  \\\n",
              "id                                                                          \n",
              "56311          645.0                      False                     False   \n",
              "56312         1270.0                      False                     False   \n",
              "56313          207.0                      False                     False   \n",
              "56314          214.0                      False                     False   \n",
              "56315          570.0                      False                     False   \n",
              "\n",
              "       ...  pickup_neighborhood = AO  pickup_neighborhood = N  \\\n",
              "id     ...                                                      \n",
              "56311  ...                     False                    False   \n",
              "56312  ...                     False                    False   \n",
              "56313  ...                     False                    False   \n",
              "56314  ...                     False                    False   \n",
              "56315  ...                     False                    False   \n",
              "\n",
              "       pickup_neighborhood = O  pickup_neighborhood = R  \\\n",
              "id                                                        \n",
              "56311                    False                    False   \n",
              "56312                    False                    False   \n",
              "56313                    False                    False   \n",
              "56314                    False                    False   \n",
              "56315                    False                    False   \n",
              "\n",
              "       WEEKDAY(pickup_datetime)  vendor_id  MINUTE(pickup_datetime)  \\\n",
              "id                                                                    \n",
              "56311                         1          2                        0   \n",
              "56312                         1          2                        2   \n",
              "56313                         1          1                        2   \n",
              "56314                         1          2                        2   \n",
              "56315                         1          2                        3   \n",
              "\n",
              "       trip_distance dropoff_neighborhoods.latitude  MONTH(pickup_datetime)  \n",
              "id                                                                           \n",
              "56311           1.61                      40.721435                       1  \n",
              "56312          16.15                      40.715828                       1  \n",
              "56313           0.80                      40.818445                       1  \n",
              "56314           1.33                      40.742531                       1  \n",
              "56315           2.35                      40.818445                       1  \n",
              "\n",
              "[5 rows x 35 columns]"
            ],
            "text/html": [
              "\n",
              "  <div id=\"df-76654220-1b2d-49ed-9cdd-c561dbda60f2\">\n",
              "    <div class=\"colab-df-container\">\n",
              "      <div>\n",
              "<style scoped>\n",
              "    .dataframe tbody tr th:only-of-type {\n",
              "        vertical-align: middle;\n",
              "    }\n",
              "\n",
              "    .dataframe tbody tr th {\n",
              "        vertical-align: top;\n",
              "    }\n",
              "\n",
              "    .dataframe thead th {\n",
              "        text-align: right;\n",
              "    }\n",
              "</style>\n",
              "<table border=\"1\" class=\"dataframe\">\n",
              "  <thead>\n",
              "    <tr style=\"text-align: right;\">\n",
              "      <th></th>\n",
              "      <th>pickup_neighborhoods.latitude</th>\n",
              "      <th>HOUR(pickup_datetime)</th>\n",
              "      <th>pickup_neighborhoods.longitude</th>\n",
              "      <th>IS_WEEKEND(pickup_datetime)</th>\n",
              "      <th>passenger_count</th>\n",
              "      <th>dropoff_neighborhoods.longitude</th>\n",
              "      <th>DAY(pickup_datetime)</th>\n",
              "      <th>trip_duration</th>\n",
              "      <th>dropoff_neighborhood = AD</th>\n",
              "      <th>dropoff_neighborhood = A</th>\n",
              "      <th>...</th>\n",
              "      <th>pickup_neighborhood = AO</th>\n",
              "      <th>pickup_neighborhood = N</th>\n",
              "      <th>pickup_neighborhood = O</th>\n",
              "      <th>pickup_neighborhood = R</th>\n",
              "      <th>WEEKDAY(pickup_datetime)</th>\n",
              "      <th>vendor_id</th>\n",
              "      <th>MINUTE(pickup_datetime)</th>\n",
              "      <th>trip_distance</th>\n",
              "      <th>dropoff_neighborhoods.latitude</th>\n",
              "      <th>MONTH(pickup_datetime)</th>\n",
              "    </tr>\n",
              "    <tr>\n",
              "      <th>id</th>\n",
              "      <th></th>\n",
              "      <th></th>\n",
              "      <th></th>\n",
              "      <th></th>\n",
              "      <th></th>\n",
              "      <th></th>\n",
              "      <th></th>\n",
              "      <th></th>\n",
              "      <th></th>\n",
              "      <th></th>\n",
              "      <th></th>\n",
              "      <th></th>\n",
              "      <th></th>\n",
              "      <th></th>\n",
              "      <th></th>\n",
              "      <th></th>\n",
              "      <th></th>\n",
              "      <th></th>\n",
              "      <th></th>\n",
              "      <th></th>\n",
              "      <th></th>\n",
              "    </tr>\n",
              "  </thead>\n",
              "  <tbody>\n",
              "    <tr>\n",
              "      <th>56311</th>\n",
              "      <td>40.720245</td>\n",
              "      <td>0</td>\n",
              "      <td>-73.987205</td>\n",
              "      <td>False</td>\n",
              "      <td>1</td>\n",
              "      <td>-73.998366</td>\n",
              "      <td>12</td>\n",
              "      <td>645.0</td>\n",
              "      <td>False</td>\n",
              "      <td>False</td>\n",
              "      <td>...</td>\n",
              "      <td>False</td>\n",
              "      <td>False</td>\n",
              "      <td>False</td>\n",
              "      <td>False</td>\n",
              "      <td>1</td>\n",
              "      <td>2</td>\n",
              "      <td>0</td>\n",
              "      <td>1.61</td>\n",
              "      <td>40.721435</td>\n",
              "      <td>1</td>\n",
              "    </tr>\n",
              "    <tr>\n",
              "      <th>56312</th>\n",
              "      <td>40.646194</td>\n",
              "      <td>0</td>\n",
              "      <td>-73.785073</td>\n",
              "      <td>False</td>\n",
              "      <td>1</td>\n",
              "      <td>-73.954298</td>\n",
              "      <td>12</td>\n",
              "      <td>1270.0</td>\n",
              "      <td>False</td>\n",
              "      <td>False</td>\n",
              "      <td>...</td>\n",
              "      <td>False</td>\n",
              "      <td>False</td>\n",
              "      <td>False</td>\n",
              "      <td>False</td>\n",
              "      <td>1</td>\n",
              "      <td>2</td>\n",
              "      <td>2</td>\n",
              "      <td>16.15</td>\n",
              "      <td>40.715828</td>\n",
              "      <td>1</td>\n",
              "    </tr>\n",
              "    <tr>\n",
              "      <th>56313</th>\n",
              "      <td>40.818445</td>\n",
              "      <td>0</td>\n",
              "      <td>-73.948046</td>\n",
              "      <td>False</td>\n",
              "      <td>1</td>\n",
              "      <td>-73.948046</td>\n",
              "      <td>12</td>\n",
              "      <td>207.0</td>\n",
              "      <td>False</td>\n",
              "      <td>False</td>\n",
              "      <td>...</td>\n",
              "      <td>False</td>\n",
              "      <td>False</td>\n",
              "      <td>False</td>\n",
              "      <td>False</td>\n",
              "      <td>1</td>\n",
              "      <td>1</td>\n",
              "      <td>2</td>\n",
              "      <td>0.80</td>\n",
              "      <td>40.818445</td>\n",
              "      <td>1</td>\n",
              "    </tr>\n",
              "    <tr>\n",
              "      <th>56314</th>\n",
              "      <td>40.729652</td>\n",
              "      <td>0</td>\n",
              "      <td>-73.991595</td>\n",
              "      <td>False</td>\n",
              "      <td>5</td>\n",
              "      <td>-73.977943</td>\n",
              "      <td>12</td>\n",
              "      <td>214.0</td>\n",
              "      <td>False</td>\n",
              "      <td>False</td>\n",
              "      <td>...</td>\n",
              "      <td>False</td>\n",
              "      <td>False</td>\n",
              "      <td>False</td>\n",
              "      <td>False</td>\n",
              "      <td>1</td>\n",
              "      <td>2</td>\n",
              "      <td>2</td>\n",
              "      <td>1.33</td>\n",
              "      <td>40.742531</td>\n",
              "      <td>1</td>\n",
              "    </tr>\n",
              "    <tr>\n",
              "      <th>56315</th>\n",
              "      <td>40.793597</td>\n",
              "      <td>0</td>\n",
              "      <td>-73.969822</td>\n",
              "      <td>False</td>\n",
              "      <td>1</td>\n",
              "      <td>-73.948046</td>\n",
              "      <td>12</td>\n",
              "      <td>570.0</td>\n",
              "      <td>False</td>\n",
              "      <td>False</td>\n",
              "      <td>...</td>\n",
              "      <td>False</td>\n",
              "      <td>False</td>\n",
              "      <td>False</td>\n",
              "      <td>False</td>\n",
              "      <td>1</td>\n",
              "      <td>2</td>\n",
              "      <td>3</td>\n",
              "      <td>2.35</td>\n",
              "      <td>40.818445</td>\n",
              "      <td>1</td>\n",
              "    </tr>\n",
              "  </tbody>\n",
              "</table>\n",
              "<p>5 rows × 35 columns</p>\n",
              "</div>\n",
              "      <button class=\"colab-df-convert\" onclick=\"convertToInteractive('df-76654220-1b2d-49ed-9cdd-c561dbda60f2')\"\n",
              "              title=\"Convert this dataframe to an interactive table.\"\n",
              "              style=\"display:none;\">\n",
              "        \n",
              "  <svg xmlns=\"http://www.w3.org/2000/svg\" height=\"24px\"viewBox=\"0 0 24 24\"\n",
              "       width=\"24px\">\n",
              "    <path d=\"M0 0h24v24H0V0z\" fill=\"none\"/>\n",
              "    <path d=\"M18.56 5.44l.94 2.06.94-2.06 2.06-.94-2.06-.94-.94-2.06-.94 2.06-2.06.94zm-11 1L8.5 8.5l.94-2.06 2.06-.94-2.06-.94L8.5 2.5l-.94 2.06-2.06.94zm10 10l.94 2.06.94-2.06 2.06-.94-2.06-.94-.94-2.06-.94 2.06-2.06.94z\"/><path d=\"M17.41 7.96l-1.37-1.37c-.4-.4-.92-.59-1.43-.59-.52 0-1.04.2-1.43.59L10.3 9.45l-7.72 7.72c-.78.78-.78 2.05 0 2.83L4 21.41c.39.39.9.59 1.41.59.51 0 1.02-.2 1.41-.59l7.78-7.78 2.81-2.81c.8-.78.8-2.07 0-2.86zM5.41 20L4 18.59l7.72-7.72 1.47 1.35L5.41 20z\"/>\n",
              "  </svg>\n",
              "      </button>\n",
              "      \n",
              "  <style>\n",
              "    .colab-df-container {\n",
              "      display:flex;\n",
              "      flex-wrap:wrap;\n",
              "      gap: 12px;\n",
              "    }\n",
              "\n",
              "    .colab-df-convert {\n",
              "      background-color: #E8F0FE;\n",
              "      border: none;\n",
              "      border-radius: 50%;\n",
              "      cursor: pointer;\n",
              "      display: none;\n",
              "      fill: #1967D2;\n",
              "      height: 32px;\n",
              "      padding: 0 0 0 0;\n",
              "      width: 32px;\n",
              "    }\n",
              "\n",
              "    .colab-df-convert:hover {\n",
              "      background-color: #E2EBFA;\n",
              "      box-shadow: 0px 1px 2px rgba(60, 64, 67, 0.3), 0px 1px 3px 1px rgba(60, 64, 67, 0.15);\n",
              "      fill: #174EA6;\n",
              "    }\n",
              "\n",
              "    [theme=dark] .colab-df-convert {\n",
              "      background-color: #3B4455;\n",
              "      fill: #D2E3FC;\n",
              "    }\n",
              "\n",
              "    [theme=dark] .colab-df-convert:hover {\n",
              "      background-color: #434B5C;\n",
              "      box-shadow: 0px 1px 3px 1px rgba(0, 0, 0, 0.15);\n",
              "      filter: drop-shadow(0px 1px 2px rgba(0, 0, 0, 0.3));\n",
              "      fill: #FFFFFF;\n",
              "    }\n",
              "  </style>\n",
              "\n",
              "      <script>\n",
              "        const buttonEl =\n",
              "          document.querySelector('#df-76654220-1b2d-49ed-9cdd-c561dbda60f2 button.colab-df-convert');\n",
              "        buttonEl.style.display =\n",
              "          google.colab.kernel.accessAllowed ? 'block' : 'none';\n",
              "\n",
              "        async function convertToInteractive(key) {\n",
              "          const element = document.querySelector('#df-76654220-1b2d-49ed-9cdd-c561dbda60f2');\n",
              "          const dataTable =\n",
              "            await google.colab.kernel.invokeFunction('convertToInteractive',\n",
              "                                                     [key], {});\n",
              "          if (!dataTable) return;\n",
              "\n",
              "          const docLinkHtml = 'Like what you see? Visit the ' +\n",
              "            '<a target=\"_blank\" href=https://colab.research.google.com/notebooks/data_table.ipynb>data table notebook</a>'\n",
              "            + ' to learn more about interactive tables.';\n",
              "          element.innerHTML = '';\n",
              "          dataTable['output_type'] = 'display_data';\n",
              "          await google.colab.output.renderOutput(dataTable, element);\n",
              "          const docLink = document.createElement('div');\n",
              "          docLink.innerHTML = docLinkHtml;\n",
              "          element.appendChild(docLink);\n",
              "        }\n",
              "      </script>\n",
              "    </div>\n",
              "  </div>\n",
              "  "
            ]
          },
          "metadata": {},
          "execution_count": 64
        }
      ],
      "source": [
        "feature_matrix2.head()"
      ]
    },
    {
      "cell_type": "markdown",
      "metadata": {
        "id": "ykeNx2tke7mV"
      },
      "source": [
        "**Build the new models more transform features**"
      ]
    },
    {
      "cell_type": "code",
      "execution_count": null,
      "metadata": {
        "ExecuteTime": {
          "end_time": "2021-07-15T12:55:38.459145Z",
          "start_time": "2021-07-15T12:55:32.592515Z"
        },
        "id": "fe_jCKRwe7mV"
      },
      "outputs": [],
      "source": [
        "# Separates the whole feature matrix into train data feature matrix,train data labels, and test data feature matrix \n",
        "X_train2, y_train2, X_test2, y_test2 = get_train_test_fm(feature_matrix2,.75)\n",
        "y_train2 = np.sqrt(y_train2)\n",
        "y_test2 = np.sqrt(y_test2)"
      ]
    },
    {
      "cell_type": "markdown",
      "metadata": {
        "id": "Rxm6opsXe7mV"
      },
      "source": [
        "### **Question 5.3 Building Linear regression using more transform primitive**"
      ]
    },
    {
      "cell_type": "code",
      "execution_count": null,
      "metadata": {
        "id": "BZLE63mre7mV",
        "colab": {
          "base_uri": "https://localhost:8080/"
        },
        "outputId": "2ca3207a-5621-44ba-fefa-8fa11b435251"
      },
      "outputs": [
        {
          "output_type": "execute_result",
          "data": {
            "text/plain": [
              "LinearRegression()"
            ]
          },
          "metadata": {},
          "execution_count": 66
        }
      ],
      "source": [
        "# Defining the model\n",
        "lr2=LinearRegression()\n",
        "\n",
        "# Fitting the model\n",
        "lr2.fit(X_train2,y_train2)"
      ]
    },
    {
      "cell_type": "markdown",
      "metadata": {
        "id": "s8f8HGP3e7mV"
      },
      "source": [
        "#### **Check the performance of the model**"
      ]
    },
    {
      "cell_type": "code",
      "execution_count": null,
      "metadata": {
        "id": "HrDJpQ9ke7mV",
        "colab": {
          "base_uri": "https://localhost:8080/"
        },
        "outputId": "6f508646-34cc-4c7c-9f33-995fdab412c3"
      },
      "outputs": [
        {
          "output_type": "stream",
          "name": "stdout",
          "text": [
            "    Data  RSquared      RMSE       MAE\n",
            "0  Train  0.595220  5.771072  4.469631\n",
            "1   Test  0.475803  7.129655  5.358349\n"
          ]
        }
      ],
      "source": [
        "model_pref(lr2, X_train2, X_test2,y_train2,y_test2)  "
      ]
    },
    {
      "cell_type": "markdown",
      "metadata": {
        "id": "VqRIZ69Ue7mV"
      },
      "source": [
        "**Write your answers here:\n",
        "Model is giving 0.48 Rsquared, with RSME of 5.77 and MAE of ~4.47.\n",
        "Model performance has not improved much from the last model by adding more transform primitives\n",
        "Model is not overfitting, and giving generalized results.**"
      ]
    },
    {
      "cell_type": "markdown",
      "metadata": {
        "id": "3fq862XIe7mW"
      },
      "source": [
        "### **Question 5.4 Building Decision tree using more transform primitive**"
      ]
    },
    {
      "cell_type": "code",
      "execution_count": null,
      "metadata": {
        "id": "1TECHO8Oe7mW",
        "colab": {
          "base_uri": "https://localhost:8080/"
        },
        "outputId": "3f6f3b68-a75b-4c24-e677-4284026d9bf5"
      },
      "outputs": [
        {
          "output_type": "execute_result",
          "data": {
            "text/plain": [
              "DecisionTreeRegressor()"
            ]
          },
          "metadata": {},
          "execution_count": 68
        }
      ],
      "source": [
        "# Define the model\n",
        "dt2=DecisionTreeRegressor()\n",
        "\n",
        "# Fit the model\n",
        "dt2.fit(X_train2,y_train2)"
      ]
    },
    {
      "cell_type": "markdown",
      "metadata": {
        "id": "NDFGjjsJe7mW"
      },
      "source": [
        "#### **Check the performance of the model**"
      ]
    },
    {
      "cell_type": "code",
      "execution_count": null,
      "metadata": {
        "id": "-F9CDxDNe7mW",
        "colab": {
          "base_uri": "https://localhost:8080/"
        },
        "outputId": "f379982b-e9bc-438f-ba69-8984c78bdfd0"
      },
      "outputs": [
        {
          "output_type": "stream",
          "name": "stdout",
          "text": [
            "    Data  RSquared      RMSE       MAE\n",
            "0  Train  0.999996  0.017617  0.000108\n",
            "1   Test  0.553459  6.580390  4.891497\n"
          ]
        }
      ],
      "source": [
        "model_pref(dt2, X_train2, X_test2,y_train2,y_test2)  "
      ]
    },
    {
      "cell_type": "markdown",
      "metadata": {
        "id": "G1DSEV4pe7mW"
      },
      "source": [
        "**Write your answers here:\n",
        "The model is overfitting a lot, with train R2 as 0.999 while test R2 as 0.55.\n",
        "This generally happens in decision tree, one solution for this is to Prune the decision tree, let's try pruning and see if the performance improves.**"
      ]
    },
    {
      "cell_type": "markdown",
      "metadata": {
        "id": "gI6nFWMUe7mW"
      },
      "source": [
        "### **Question 5.5 Building Pruned Decision tree using more transform primitive**"
      ]
    },
    {
      "cell_type": "code",
      "execution_count": null,
      "metadata": {
        "id": "leMeU-6Ue7mW",
        "colab": {
          "base_uri": "https://localhost:8080/"
        },
        "outputId": "f033ad2e-1ac5-4051-fa70-f4ed96ec1d45"
      },
      "outputs": [
        {
          "output_type": "execute_result",
          "data": {
            "text/plain": [
              "DecisionTreeRegressor(max_depth=4)"
            ]
          },
          "metadata": {},
          "execution_count": 71
        }
      ],
      "source": [
        "# Define the model\n",
        "\n",
        "# Use max_depth=7\n",
        "dt_pruned2=DecisionTreeRegressor(max_depth=4)\n",
        "\n",
        "# Fit the model\n",
        "dt_pruned2.fit(X_train2,y_train2)"
      ]
    },
    {
      "cell_type": "markdown",
      "metadata": {
        "id": "Ih-D5Yuoe7mW"
      },
      "source": [
        "#### **Check the performance of the model**"
      ]
    },
    {
      "cell_type": "code",
      "execution_count": null,
      "metadata": {
        "id": "TdqYsluAe7mX",
        "colab": {
          "base_uri": "https://localhost:8080/"
        },
        "outputId": "1281f313-370a-4c0a-a8ed-7156df716693"
      },
      "outputs": [
        {
          "output_type": "stream",
          "name": "stdout",
          "text": [
            "    Data  RSquared      RMSE       MAE\n",
            "0  Train  0.726084  4.747401  3.612134\n",
            "1   Test  0.624760  6.032200  4.349511\n"
          ]
        }
      ],
      "source": [
        "model_pref(dt_pruned2, X_train2, X_test2,y_train2,y_test2)  "
      ]
    },
    {
      "cell_type": "markdown",
      "metadata": {
        "id": "ZQ1cHZupe7mX"
      },
      "source": [
        "**Write your answers here: \n",
        "Model is giving ~0.62 Rsquared, with RSME of 4.74 and MAE of ~3.61.\n",
        "Model performance has improved by adding more transform features.\n",
        "Model is slightly overfitting.**"
      ]
    },
    {
      "cell_type": "markdown",
      "metadata": {
        "id": "WF7J_3Jqe7mX"
      },
      "source": [
        "### **Question 5.6 Building Random Forest using more transform primitive**"
      ]
    },
    {
      "cell_type": "code",
      "execution_count": null,
      "metadata": {
        "id": "8J7ig2fne7mX",
        "colab": {
          "base_uri": "https://localhost:8080/"
        },
        "outputId": "d4b2031a-214c-40ef-a2af-83e5e5e91906"
      },
      "outputs": [
        {
          "output_type": "execute_result",
          "data": {
            "text/plain": [
              "RandomForestRegressor(max_depth=7, n_estimators=60)"
            ]
          },
          "metadata": {},
          "execution_count": 73
        }
      ],
      "source": [
        "# Fit the model\n",
        "\n",
        "# Using (n_estimators=60,max_depth=7)\n",
        "\n",
        "rf2=RandomForestRegressor(n_estimators=60,max_depth=7)\n",
        "\n",
        "# Fit the model\n",
        "\n",
        "rf2.fit(X_train2,y_train2)"
      ]
    },
    {
      "cell_type": "markdown",
      "metadata": {
        "id": "ccIh35W6e7mX"
      },
      "source": [
        "#### **Check the performance of the model**"
      ]
    },
    {
      "cell_type": "code",
      "execution_count": null,
      "metadata": {
        "id": "ozjTb4age7mX",
        "colab": {
          "base_uri": "https://localhost:8080/"
        },
        "outputId": "82830b05-825d-44d5-a381-7f609c16420b"
      },
      "outputs": [
        {
          "output_type": "stream",
          "name": "stdout",
          "text": [
            "    Data  RSquared      RMSE       MAE\n",
            "0  Train  0.795274  4.104251  3.067049\n",
            "1   Test  0.688766  5.493700  3.908478\n"
          ]
        }
      ],
      "source": [
        "model_pref(rf2, X_train2, X_test2,y_train2,y_test2)  "
      ]
    },
    {
      "cell_type": "markdown",
      "metadata": {
        "id": "vgqQNj_Ee7mX"
      },
      "source": [
        "**Write your answers here: \n",
        "The score for the model with more transform primitive is ~68%.\n",
        "As compared to previous model, the score has improved significantly.**\n"
      ]
    },
    {
      "cell_type": "markdown",
      "metadata": {
        "id": "fD4U0Duze7mY"
      },
      "source": [
        "### **Question: 5.7 Comment on how the modeling accuracy differs when including more transform features.**"
      ]
    },
    {
      "cell_type": "markdown",
      "metadata": {
        "id": "ybgx3HVwe7mY"
      },
      "source": [
        "**Write your answers here: modelling accuracy tends to improve in general, when including more features.\n",
        "\n",
        "However, there is a risk of overfitting.**"
      ]
    },
    {
      "cell_type": "markdown",
      "metadata": {
        "id": "ynj1WIGDe7mY"
      },
      "source": [
        "### **Step 5: Add Aggregation Primitives**\n",
        "\n",
        "Now let's add aggregation primitives. These primitives will generate features for the parent entities ``pickup_neighborhoods``, and ``dropoff_neighborhood`` and then add them to the trips entity, which is the entity for which we are trying to make prediction."
      ]
    },
    {
      "cell_type": "markdown",
      "metadata": {
        "id": "oAAh7fO5e7mY"
      },
      "source": [
        "## **Question 6: Create a Models with transform and aggregate primitive. (10 Marks)**\n"
      ]
    },
    {
      "cell_type": "markdown",
      "source": [
        "###**6.1 Define more transform and aggregate primitive and define features using dfs?**"
      ],
      "metadata": {
        "id": "ammosZyA688b"
      }
    },
    {
      "cell_type": "code",
      "execution_count": null,
      "metadata": {
        "ExecuteTime": {
          "end_time": "2021-07-15T12:59:43.977607Z",
          "start_time": "2021-07-15T12:59:41.353328Z"
        },
        "id": "S1a1vy8Me7mY"
      },
      "outputs": [],
      "source": [
        "trans_primitives = [Minute, Hour, Day, Month, Weekday, IsWeekend]\n",
        "aggregation_primitives = [Count, Sum, Mean, Median, Std, Max, Min]\n",
        "\n",
        "features = ft.dfs(entities=entities,\n",
        "                  relationships=relationships,\n",
        "                  target_entity=\"trips\",\n",
        "                  trans_primitives=trans_primitives,\n",
        "                  agg_primitives=aggregation_primitives,\n",
        "                  ignore_variables={\"trips\": [\"pickup_latitude\", \"pickup_longitude\",\n",
        "                                              \"dropoff_latitude\", \"dropoff_longitude\"]},\n",
        "                  features_only=True)"
      ]
    },
    {
      "cell_type": "code",
      "execution_count": null,
      "metadata": {
        "ExecuteTime": {
          "end_time": "2021-07-15T12:59:45.888070Z",
          "start_time": "2021-07-15T12:59:45.782499Z"
        },
        "scrolled": false,
        "id": "Y7joT4X-e7mY",
        "colab": {
          "base_uri": "https://localhost:8080/"
        },
        "outputId": "3685fc13-8475-4165-dc00-49a0e6c0b6b5"
      },
      "outputs": [
        {
          "output_type": "stream",
          "name": "stdout",
          "text": [
            "Number of features: 55\n"
          ]
        },
        {
          "output_type": "execute_result",
          "data": {
            "text/plain": [
              "[<Feature: vendor_id>,\n",
              " <Feature: passenger_count>,\n",
              " <Feature: trip_distance>,\n",
              " <Feature: payment_type>,\n",
              " <Feature: trip_duration>,\n",
              " <Feature: pickup_neighborhood>,\n",
              " <Feature: dropoff_neighborhood>,\n",
              " <Feature: DAY(pickup_datetime)>,\n",
              " <Feature: HOUR(pickup_datetime)>,\n",
              " <Feature: IS_WEEKEND(pickup_datetime)>,\n",
              " <Feature: MINUTE(pickup_datetime)>,\n",
              " <Feature: MONTH(pickup_datetime)>,\n",
              " <Feature: WEEKDAY(pickup_datetime)>,\n",
              " <Feature: pickup_neighborhoods.latitude>,\n",
              " <Feature: pickup_neighborhoods.longitude>,\n",
              " <Feature: dropoff_neighborhoods.latitude>,\n",
              " <Feature: dropoff_neighborhoods.longitude>,\n",
              " <Feature: pickup_neighborhoods.COUNT(trips)>,\n",
              " <Feature: pickup_neighborhoods.MAX(trips.passenger_count)>,\n",
              " <Feature: pickup_neighborhoods.MAX(trips.trip_distance)>,\n",
              " <Feature: pickup_neighborhoods.MAX(trips.trip_duration)>,\n",
              " <Feature: pickup_neighborhoods.MEAN(trips.passenger_count)>,\n",
              " <Feature: pickup_neighborhoods.MEAN(trips.trip_distance)>,\n",
              " <Feature: pickup_neighborhoods.MEAN(trips.trip_duration)>,\n",
              " <Feature: pickup_neighborhoods.MEDIAN(trips.passenger_count)>,\n",
              " <Feature: pickup_neighborhoods.MEDIAN(trips.trip_distance)>,\n",
              " <Feature: pickup_neighborhoods.MEDIAN(trips.trip_duration)>,\n",
              " <Feature: pickup_neighborhoods.MIN(trips.passenger_count)>,\n",
              " <Feature: pickup_neighborhoods.MIN(trips.trip_distance)>,\n",
              " <Feature: pickup_neighborhoods.MIN(trips.trip_duration)>,\n",
              " <Feature: pickup_neighborhoods.STD(trips.passenger_count)>,\n",
              " <Feature: pickup_neighborhoods.STD(trips.trip_distance)>,\n",
              " <Feature: pickup_neighborhoods.STD(trips.trip_duration)>,\n",
              " <Feature: pickup_neighborhoods.SUM(trips.passenger_count)>,\n",
              " <Feature: pickup_neighborhoods.SUM(trips.trip_distance)>,\n",
              " <Feature: pickup_neighborhoods.SUM(trips.trip_duration)>,\n",
              " <Feature: dropoff_neighborhoods.COUNT(trips)>,\n",
              " <Feature: dropoff_neighborhoods.MAX(trips.passenger_count)>,\n",
              " <Feature: dropoff_neighborhoods.MAX(trips.trip_distance)>,\n",
              " <Feature: dropoff_neighborhoods.MAX(trips.trip_duration)>,\n",
              " <Feature: dropoff_neighborhoods.MEAN(trips.passenger_count)>,\n",
              " <Feature: dropoff_neighborhoods.MEAN(trips.trip_distance)>,\n",
              " <Feature: dropoff_neighborhoods.MEAN(trips.trip_duration)>,\n",
              " <Feature: dropoff_neighborhoods.MEDIAN(trips.passenger_count)>,\n",
              " <Feature: dropoff_neighborhoods.MEDIAN(trips.trip_distance)>,\n",
              " <Feature: dropoff_neighborhoods.MEDIAN(trips.trip_duration)>,\n",
              " <Feature: dropoff_neighborhoods.MIN(trips.passenger_count)>,\n",
              " <Feature: dropoff_neighborhoods.MIN(trips.trip_distance)>,\n",
              " <Feature: dropoff_neighborhoods.MIN(trips.trip_duration)>,\n",
              " <Feature: dropoff_neighborhoods.STD(trips.passenger_count)>,\n",
              " <Feature: dropoff_neighborhoods.STD(trips.trip_distance)>,\n",
              " <Feature: dropoff_neighborhoods.STD(trips.trip_duration)>,\n",
              " <Feature: dropoff_neighborhoods.SUM(trips.passenger_count)>,\n",
              " <Feature: dropoff_neighborhoods.SUM(trips.trip_distance)>,\n",
              " <Feature: dropoff_neighborhoods.SUM(trips.trip_duration)>]"
            ]
          },
          "metadata": {},
          "execution_count": 76
        }
      ],
      "source": [
        "print (\"Number of features: %d\" % len(features))\n",
        "features"
      ]
    },
    {
      "cell_type": "markdown",
      "metadata": {
        "id": "Uhv0Znrge7mY"
      },
      "source": [
        "### **Question: 6.2 Compute features and define feature matrix**"
      ]
    },
    {
      "cell_type": "code",
      "execution_count": null,
      "metadata": {
        "ExecuteTime": {
          "end_time": "2021-07-09T11:13:54.617340Z",
          "start_time": "2021-07-09T11:13:28.226824Z"
        },
        "id": "OvsxI2p9e7mY",
        "colab": {
          "base_uri": "https://localhost:8080/"
        },
        "outputId": "64fce8fb-94a3-4a9d-cc9f-b9f23d946515"
      },
      "outputs": [
        {
          "output_type": "stream",
          "name": "stdout",
          "text": [
            "Elapsed: 00:01 | Progress: 100%|██████████\n",
            "Finishing computing...\n"
          ]
        }
      ],
      "source": [
        "feature_matrix3 = compute_features(features, cutoff_time)"
      ]
    },
    {
      "cell_type": "code",
      "execution_count": null,
      "metadata": {
        "ExecuteTime": {
          "end_time": "2021-07-09T11:14:02.858716Z",
          "start_time": "2021-07-09T11:14:02.439924Z"
        },
        "id": "mEZcg7qje7mY",
        "colab": {
          "base_uri": "https://localhost:8080/",
          "height": 331
        },
        "outputId": "2be10eb0-538f-4264-aae6-0707955013cc"
      },
      "outputs": [
        {
          "output_type": "execute_result",
          "data": {
            "text/plain": [
              "       HOUR(pickup_datetime)  dropoff_neighborhoods.MEAN(trips.trip_duration)  \\\n",
              "id                                                                              \n",
              "56311                      0                                       776.627978   \n",
              "56312                      0                                      1036.722148   \n",
              "56313                      0                                       933.914230   \n",
              "56314                      0                                       570.183240   \n",
              "56315                      0                                       933.914230   \n",
              "\n",
              "       MONTH(pickup_datetime)  dropoff_neighborhoods.STD(trips.trip_distance)  \\\n",
              "id                                                                              \n",
              "56311                       1                                        2.776681   \n",
              "56312                       1                                        3.831003   \n",
              "56313                       1                                        3.706270   \n",
              "56314                       1                                        2.399307   \n",
              "56315                       1                                        3.706270   \n",
              "\n",
              "       pickup_neighborhoods.MEAN(trips.trip_distance)  \\\n",
              "id                                                      \n",
              "56311                                        3.008120   \n",
              "56312                                       15.573704   \n",
              "56313                                        2.867798   \n",
              "56314                                        2.285062   \n",
              "56315                                        2.146973   \n",
              "\n",
              "       pickup_neighborhoods.SUM(trips.passenger_count)  \\\n",
              "id                                                       \n",
              "56311                                             2219   \n",
              "56312                                             2239   \n",
              "56313                                              390   \n",
              "56314                                             2838   \n",
              "56315                                             1897   \n",
              "\n",
              "       IS_WEEKEND(pickup_datetime)  pickup_neighborhoods.COUNT(trips)  \\\n",
              "id                                                                      \n",
              "56311                        False                               1298   \n",
              "56312                        False                               1250   \n",
              "56313                        False                                218   \n",
              "56314                        False                               1703   \n",
              "56315                        False                               1176   \n",
              "\n",
              "       pickup_neighborhoods.SUM(trips.trip_duration)  \\\n",
              "id                                                     \n",
              "56311                                       965650.0   \n",
              "56312                                      2581191.0   \n",
              "56313                                       146585.0   \n",
              "56314                                      1156824.0   \n",
              "56315                                       721542.0   \n",
              "\n",
              "       pickup_neighborhoods.MAX(trips.trip_distance)  ...  \\\n",
              "id                                                    ...   \n",
              "56311                                          18.57  ...   \n",
              "56312                                          32.30  ...   \n",
              "56313                                          18.50  ...   \n",
              "56314                                          18.30  ...   \n",
              "56315                                          20.30  ...   \n",
              "\n",
              "       dropoff_neighborhoods.STD(trips.passenger_count)  \\\n",
              "id                                                        \n",
              "56311                                          1.303984   \n",
              "56312                                          1.335982   \n",
              "56313                                          1.289944   \n",
              "56314                                          1.375904   \n",
              "56315                                          1.289944   \n",
              "\n",
              "       dropoff_neighborhoods.MIN(trips.trip_duration)  \\\n",
              "id                                                      \n",
              "56311                                             1.0   \n",
              "56312                                             4.0   \n",
              "56313                                             6.0   \n",
              "56314                                             9.0   \n",
              "56315                                             6.0   \n",
              "\n",
              "       dropoff_neighborhoods.MAX(trips.passenger_count)  trip_distance  \\\n",
              "id                                                                       \n",
              "56311                                                 6           1.61   \n",
              "56312                                                 6          16.15   \n",
              "56313                                                 6           0.80   \n",
              "56314                                                 6           1.33   \n",
              "56315                                                 6           2.35   \n",
              "\n",
              "       pickup_neighborhoods.longitude  \\\n",
              "id                                      \n",
              "56311                      -73.987205   \n",
              "56312                      -73.785073   \n",
              "56313                      -73.948046   \n",
              "56314                      -73.991595   \n",
              "56315                      -73.969822   \n",
              "\n",
              "       dropoff_neighborhoods.MEDIAN(trips.trip_duration)  \\\n",
              "id                                                         \n",
              "56311                                              668.0   \n",
              "56312                                              942.0   \n",
              "56313                                              898.0   \n",
              "56314                                              474.0   \n",
              "56315                                              898.0   \n",
              "\n",
              "       dropoff_neighborhoods.MEDIAN(trips.passenger_count)  \\\n",
              "id                                                           \n",
              "56311                                                1.0     \n",
              "56312                                                1.0     \n",
              "56313                                                1.0     \n",
              "56314                                                1.0     \n",
              "56315                                                1.0     \n",
              "\n",
              "       pickup_neighborhoods.MAX(trips.passenger_count)  \\\n",
              "id                                                       \n",
              "56311                                                6   \n",
              "56312                                                6   \n",
              "56313                                                6   \n",
              "56314                                                6   \n",
              "56315                                                6   \n",
              "\n",
              "       dropoff_neighborhoods.MAX(trips.trip_duration)  \\\n",
              "id                                                      \n",
              "56311                                          3572.0   \n",
              "56312                                          3526.0   \n",
              "56313                                          3312.0   \n",
              "56314                                          3581.0   \n",
              "56315                                          3312.0   \n",
              "\n",
              "       dropoff_neighborhoods.MAX(trips.trip_distance)  \n",
              "id                                                     \n",
              "56311                                           20.54  \n",
              "56312                                           19.00  \n",
              "56313                                           25.30  \n",
              "56314                                           19.16  \n",
              "56315                                           25.30  \n",
              "\n",
              "[5 rows x 73 columns]"
            ],
            "text/html": [
              "\n",
              "  <div id=\"df-7c8847b3-bff0-4bd1-9887-243e9e50684a\">\n",
              "    <div class=\"colab-df-container\">\n",
              "      <div>\n",
              "<style scoped>\n",
              "    .dataframe tbody tr th:only-of-type {\n",
              "        vertical-align: middle;\n",
              "    }\n",
              "\n",
              "    .dataframe tbody tr th {\n",
              "        vertical-align: top;\n",
              "    }\n",
              "\n",
              "    .dataframe thead th {\n",
              "        text-align: right;\n",
              "    }\n",
              "</style>\n",
              "<table border=\"1\" class=\"dataframe\">\n",
              "  <thead>\n",
              "    <tr style=\"text-align: right;\">\n",
              "      <th></th>\n",
              "      <th>HOUR(pickup_datetime)</th>\n",
              "      <th>dropoff_neighborhoods.MEAN(trips.trip_duration)</th>\n",
              "      <th>MONTH(pickup_datetime)</th>\n",
              "      <th>dropoff_neighborhoods.STD(trips.trip_distance)</th>\n",
              "      <th>pickup_neighborhoods.MEAN(trips.trip_distance)</th>\n",
              "      <th>pickup_neighborhoods.SUM(trips.passenger_count)</th>\n",
              "      <th>IS_WEEKEND(pickup_datetime)</th>\n",
              "      <th>pickup_neighborhoods.COUNT(trips)</th>\n",
              "      <th>pickup_neighborhoods.SUM(trips.trip_duration)</th>\n",
              "      <th>pickup_neighborhoods.MAX(trips.trip_distance)</th>\n",
              "      <th>...</th>\n",
              "      <th>dropoff_neighborhoods.STD(trips.passenger_count)</th>\n",
              "      <th>dropoff_neighborhoods.MIN(trips.trip_duration)</th>\n",
              "      <th>dropoff_neighborhoods.MAX(trips.passenger_count)</th>\n",
              "      <th>trip_distance</th>\n",
              "      <th>pickup_neighborhoods.longitude</th>\n",
              "      <th>dropoff_neighborhoods.MEDIAN(trips.trip_duration)</th>\n",
              "      <th>dropoff_neighborhoods.MEDIAN(trips.passenger_count)</th>\n",
              "      <th>pickup_neighborhoods.MAX(trips.passenger_count)</th>\n",
              "      <th>dropoff_neighborhoods.MAX(trips.trip_duration)</th>\n",
              "      <th>dropoff_neighborhoods.MAX(trips.trip_distance)</th>\n",
              "    </tr>\n",
              "    <tr>\n",
              "      <th>id</th>\n",
              "      <th></th>\n",
              "      <th></th>\n",
              "      <th></th>\n",
              "      <th></th>\n",
              "      <th></th>\n",
              "      <th></th>\n",
              "      <th></th>\n",
              "      <th></th>\n",
              "      <th></th>\n",
              "      <th></th>\n",
              "      <th></th>\n",
              "      <th></th>\n",
              "      <th></th>\n",
              "      <th></th>\n",
              "      <th></th>\n",
              "      <th></th>\n",
              "      <th></th>\n",
              "      <th></th>\n",
              "      <th></th>\n",
              "      <th></th>\n",
              "      <th></th>\n",
              "    </tr>\n",
              "  </thead>\n",
              "  <tbody>\n",
              "    <tr>\n",
              "      <th>56311</th>\n",
              "      <td>0</td>\n",
              "      <td>776.627978</td>\n",
              "      <td>1</td>\n",
              "      <td>2.776681</td>\n",
              "      <td>3.008120</td>\n",
              "      <td>2219</td>\n",
              "      <td>False</td>\n",
              "      <td>1298</td>\n",
              "      <td>965650.0</td>\n",
              "      <td>18.57</td>\n",
              "      <td>...</td>\n",
              "      <td>1.303984</td>\n",
              "      <td>1.0</td>\n",
              "      <td>6</td>\n",
              "      <td>1.61</td>\n",
              "      <td>-73.987205</td>\n",
              "      <td>668.0</td>\n",
              "      <td>1.0</td>\n",
              "      <td>6</td>\n",
              "      <td>3572.0</td>\n",
              "      <td>20.54</td>\n",
              "    </tr>\n",
              "    <tr>\n",
              "      <th>56312</th>\n",
              "      <td>0</td>\n",
              "      <td>1036.722148</td>\n",
              "      <td>1</td>\n",
              "      <td>3.831003</td>\n",
              "      <td>15.573704</td>\n",
              "      <td>2239</td>\n",
              "      <td>False</td>\n",
              "      <td>1250</td>\n",
              "      <td>2581191.0</td>\n",
              "      <td>32.30</td>\n",
              "      <td>...</td>\n",
              "      <td>1.335982</td>\n",
              "      <td>4.0</td>\n",
              "      <td>6</td>\n",
              "      <td>16.15</td>\n",
              "      <td>-73.785073</td>\n",
              "      <td>942.0</td>\n",
              "      <td>1.0</td>\n",
              "      <td>6</td>\n",
              "      <td>3526.0</td>\n",
              "      <td>19.00</td>\n",
              "    </tr>\n",
              "    <tr>\n",
              "      <th>56313</th>\n",
              "      <td>0</td>\n",
              "      <td>933.914230</td>\n",
              "      <td>1</td>\n",
              "      <td>3.706270</td>\n",
              "      <td>2.867798</td>\n",
              "      <td>390</td>\n",
              "      <td>False</td>\n",
              "      <td>218</td>\n",
              "      <td>146585.0</td>\n",
              "      <td>18.50</td>\n",
              "      <td>...</td>\n",
              "      <td>1.289944</td>\n",
              "      <td>6.0</td>\n",
              "      <td>6</td>\n",
              "      <td>0.80</td>\n",
              "      <td>-73.948046</td>\n",
              "      <td>898.0</td>\n",
              "      <td>1.0</td>\n",
              "      <td>6</td>\n",
              "      <td>3312.0</td>\n",
              "      <td>25.30</td>\n",
              "    </tr>\n",
              "    <tr>\n",
              "      <th>56314</th>\n",
              "      <td>0</td>\n",
              "      <td>570.183240</td>\n",
              "      <td>1</td>\n",
              "      <td>2.399307</td>\n",
              "      <td>2.285062</td>\n",
              "      <td>2838</td>\n",
              "      <td>False</td>\n",
              "      <td>1703</td>\n",
              "      <td>1156824.0</td>\n",
              "      <td>18.30</td>\n",
              "      <td>...</td>\n",
              "      <td>1.375904</td>\n",
              "      <td>9.0</td>\n",
              "      <td>6</td>\n",
              "      <td>1.33</td>\n",
              "      <td>-73.991595</td>\n",
              "      <td>474.0</td>\n",
              "      <td>1.0</td>\n",
              "      <td>6</td>\n",
              "      <td>3581.0</td>\n",
              "      <td>19.16</td>\n",
              "    </tr>\n",
              "    <tr>\n",
              "      <th>56315</th>\n",
              "      <td>0</td>\n",
              "      <td>933.914230</td>\n",
              "      <td>1</td>\n",
              "      <td>3.706270</td>\n",
              "      <td>2.146973</td>\n",
              "      <td>1897</td>\n",
              "      <td>False</td>\n",
              "      <td>1176</td>\n",
              "      <td>721542.0</td>\n",
              "      <td>20.30</td>\n",
              "      <td>...</td>\n",
              "      <td>1.289944</td>\n",
              "      <td>6.0</td>\n",
              "      <td>6</td>\n",
              "      <td>2.35</td>\n",
              "      <td>-73.969822</td>\n",
              "      <td>898.0</td>\n",
              "      <td>1.0</td>\n",
              "      <td>6</td>\n",
              "      <td>3312.0</td>\n",
              "      <td>25.30</td>\n",
              "    </tr>\n",
              "  </tbody>\n",
              "</table>\n",
              "<p>5 rows × 73 columns</p>\n",
              "</div>\n",
              "      <button class=\"colab-df-convert\" onclick=\"convertToInteractive('df-7c8847b3-bff0-4bd1-9887-243e9e50684a')\"\n",
              "              title=\"Convert this dataframe to an interactive table.\"\n",
              "              style=\"display:none;\">\n",
              "        \n",
              "  <svg xmlns=\"http://www.w3.org/2000/svg\" height=\"24px\"viewBox=\"0 0 24 24\"\n",
              "       width=\"24px\">\n",
              "    <path d=\"M0 0h24v24H0V0z\" fill=\"none\"/>\n",
              "    <path d=\"M18.56 5.44l.94 2.06.94-2.06 2.06-.94-2.06-.94-.94-2.06-.94 2.06-2.06.94zm-11 1L8.5 8.5l.94-2.06 2.06-.94-2.06-.94L8.5 2.5l-.94 2.06-2.06.94zm10 10l.94 2.06.94-2.06 2.06-.94-2.06-.94-.94-2.06-.94 2.06-2.06.94z\"/><path d=\"M17.41 7.96l-1.37-1.37c-.4-.4-.92-.59-1.43-.59-.52 0-1.04.2-1.43.59L10.3 9.45l-7.72 7.72c-.78.78-.78 2.05 0 2.83L4 21.41c.39.39.9.59 1.41.59.51 0 1.02-.2 1.41-.59l7.78-7.78 2.81-2.81c.8-.78.8-2.07 0-2.86zM5.41 20L4 18.59l7.72-7.72 1.47 1.35L5.41 20z\"/>\n",
              "  </svg>\n",
              "      </button>\n",
              "      \n",
              "  <style>\n",
              "    .colab-df-container {\n",
              "      display:flex;\n",
              "      flex-wrap:wrap;\n",
              "      gap: 12px;\n",
              "    }\n",
              "\n",
              "    .colab-df-convert {\n",
              "      background-color: #E8F0FE;\n",
              "      border: none;\n",
              "      border-radius: 50%;\n",
              "      cursor: pointer;\n",
              "      display: none;\n",
              "      fill: #1967D2;\n",
              "      height: 32px;\n",
              "      padding: 0 0 0 0;\n",
              "      width: 32px;\n",
              "    }\n",
              "\n",
              "    .colab-df-convert:hover {\n",
              "      background-color: #E2EBFA;\n",
              "      box-shadow: 0px 1px 2px rgba(60, 64, 67, 0.3), 0px 1px 3px 1px rgba(60, 64, 67, 0.15);\n",
              "      fill: #174EA6;\n",
              "    }\n",
              "\n",
              "    [theme=dark] .colab-df-convert {\n",
              "      background-color: #3B4455;\n",
              "      fill: #D2E3FC;\n",
              "    }\n",
              "\n",
              "    [theme=dark] .colab-df-convert:hover {\n",
              "      background-color: #434B5C;\n",
              "      box-shadow: 0px 1px 3px 1px rgba(0, 0, 0, 0.15);\n",
              "      filter: drop-shadow(0px 1px 2px rgba(0, 0, 0, 0.3));\n",
              "      fill: #FFFFFF;\n",
              "    }\n",
              "  </style>\n",
              "\n",
              "      <script>\n",
              "        const buttonEl =\n",
              "          document.querySelector('#df-7c8847b3-bff0-4bd1-9887-243e9e50684a button.colab-df-convert');\n",
              "        buttonEl.style.display =\n",
              "          google.colab.kernel.accessAllowed ? 'block' : 'none';\n",
              "\n",
              "        async function convertToInteractive(key) {\n",
              "          const element = document.querySelector('#df-7c8847b3-bff0-4bd1-9887-243e9e50684a');\n",
              "          const dataTable =\n",
              "            await google.colab.kernel.invokeFunction('convertToInteractive',\n",
              "                                                     [key], {});\n",
              "          if (!dataTable) return;\n",
              "\n",
              "          const docLinkHtml = 'Like what you see? Visit the ' +\n",
              "            '<a target=\"_blank\" href=https://colab.research.google.com/notebooks/data_table.ipynb>data table notebook</a>'\n",
              "            + ' to learn more about interactive tables.';\n",
              "          element.innerHTML = '';\n",
              "          dataTable['output_type'] = 'display_data';\n",
              "          await google.colab.output.renderOutput(dataTable, element);\n",
              "          const docLink = document.createElement('div');\n",
              "          docLink.innerHTML = docLinkHtml;\n",
              "          element.appendChild(docLink);\n",
              "        }\n",
              "      </script>\n",
              "    </div>\n",
              "  </div>\n",
              "  "
            ]
          },
          "metadata": {},
          "execution_count": 78
        }
      ],
      "source": [
        "feature_matrix3.head()"
      ]
    },
    {
      "cell_type": "markdown",
      "metadata": {
        "id": "0afrNeNNe7mZ"
      },
      "source": [
        "**Build the new models more transform and aggregate features**"
      ]
    },
    {
      "cell_type": "code",
      "execution_count": null,
      "metadata": {
        "ExecuteTime": {
          "end_time": "2021-07-09T11:14:41.627956Z",
          "start_time": "2021-07-09T11:14:07.052570Z"
        },
        "id": "UcgyBZt6e7mZ"
      },
      "outputs": [],
      "source": [
        "# Separates the whole feature matrix into train data feature matrix,train data labels, and test data feature matrix \n",
        "X_train3, y_train3, X_test3, y_test3 = get_train_test_fm(feature_matrix3,.75)\n",
        "y_train3 = np.sqrt(y_train3)\n",
        "y_test3 = np.sqrt(y_test3)"
      ]
    },
    {
      "cell_type": "markdown",
      "metadata": {
        "id": "XtM-JGGFe7mZ"
      },
      "source": [
        "### **Question 6.3 Building  Linear regression model with transform and aggregate primitive.**"
      ]
    },
    {
      "cell_type": "code",
      "execution_count": null,
      "metadata": {
        "id": "06HEmSFae7mZ",
        "colab": {
          "base_uri": "https://localhost:8080/"
        },
        "outputId": "3064ba96-2862-415b-9c23-7756c8ca978d"
      },
      "outputs": [
        {
          "output_type": "execute_result",
          "data": {
            "text/plain": [
              "LinearRegression()"
            ]
          },
          "metadata": {},
          "execution_count": 80
        }
      ],
      "source": [
        "# Defining the model\n",
        "lr3=LinearRegression()\n",
        "\n",
        "# Fitting the model\n",
        "lr3.fit(X_train3,y_train3)"
      ]
    },
    {
      "cell_type": "markdown",
      "metadata": {
        "id": "b4PZhtmVe7mZ"
      },
      "source": [
        "#### **Check the performance of the model**"
      ]
    },
    {
      "cell_type": "code",
      "execution_count": null,
      "metadata": {
        "id": "o8Qg-7wse7mZ",
        "colab": {
          "base_uri": "https://localhost:8080/"
        },
        "outputId": "609faf78-c4d6-4a1d-dc2b-adf9f2f9c189"
      },
      "outputs": [
        {
          "output_type": "stream",
          "name": "stdout",
          "text": [
            "    Data  RSquared      RMSE       MAE\n",
            "0  Train  0.618912  5.599634  4.313373\n",
            "1   Test  0.502523  6.945563  5.174276\n"
          ]
        }
      ],
      "source": [
        "model_pref(lr3, X_train3, X_test3,y_train3,y_test3)  "
      ]
    },
    {
      "cell_type": "markdown",
      "metadata": {
        "id": "DlRMdBYde7ma"
      },
      "source": [
        "**Write your answers here: \n",
        "Model is giving only 0.50 Rsquared, with RSME of 5.6 and MAE of ~4.3\n",
        "Model is not overfitting, and giving generalized results.**"
      ]
    },
    {
      "cell_type": "markdown",
      "metadata": {
        "id": "PH_G7hUAe7ma"
      },
      "source": [
        "### **Question 6.4 Building  Decision tree with transform and aggregate primitive.**"
      ]
    },
    {
      "cell_type": "code",
      "execution_count": null,
      "metadata": {
        "id": "ttvA8pwfe7ma",
        "colab": {
          "base_uri": "https://localhost:8080/"
        },
        "outputId": "62069417-1709-40bf-8079-9539f2281b52"
      },
      "outputs": [
        {
          "output_type": "execute_result",
          "data": {
            "text/plain": [
              "DecisionTreeRegressor()"
            ]
          },
          "metadata": {},
          "execution_count": 82
        }
      ],
      "source": [
        "# Define the model\n",
        "dt3=DecisionTreeRegressor()\n",
        "\n",
        "# Fit the model\n",
        "\n",
        "dt3.fit(X_train3,y_train3)"
      ]
    },
    {
      "cell_type": "markdown",
      "metadata": {
        "id": "6H03hde6e7ma"
      },
      "source": [
        "#### **Check the performance of the model**"
      ]
    },
    {
      "cell_type": "code",
      "execution_count": null,
      "metadata": {
        "id": "JPVONnj5e7ma",
        "colab": {
          "base_uri": "https://localhost:8080/"
        },
        "outputId": "02fbb89c-0e66-494e-d686-b9e96d388b11"
      },
      "outputs": [
        {
          "output_type": "stream",
          "name": "stdout",
          "text": [
            "    Data  RSquared      RMSE       MAE\n",
            "0  Train  0.999996  0.017617  0.000108\n",
            "1   Test  0.549236  6.611431  4.886171\n"
          ]
        }
      ],
      "source": [
        "model_pref(dt3, X_train3, X_test3,y_train3,y_test3)  "
      ]
    },
    {
      "cell_type": "markdown",
      "metadata": {
        "id": "UJkM4HYDe7ma"
      },
      "source": [
        "**Write your answers here:\n",
        "The model is overfitting a lot, with train R2 as 0.999 while test R2 as 0.54\n",
        "This generally happens in decision tree, one solution for this is to Prune the decision tree, let's try pruning and see if the performance improves.**"
      ]
    },
    {
      "cell_type": "markdown",
      "metadata": {
        "id": "6zt_JAeEe7ma"
      },
      "source": [
        "### **Question 6.5 Building  Pruned Decision tree with transform and aggregate primitive.**"
      ]
    },
    {
      "cell_type": "code",
      "execution_count": null,
      "metadata": {
        "id": "1FHjusxse7mb",
        "colab": {
          "base_uri": "https://localhost:8080/"
        },
        "outputId": "e0a6f47e-2da0-44a8-dabe-9a9e8a11f61d"
      },
      "outputs": [
        {
          "output_type": "execute_result",
          "data": {
            "text/plain": [
              "DecisionTreeRegressor(max_depth=7)"
            ]
          },
          "metadata": {},
          "execution_count": 84
        }
      ],
      "source": [
        "# Define the model\n",
        "\n",
        "# Use max_depth=7\n",
        "dt_pruned3=DecisionTreeRegressor(max_depth=7)\n",
        "\n",
        "# Fit the model\n",
        "dt_pruned3.fit(X_train3,y_train3)"
      ]
    },
    {
      "cell_type": "markdown",
      "metadata": {
        "id": "aJaMpwRRe7mb"
      },
      "source": [
        "#### **Check the performance of the model**"
      ]
    },
    {
      "cell_type": "code",
      "execution_count": null,
      "metadata": {
        "id": "cSJ7UuO5e7mb",
        "colab": {
          "base_uri": "https://localhost:8080/"
        },
        "outputId": "bcabc258-0b96-42b7-da93-f93acd027678"
      },
      "outputs": [
        {
          "output_type": "stream",
          "name": "stdout",
          "text": [
            "    Data  RSquared      RMSE       MAE\n",
            "0  Train  0.784331  4.212509  3.157483\n",
            "1   Test  0.676993  5.596638  4.003587\n"
          ]
        }
      ],
      "source": [
        "model_pref(dt_pruned3, X_train3, X_test3,y_train3,y_test3)  "
      ]
    },
    {
      "cell_type": "markdown",
      "metadata": {
        "id": "HABgyjYre7mb"
      },
      "source": [
        "**Write your answers here:\n",
        "Model is giving ~0.67 Rsquared, with RSME of 4.2 and MAE of ~3.2.\n",
        "The model performance has not improved by adding aggregate primitives.\n",
        "Model is overfitting, and is not giving generalized results.**\n"
      ]
    },
    {
      "cell_type": "markdown",
      "metadata": {
        "id": "WjnDm0zBe7mb"
      },
      "source": [
        "### **Question 6.6 Building  Random Forest with transform and aggregate primitive.**"
      ]
    },
    {
      "cell_type": "code",
      "execution_count": null,
      "metadata": {
        "id": "IsGv4oFFe7mb",
        "colab": {
          "base_uri": "https://localhost:8080/"
        },
        "outputId": "547567ff-8b32-4859-fb09-8d0e47d323e3"
      },
      "outputs": [
        {
          "output_type": "execute_result",
          "data": {
            "text/plain": [
              "RandomForestRegressor(max_depth=7, n_estimators=60)"
            ]
          },
          "metadata": {},
          "execution_count": 88
        }
      ],
      "source": [
        "# Fit the model\n",
        "\n",
        "\n",
        "# Using (n_estimators=60,max_depth=7)\n",
        "\n",
        "rf3=RandomForestRegressor(n_estimators=60,max_depth=7)\n",
        "\n",
        "# Fit the model\n",
        "\n",
        "\n",
        "rf3.fit(X_train3,y_train3)"
      ]
    },
    {
      "cell_type": "markdown",
      "metadata": {
        "id": "SyjbY3ile7mb"
      },
      "source": [
        "#### **Check the performance of the model**"
      ]
    },
    {
      "cell_type": "code",
      "execution_count": null,
      "metadata": {
        "scrolled": true,
        "id": "4Zd6mGsMe7mb",
        "colab": {
          "base_uri": "https://localhost:8080/"
        },
        "outputId": "d0f7578a-96cd-4ac6-90a4-eae04ab4672b"
      },
      "outputs": [
        {
          "output_type": "stream",
          "name": "stdout",
          "text": [
            "    Data  RSquared      RMSE       MAE\n",
            "0  Train  0.798210  4.074715  3.048134\n",
            "1   Test  0.691466  5.469812  3.891186\n"
          ]
        }
      ],
      "source": [
        "model_pref(rf3, X_train3, X_test3,y_train3,y_test3)  "
      ]
    },
    {
      "cell_type": "markdown",
      "metadata": {
        "id": "OtIt8r8Xe7mb"
      },
      "source": [
        "**Write your answers here:\n",
        "The model Performance has improved from ~0.69 by the addition of transform and aggregation features.**\n",
        "\n"
      ]
    },
    {
      "cell_type": "markdown",
      "metadata": {
        "id": "AFrogonqe7mb"
      },
      "source": [
        "### **Question 6.7 How do these aggregate transforms impact performance? How do they impact training time?**"
      ]
    },
    {
      "cell_type": "markdown",
      "metadata": {
        "id": "vWwoOh-Ve7mc"
      },
      "source": [
        "**Write your answers here:\n",
        "The modeling score has not improved much after adding aggregate transforms, and also the training time was also increased by a significant amount, implies that adding more features is always not very effective.**"
      ]
    },
    {
      "cell_type": "markdown",
      "metadata": {
        "id": "Ejvwh7w1e7mc"
      },
      "source": [
        "**Based on the above 3 models, we can make predictions using our model2, as it is giving almost same accuracy as model3 and also the training time is not that large as compared to model3**"
      ]
    },
    {
      "cell_type": "code",
      "execution_count": null,
      "metadata": {
        "ExecuteTime": {
          "end_time": "2021-07-09T11:23:07.091360Z",
          "start_time": "2021-07-09T11:23:06.179570Z"
        },
        "scrolled": true,
        "id": "eP9s4JMVe7mc",
        "colab": {
          "base_uri": "https://localhost:8080/"
        },
        "outputId": "f0b5c4b3-c67e-438a-9bcb-cd15f8fc65a2"
      },
      "outputs": [
        {
          "output_type": "execute_result",
          "data": {
            "text/plain": [
              "array([ 734.13381542,  740.54830937,  180.67718892, ...,  400.02401148,\n",
              "        401.29170272, 2356.39129545])"
            ]
          },
          "metadata": {},
          "execution_count": 90
        }
      ],
      "source": [
        "y_pred = rf2.predict(X_test2)\n",
        "y_pred = y_pred**2 # Undo the sqrt we took earlier\n",
        "y_pred[5:]"
      ]
    },
    {
      "cell_type": "markdown",
      "metadata": {
        "id": "UvcBLbfVe7mc"
      },
      "source": [
        "### **Question 7: What are some important features based on `model2` and how can they affect the duration of the rides? (3 Marks)**"
      ]
    },
    {
      "cell_type": "code",
      "execution_count": null,
      "metadata": {
        "ExecuteTime": {
          "end_time": "2021-07-09T11:23:15.953274Z",
          "start_time": "2021-07-09T11:23:15.813531Z"
        },
        "scrolled": true,
        "id": "JMKUz4C9e7mc",
        "colab": {
          "base_uri": "https://localhost:8080/"
        },
        "outputId": "47ce9fb0-d9b8-4c64-c4ff-e55b15525b4c"
      },
      "outputs": [
        {
          "output_type": "stream",
          "name": "stdout",
          "text": [
            "1: Feature: trip_distance, 0.914\n",
            "2: Feature: HOUR(pickup_datetime), 0.056\n",
            "3: Feature: dropoff_neighborhoods.latitude, 0.009\n",
            "4: Feature: DAY(pickup_datetime), 0.006\n",
            "5: Feature: WEEKDAY(pickup_datetime), 0.005\n",
            "6: Feature: pickup_neighborhoods.longitude, 0.003\n",
            "7: Feature: IS_WEEKEND(pickup_datetime), 0.002\n",
            "8: Feature: payment_type, 0.002\n",
            "9: Feature: dropoff_neighborhoods.longitude, 0.002\n",
            "10: Feature: pickup_neighborhoods.latitude, 0.001\n"
          ]
        }
      ],
      "source": [
        "feature_importances(rf2, feature_matrix2.drop(['trip_duration'],axis=1).columns, n=10)"
      ]
    },
    {
      "cell_type": "markdown",
      "metadata": {
        "id": "h-YKsISge7mc"
      },
      "source": [
        "**Write your answers here:\n",
        "Trip_Distance is the most important feature, which implies that the longer the trip is the longer duration of the trip is.\n",
        "Features like dropoff_neighborhoods.longitude, pickup_neighborhoods.longitude, dropoff_neighborhoods.latitude,pickup_neighborhoods.latitude signifies that trip duration is impacted by pickup and dropoff locations.**"
      ]
    },
    {
      "cell_type": "code",
      "source": [
        "%%shell\n",
        "jupyter nbconvert --to html /content/ManishSeal_PredictiveAnalysis.ipynb"
      ],
      "metadata": {
        "colab": {
          "base_uri": "https://localhost:8080/"
        },
        "id": "cFmy2tyXeGUw",
        "outputId": "a7134fe3-e082-461f-ea6a-2386a28e5376"
      },
      "execution_count": null,
      "outputs": [
        {
          "output_type": "stream",
          "name": "stdout",
          "text": [
            "[NbConvertApp] Converting notebook /content/ManishSeal_PredictiveAnalysis.ipynb to html\n",
            "/usr/local/lib/python3.7/dist-packages/nbconvert/filters/datatypefilter.py:41: UserWarning: Your element with mimetype(s) dict_keys(['application/vnd.colab-display-data+json']) is not able to be represented.\n",
            "  mimetypes=output.keys())\n",
            "[NbConvertApp] Writing 714731 bytes to /content/ManishSeal_PredictiveAnalysis.html\n"
          ]
        },
        {
          "output_type": "execute_result",
          "data": {
            "text/plain": []
          },
          "metadata": {},
          "execution_count": 92
        }
      ]
    },
    {
      "cell_type": "code",
      "source": [],
      "metadata": {
        "id": "2RIGJLSOeLid"
      },
      "execution_count": null,
      "outputs": []
    }
  ],
  "metadata": {
    "kernelspec": {
      "display_name": "Python 3 (ipykernel)",
      "language": "python",
      "name": "python3"
    },
    "language_info": {
      "codemirror_mode": {
        "name": "ipython",
        "version": 3
      },
      "file_extension": ".py",
      "mimetype": "text/x-python",
      "name": "python",
      "nbconvert_exporter": "python",
      "pygments_lexer": "ipython3",
      "version": "3.8.12"
    },
    "toc": {
      "base_numbering": 1,
      "nav_menu": {},
      "number_sections": true,
      "sideBar": true,
      "skip_h1_title": false,
      "title_cell": "Table of Contents",
      "title_sidebar": "Contents",
      "toc_cell": false,
      "toc_position": {},
      "toc_section_display": true,
      "toc_window_display": false
    },
    "varInspector": {
      "cols": {
        "lenName": 16,
        "lenType": 16,
        "lenVar": 40
      },
      "kernels_config": {
        "python": {
          "delete_cmd_postfix": "",
          "delete_cmd_prefix": "del ",
          "library": "var_list.py",
          "varRefreshCmd": "print(var_dic_list())"
        },
        "r": {
          "delete_cmd_postfix": ") ",
          "delete_cmd_prefix": "rm(",
          "library": "var_list.r",
          "varRefreshCmd": "cat(var_dic_list()) "
        }
      },
      "types_to_exclude": [
        "module",
        "function",
        "builtin_function_or_method",
        "instance",
        "_Feature"
      ],
      "window_display": false
    },
    "colab": {
      "provenance": [],
      "collapsed_sections": [],
      "include_colab_link": true
    }
  },
  "nbformat": 4,
  "nbformat_minor": 0
}